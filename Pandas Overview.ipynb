{
 "cells": [
  {
   "cell_type": "markdown",
   "metadata": {},
   "source": [
    "<img src=\"http://pandas.pydata.org/_static/pandas_logo.png\">\n",
    "<h1> Pandas: A Fundamental Data Science Tool for Python</h1>\n",
    "<p> Pandas is an opensource library for easy to use data structures and data analysis tools for Python. This notebook will demonstrate basic Pandas API. Pandas is very similiar to a headless version of a spreadsheet. The fundamental dataset that is used in Pandas is called a dataframe. Dataframes are just like spreadsheets except Pandas allows us to perform operations on these dataframes very quickly and efficiently, including input and output.</p>\n",
    "<p>Furthermore, Pandas is also compatible with many other data analysis libraries such as Numpy, which it uses, Matplotlib for graphing, and Scikit-Learn for machine learning. </p>"
   ]
  },
  {
   "cell_type": "markdown",
   "metadata": {},
   "source": [
    "<h3> 1) First, let's import </h3>\n",
    "<p> Importing pandas as pd is the standard. </p>"
   ]
  },
  {
   "cell_type": "code",
   "execution_count": 33,
   "metadata": {
    "collapsed": true
   },
   "outputs": [],
   "source": [
    "import pandas as pd"
   ]
  },
  {
   "cell_type": "markdown",
   "metadata": {},
   "source": [
    "<h3> 2) Basic I/O and Dataframes</h3>\n",
    "<p> The pandas I/O API is a set of top level reader functions accessed like pd.read_csv() that generally return a pandas object. Fortunately, Pandas supports a wide variety of data formats including csv, HTML, excel, sql, json, and more. This makes I/O incredibly quick and easy.</p>"
   ]
  },
  {
   "cell_type": "markdown",
   "metadata": {},
   "source": [
    "<h4> &nbsp;&nbsp;&nbsp;&nbsp;&nbsp;&nbsp;&nbsp;&nbsp;a) Input </h4>"
   ]
  },
  {
   "cell_type": "code",
   "execution_count": 38,
   "metadata": {
    "collapsed": false,
    "scrolled": true
   },
   "outputs": [
    {
     "name": "stdout",
     "output_type": "stream",
     "text": [
      "   first_name last_name birth_date  age   birth_city birth_state  \\\n",
      "id                                                                 \n",
      "1       Diane     Lewis    8/19/15  102  Spartanburg          SC   \n",
      "2    Margaret   Russell    3/25/32   85        Omaha          NE   \n",
      "3   Christina  Morrison    4/13/35   82      Houston          TX   \n",
      "4       Henry      Hart   11/13/27   89       Camden          NJ   \n",
      "5    Kimberly   Collins    9/30/62   54     Portland          OR   \n",
      "\n",
      "   residence_city residence_state diagnosis_code diagnosis_date  \\\n",
      "id                                                                \n",
      "1          Dallas              TX          M0760       12/18/56   \n",
      "2          Joliet              IL        S52513S         9/9/89   \n",
      "3        Muskegon              MI          S2589        7/29/08   \n",
      "4          Orange              CA        T410X6S       12/27/08   \n",
      "5         Roanoke              VA         T22711       10/18/99   \n",
      "\n",
      "    diagnosis_age procedure_code  diagnosis_category  \n",
      "id                                                    \n",
      "1              41        041F0JK                  13  \n",
      "2              57        0QPHX4Z                   4  \n",
      "3              73        05HP3DZ                  16  \n",
      "4              81        2W6UXZZ                  11  \n",
      "5              37        03B60ZX                  24  \n"
     ]
    }
   ],
   "source": [
    "df = pd.read_csv('MOCK_PATIENT_DATA.csv') \n",
    "df.set_index('id', inplace = True)\n",
    "print(df.head()) \n",
    "\n",
    "# .head() allows one to quickly visualize the first 5 rows.\n",
    "# Since our csv has many columns, the dataframe will print on multiple lines. "
   ]
  },
  {
   "cell_type": "markdown",
   "metadata": {},
   "source": [
    "<h4> &nbsp;&nbsp;&nbsp;&nbsp;&nbsp;&nbsp;&nbsp;&nbsp;a) Output </h4>"
   ]
  },
  {
   "cell_type": "code",
   "execution_count": 3,
   "metadata": {
    "collapsed": false
   },
   "outputs": [
    {
     "name": "stdout",
     "output_type": "stream",
     "text": [
      "   first_name last_name\n",
      "id                     \n",
      "1       Diane     Lewis\n",
      "2    Margaret   Russell\n",
      "3   Christina  Morrison\n",
      "4       Henry      Hart\n",
      "5    Kimberly   Collins\n"
     ]
    }
   ],
   "source": [
    "df[['first_name', 'last_name']].to_csv('patient_names.csv')\n",
    "patients = pd.read_csv('patient_names.csv')\n",
    "patients.set_index(['id'], inplace=True)\n",
    "print(patients.head())"
   ]
  },
  {
   "cell_type": "code",
   "execution_count": 4,
   "metadata": {
    "collapsed": false
   },
   "outputs": [],
   "source": [
    "patients.to_html('patient_names.html')"
   ]
  },
  {
   "cell_type": "markdown",
   "metadata": {},
   "source": [
    "<p> This shows how easy it is to convert to other formats, such as html. The code above will save an html to the current directory the notebook is in. </p>"
   ]
  },
  {
   "cell_type": "markdown",
   "metadata": {},
   "source": [
    "<h3> 2) Basic Plotting</h3>\n",
    "<p> Pandas interfaces streamlessly with many data science tools including MatPlotLib. MatPlotLib is one of the fundamental data visualization tools as demonstrated below. </p>"
   ]
  },
  {
   "cell_type": "code",
   "execution_count": 5,
   "metadata": {
    "collapsed": true
   },
   "outputs": [],
   "source": [
    "import matplotlib.pyplot as plt\n",
    "from matplotlib import style\n",
    "\n",
    "#style.use('fivethirtyeight')  # matplotlib allos us to choose basic styling. "
   ]
  },
  {
   "cell_type": "code",
   "execution_count": 11,
   "metadata": {
    "collapsed": false
   },
   "outputs": [
    {
     "data": {
      "image/png": "[encoded data removed]",
      "text/plain": [
       "<matplotlib.figure.Figure at 0x10f113b38>"
      ]
     },
     "metadata": {},
     "output_type": "display_data"
    }
   ],
   "source": [
    "plt.hist(df[\"age\"])\n",
    "plt.title(\"Age of Patients\")\n",
    "plt.xlabel('Age')\n",
    "plt.ylabel('Quantity')\n",
    "plt.show()"
   ]
  },
  {
   "cell_type": "markdown",
   "metadata": {
    "collapsed": true
   },
   "source": [
    "<h3> 2) Basic Functionality</h3>\n",
    "<p> Pandas has a large set of APIs with many different functions and operations one can use on data frames to manipulate, view, and visualize data. Here are just a few of the powerful APIs within Pandas.</p>"
   ]
  },
  {
   "cell_type": "markdown",
   "metadata": {
    "collapsed": true
   },
   "source": [
    "<h4> &nbsp;&nbsp;&nbsp;&nbsp;&nbsp;&nbsp;&nbsp;&nbsp;Determine the number of rows and columns in the dataset. </h4>"
   ]
  },
  {
   "cell_type": "code",
   "execution_count": 13,
   "metadata": {
    "collapsed": false
   },
   "outputs": [
    {
     "data": {
      "text/plain": [
       "(100, 13)"
      ]
     },
     "execution_count": 13,
     "metadata": {},
     "output_type": "execute_result"
    }
   ],
   "source": [
    "df.shape"
   ]
  },
  {
   "cell_type": "markdown",
   "metadata": {
    "collapsed": true
   },
   "source": [
    "<h4> &nbsp;&nbsp;&nbsp;&nbsp;&nbsp;&nbsp;&nbsp;&nbsp;Get the names of the columns.</h4>"
   ]
  },
  {
   "cell_type": "code",
   "execution_count": 15,
   "metadata": {
    "collapsed": false
   },
   "outputs": [
    {
     "data": {
      "text/plain": [
       "Index(['first_name', 'last_name', 'birth_date', 'age', 'birth_city',\n",
       "       'birth_state', 'residence_city', 'residence_state', 'diagnosis_code',\n",
       "       'diagnosis_date', 'diagnosis_age', 'procedure_code',\n",
       "       'diagnosis_category'],\n",
       "      dtype='object')"
      ]
     },
     "execution_count": 15,
     "metadata": {},
     "output_type": "execute_result"
    }
   ],
   "source": [
    "df.columns"
   ]
  },
  {
   "cell_type": "markdown",
   "metadata": {
    "collapsed": true
   },
   "source": [
    "<h4> &nbsp;&nbsp;&nbsp;&nbsp;&nbsp;&nbsp;&nbsp;&nbsp;Get the first five rows of a column by name.</h4>"
   ]
  },
  {
   "cell_type": "code",
   "execution_count": 16,
   "metadata": {
    "collapsed": false
   },
   "outputs": [
    {
     "data": {
      "text/plain": [
       "id\n",
       "1      M0760\n",
       "2    S52513S\n",
       "3      S2589\n",
       "4    T410X6S\n",
       "5     T22711\n",
       "Name: diagnosis_code, dtype: object"
      ]
     },
     "execution_count": 16,
     "metadata": {},
     "output_type": "execute_result"
    }
   ],
   "source": [
    "df['diagnosis_code'][:5]"
   ]
  },
  {
   "cell_type": "markdown",
   "metadata": {
    "collapsed": true
   },
   "source": [
    "<h4> &nbsp;&nbsp;&nbsp;&nbsp;&nbsp;&nbsp;&nbsp;&nbsp;Look at the value counts of columns</h4>"
   ]
  },
  {
   "cell_type": "code",
   "execution_count": 23,
   "metadata": {
    "collapsed": false
   },
   "outputs": [
    {
     "data": {
      "text/plain": [
       "TX    12\n",
       "CA    11\n",
       "FL     7\n",
       "NY     6\n",
       "GA     4\n",
       "DC     4\n",
       "TN     4\n",
       "VA     4\n",
       "MI     4\n",
       "AK     3\n",
       "PA     3\n",
       "MA     3\n",
       "CT     3\n",
       "MD     2\n",
       "KY     2\n",
       "WA     2\n",
       "CO     2\n",
       "IL     2\n",
       "AZ     2\n",
       "NC     2\n",
       "OH     2\n",
       "MO     2\n",
       "SC     2\n",
       "MN     2\n",
       "UT     2\n",
       "LA     2\n",
       "MS     1\n",
       "IN     1\n",
       "DE     1\n",
       "AL     1\n",
       "OK     1\n",
       "NM     1\n",
       "Name: residence_state, dtype: int64"
      ]
     },
     "execution_count": 23,
     "metadata": {},
     "output_type": "execute_result"
    }
   ],
   "source": [
    "residence_state = df['residence_state']\n",
    "residence_state.value_counts()"
   ]
  },
  {
   "cell_type": "markdown",
   "metadata": {},
   "source": [
    "<h4> &nbsp;&nbsp;&nbsp;&nbsp;&nbsp;&nbsp;&nbsp;&nbsp; Sort the data by a specific column.</h4>"
   ]
  },
  {
   "cell_type": "code",
   "execution_count": 25,
   "metadata": {
    "collapsed": false
   },
   "outputs": [
    {
     "data": {
      "text/plain": [
       "id\n",
       "12        Adams\n",
       "73      Alvarez\n",
       "16      Andrews\n",
       "48    Armstrong\n",
       "57    Armstrong\n",
       "Name: last_name, dtype: object"
      ]
     },
     "execution_count": 25,
     "metadata": {},
     "output_type": "execute_result"
    }
   ],
   "source": [
    "df['last_name'].sort_values()[:5]"
   ]
  },
  {
   "cell_type": "markdown",
   "metadata": {},
   "source": [
    "<h4> &nbsp;&nbsp;&nbsp;&nbsp;&nbsp;&nbsp;&nbsp;&nbsp;Return descriptive statistics of the dataset.</h4>"
   ]
  },
  {
   "cell_type": "code",
   "execution_count": 27,
   "metadata": {
    "collapsed": false
   },
   "outputs": [
    {
     "data": {
      "text/html": [
       "<div>\n",
       "<table border=\"1\" class=\"dataframe\">\n",
       "  <thead>\n",
       "    <tr style=\"text-align: right;\">\n",
       "      <th></th>\n",
       "      <th>age</th>\n",
       "      <th>diagnosis_age</th>\n",
       "      <th>diagnosis_category</th>\n",
       "    </tr>\n",
       "  </thead>\n",
       "  <tbody>\n",
       "    <tr>\n",
       "      <th>count</th>\n",
       "      <td>100.000000</td>\n",
       "      <td>100.000000</td>\n",
       "      <td>100.000000</td>\n",
       "    </tr>\n",
       "    <tr>\n",
       "      <th>mean</th>\n",
       "      <td>71.150000</td>\n",
       "      <td>37.330000</td>\n",
       "      <td>12.720000</td>\n",
       "    </tr>\n",
       "    <tr>\n",
       "      <th>std</th>\n",
       "      <td>20.847389</td>\n",
       "      <td>22.977396</td>\n",
       "      <td>7.427875</td>\n",
       "    </tr>\n",
       "    <tr>\n",
       "      <th>min</th>\n",
       "      <td>38.000000</td>\n",
       "      <td>0.000000</td>\n",
       "      <td>1.000000</td>\n",
       "    </tr>\n",
       "    <tr>\n",
       "      <th>25%</th>\n",
       "      <td>52.750000</td>\n",
       "      <td>19.000000</td>\n",
       "      <td>6.000000</td>\n",
       "    </tr>\n",
       "    <tr>\n",
       "      <th>50%</th>\n",
       "      <td>70.500000</td>\n",
       "      <td>37.000000</td>\n",
       "      <td>13.000000</td>\n",
       "    </tr>\n",
       "    <tr>\n",
       "      <th>75%</th>\n",
       "      <td>90.000000</td>\n",
       "      <td>57.000000</td>\n",
       "      <td>19.000000</td>\n",
       "    </tr>\n",
       "    <tr>\n",
       "      <th>max</th>\n",
       "      <td>105.000000</td>\n",
       "      <td>91.000000</td>\n",
       "      <td>26.000000</td>\n",
       "    </tr>\n",
       "  </tbody>\n",
       "</table>\n",
       "</div>"
      ],
      "text/plain": [
       "              age  diagnosis_age  diagnosis_category\n",
       "count  100.000000     100.000000          100.000000\n",
       "mean    71.150000      37.330000           12.720000\n",
       "std     20.847389      22.977396            7.427875\n",
       "min     38.000000       0.000000            1.000000\n",
       "25%     52.750000      19.000000            6.000000\n",
       "50%     70.500000      37.000000           13.000000\n",
       "75%     90.000000      57.000000           19.000000\n",
       "max    105.000000      91.000000           26.000000"
      ]
     },
     "execution_count": 27,
     "metadata": {},
     "output_type": "execute_result"
    }
   ],
   "source": [
    "df.describe()"
   ]
  },
  {
   "cell_type": "markdown",
   "metadata": {
    "collapsed": true
   },
   "source": [
    "For \"Basic Functionality\", these examples are based on examples from <a src=\"http://wavedatalab.github.io/datawithpython/munge.html\">WaveDataLab under this <a src=\"https://creativecommons.org/licenses/by-nc/4.0/\">Creative Commons"
   ]
  },
  {
   "cell_type": "code",
   "execution_count": null,
   "metadata": {
    "collapsed": true
   },
   "outputs": [],
   "source": []
  }
 ],
 "metadata": {
  "kernelspec": {
   "display_name": "Python 3",
   "language": "python",
   "name": "python3"
  },
  "language_info": {
   "codemirror_mode": {
    "name": "ipython",
    "version": 3
   },
   "file_extension": ".py",
   "mimetype": "text/x-python",
   "name": "python",
   "nbconvert_exporter": "python",
   "pygments_lexer": "ipython3",
   "version": "3.6.0"
  }
 },
 "nbformat": 4,
 "nbformat_minor": 2
}

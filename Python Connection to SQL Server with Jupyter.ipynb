{
 "cells": [
  {
   "cell_type": "markdown",
   "metadata": {},
   "source": [
    "# Python Connection to SQL Server with Jupyter\n",
    "\n",
    "### Install Dependencies\n",
    "<ul>\n",
    "    <li> <b>FreeTDS</b> is is a set of libraries that allows programs to natively talk to Microsoft SQL Server databases. It’s what we usually call a driver.</li>\n",
    "   <li> <b>UnixODBC</b> acts as a driver manager and is the implementation of the ODBC API.</li>\n",
    "    <li><b>pyodbc </b>is a Python 2.x and 3.x module that allows you to use ODBC to connect to almost any database.</li>\n",
    "</ul>\n",
    "\n",
    "In depth guide [here](https://tryolabs.com/blog/2012/06/25/connecting-sql-server-database-python-under-ubuntu/)\n"
   ]
  },
  {
   "cell_type": "code",
   "execution_count": 1,
   "metadata": {
    "collapsed": false
   },
   "outputs": [],
   "source": [
    "import pyodbc"
   ]
  },
  {
   "cell_type": "markdown",
   "metadata": {},
   "source": [
    "### Set up cnxn (connection) and cursor"
   ]
  },
  {
   "cell_type": "code",
   "execution_count": 10,
   "metadata": {
    "collapsed": false
   },
   "outputs": [],
   "source": [
    "dsn = 'sqlserverdatasource'\n",
    "user = 'SA'\n",
    "password = 'SQL73s71ng'\n",
    "database = 'testdb'\n",
    "con_string = 'DSN=%s;UID=%s;PWD=%s;DATABASE=%s;' % (dsn, user, password, database)\n",
    "\n",
    "# cnxn and cursor\n",
    "cnxn = pyodbc.connect(con_string)\n",
    "cursor = cnxn.cursor()"
   ]
  },
  {
   "cell_type": "markdown",
   "metadata": {},
   "source": [
    "### Cursor allows you to execute SQL statements"
   ]
  },
  {
   "cell_type": "code",
   "execution_count": 12,
   "metadata": {
    "collapsed": false
   },
   "outputs": [
    {
     "data": {
      "text/plain": [
       "<pyodbc.Cursor at 0x7fcddc1912d0>"
      ]
     },
     "execution_count": 12,
     "metadata": {},
     "output_type": "execute_result"
    }
   ],
   "source": [
    "cursor.execute(\"SELECT * FROM inventory WHERE quantity > 0;\")"
   ]
  },
  {
   "cell_type": "code",
   "execution_count": 13,
   "metadata": {
    "collapsed": false
   },
   "outputs": [
    {
     "name": "stdout",
     "output_type": "stream",
     "text": [
      "(1, 'banana', 150)\n"
     ]
    }
   ],
   "source": [
    "print(cursor.fetchone())"
   ]
  },
  {
   "cell_type": "code",
   "execution_count": null,
   "metadata": {
    "collapsed": true
   },
   "outputs": [],
   "source": []
  }
 ],
 "metadata": {
  "kernelspec": {
   "display_name": "Python 3",
   "language": "python",
   "name": "python3"
  },
  "language_info": {
   "codemirror_mode": {
    "name": "ipython",
    "version": 3
   },
   "file_extension": ".py",
   "mimetype": "text/x-python",
   "name": "python",
   "nbconvert_exporter": "python",
   "pygments_lexer": "ipython3",
   "version": "3.6.0"
  }
 },
 "nbformat": 4,
 "nbformat_minor": 2
}

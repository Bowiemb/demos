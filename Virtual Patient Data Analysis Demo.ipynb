{
 "cells": [
  {
   "cell_type": "markdown",
   "metadata": {},
   "source": [
    "<center><h1> Virtual Patient Data Analysis Demo</h1> </center>\n",
    "\n",
    "This Jupyter Notebook will serve as a live, high level demonstration of patient data analysis with virtual electronic medical records (EMR) through the inovative and powerful Jupyter platform. Not only will this notebook introduce the idea of Jupyter Notebooks as a Business Intelligence (BI) tool for data science projects, but also this notebook will serve as a foundation to discuss further data analysis applications. Moreover, this will also provide context for future notebooks that dig deeper into state-of-the-art data science tools. \n",
    "\n",
    "The goal of this demonstration is to show that when these open-source data science tools are used in unison, the beneficial applications of such are only limited by our imagination. \n",
    "\n",
    "<h2> Outline </h2>\n",
    "<ol>\n",
    "<li> Introduce the Idea of Jupyter Notebook as a BI tool for Data Science. </li>\n",
    "    <ol>\n",
    "    <li> Notebook Features.</li>\n",
    "    <li> Jupyter Workflow.</li>\n",
    "    </ol>\n",
    "<li> Virtual Patient Data Analysis Demo </li>\n",
    "    <ol>\n",
    "    <li> Load data from SQL </li>\n",
    "    <li> Inspect data </li>\n",
    "    <li> Clean data / Feature Engineering</li>\n",
    "    <li> Basic Analysis </li>\n",
    "        <ol>\n",
    "        <li> Create and Compare Cohorts </li>\n",
    "        <li> Visually represent data </li>\n",
    "        <li> Logistic Regression, Clustering, and Evolutionary Algorithms </li>\n",
    "        </ol>\n",
    "    </ol>\n",
    "<li> Demonstrate interactive widgets </li>\n",
    "<li> Demonstrate the polymorphic views of notebooks </li>\n",
    "    <ol>\n",
    "    <li> Creating reports </li>\n",
    "    <li> Displaying live code </li>\n",
    "    <li> Creating dashboards </li>\n",
    "    </ol>\n",
    "</ol>\n",
    "    "
   ]
  },
  {
   "cell_type": "markdown",
   "metadata": {},
   "source": [
    "<center>\n",
    "\n",
    "\n",
    "<h2>1) Jupyter Notebook: The BI Tool for Data Science</h2>\n",
    "</center>\n",
    "<br/>\n",
    "The Jupyter Notebook is an open-source web application that allows you to create and share documents that contain live code, equations, visualizations, reports, and explanatory text all in one place. Notebooks make it easier than ever to explore hypotheses, prototype, and collaborate on data science projects. \n",
    "\n",
    "One of Jupyter's most powerful features is that notebooks are \"live\". This allows for instant feedback and collaboration with all stakeholders from the programmer to the mathmatician to the business leader. \n",
    "\n",
    "\n",
    "\n",
    "<h3> Features: </h3>\n",
    "<ul>\n",
    "<li> live code </li>\n",
    "<li> explantatory text & video </li>\n",
    "<li> interactive widgets </li>\n",
    "<li> visualizations </li>\n",
    "<li> exploration </li>\n",
    "<li> simulation </li>\n",
    "<li> modeling </li>\n",
    "<li> machine learning </li>\n",
    "<li> production workflow </li>\n",
    "<li> shareable </li>\n",
    "<li> browser accessible </li>\n",
    "<li> FREE! </li>\n",
    "</ul>\n",
    "\n",
    "![](jupyter_workflow.png)\n",
    "\n",
    "\n",
    "\n"
   ]
  },
  {
   "cell_type": "markdown",
   "metadata": {
    "collapsed": true
   },
   "source": [
    "<center> <h2> 2) Virtual Patient Data Analysis Demo </h2> </center>"
   ]
  },
  {
   "cell_type": "markdown",
   "metadata": {},
   "source": [
    "<h3>Import dependencies: </h3>"
   ]
  },
  {
   "cell_type": "code",
   "execution_count": 705,
   "metadata": {
    "collapsed": false,
    "extensions": {
     "jupyter_dashboards": {
      "version": 1,
      "views": {
       "grid_default": {
        "hidden": true
       },
       "report_default": {
        "hidden": true
       }
      }
     }
    }
   },
   "outputs": [],
   "source": [
    "import pandas as pd\n",
    "%matplotlib inline\n",
    "import matplotlib.pyplot as plt\n",
    "import matplotlib.dates as md\n",
    "from matplotlib import style\n",
    "style.use('fivethirtyeight')\n",
    "import time\n",
    "import datetime\n",
    "import numpy as np\n",
    "import seaborn as sns\n",
    "\n",
    "# Visualisation\n",
    "import matplotlib as mpl\n",
    "import matplotlib.pylab as pylab\n",
    "import seaborn as sns\n",
    "\n",
    "# Configure visualisations\n",
    "%matplotlib inline\n",
    "mpl.style.use( 'ggplot' )\n",
    "sns.set_style( 'white' )\n",
    "pylab.rcParams[ 'figure.figsize' ] = 8 , 6"
   ]
  },
  {
   "cell_type": "markdown",
   "metadata": {},
   "source": [
    "<h3> Load Data </h3>"
   ]
  },
  {
   "cell_type": "code",
   "execution_count": 706,
   "metadata": {
    "collapsed": false,
    "extensions": {
     "jupyter_dashboards": {
      "version": 1,
      "views": {
       "grid_default": {
        "hidden": true
       },
       "report_default": {
        "hidden": true
       }
      }
     }
    }
   },
   "outputs": [],
   "source": [
    "# Set file paths\n",
    "patient_file = \"/Users/bwi/Documents/VA_Demo/100-patients/PatientCorePopulatedTable.txt\"\n",
    "admissions_file = \"/Users/bwi/Documents/VA_Demo/100-patients/AdmissionsCorePopulatedTable.txt\"\n",
    "diagnoses_file = \"/Users/bwi/Documents/VA_Demo/100-patients/AdmissionsDiagnosesCorePopulatedTable.txt\"\n",
    "labs_file = \"/Users/bwi/Documents/VA_Demo/100-patients/LabsCorePopulatedTable.txt\"\n",
    "\n",
    "# Read files into Dataframes\n",
    "patients = pd.read_csv(patient_file, sep=\"\\t\")\n",
    "admissions = pd.read_csv(admissions_file, sep=\"\\t\")\n",
    "diagnoses = pd.read_csv(diagnoses_file, sep=\"\\t\")\n",
    "labs = pd.read_csv(labs_file, sep=\"\\t\")\n",
    "\n",
    "# Create Dataframe copies for cleaning\n",
    "clean_patients = patients\n",
    "clean_admissions = admissions\n",
    "clean_diagnoses = diagnoses\n",
    "clean_labs = labs"
   ]
  },
  {
   "cell_type": "markdown",
   "metadata": {
    "extensions": {
     "jupyter_dashboards": {
      "version": 1,
      "views": {
       "grid_default": {
        "col": 0,
        "height": 4,
        "hidden": true,
        "row": 0,
        "width": 4
       },
       "report_default": {
        "hidden": false
       }
      }
     }
    }
   },
   "source": [
    "### Inspect Data"
   ]
  },
  {
   "cell_type": "code",
   "execution_count": 707,
   "metadata": {
    "collapsed": false,
    "extensions": {
     "jupyter_dashboards": {
      "version": 1,
      "views": {
       "grid_default": {
        "col": 0,
        "height": 17,
        "hidden": false,
        "row": 4,
        "width": 11
       },
       "report_default": {
        "hidden": false
       }
      }
     }
    }
   },
   "outputs": [
    {
     "data": {
      "text/html": [
       "<div>\n",
       "<table border=\"1\" class=\"dataframe\">\n",
       "  <thead>\n",
       "    <tr style=\"text-align: right;\">\n",
       "      <th></th>\n",
       "      <th>PatientID</th>\n",
       "      <th>PatientGender</th>\n",
       "      <th>PatientDateOfBirth</th>\n",
       "      <th>PatientRace</th>\n",
       "      <th>PatientMaritalStatus</th>\n",
       "      <th>PatientLanguage</th>\n",
       "      <th>PatientPopulationPercentageBelowPoverty</th>\n",
       "    </tr>\n",
       "  </thead>\n",
       "  <tbody>\n",
       "    <tr>\n",
       "      <th>0</th>\n",
       "      <td>FB2ABB23-C9D0-4D09-8464-49BF0B982F0F</td>\n",
       "      <td>Male</td>\n",
       "      <td>1947-12-28 02:45:40.547</td>\n",
       "      <td>Unknown</td>\n",
       "      <td>Married</td>\n",
       "      <td>Icelandic</td>\n",
       "      <td>18.08</td>\n",
       "    </tr>\n",
       "    <tr>\n",
       "      <th>1</th>\n",
       "      <td>64182B95-EB72-4E2B-BE77-8050B71498CE</td>\n",
       "      <td>Male</td>\n",
       "      <td>1952-01-18 19:51:12.917</td>\n",
       "      <td>African American</td>\n",
       "      <td>Separated</td>\n",
       "      <td>English</td>\n",
       "      <td>13.03</td>\n",
       "    </tr>\n",
       "    <tr>\n",
       "      <th>2</th>\n",
       "      <td>DB22A4D9-7E4D-485C-916A-9CD1386507FB</td>\n",
       "      <td>Female</td>\n",
       "      <td>1970-07-25 13:04:20.717</td>\n",
       "      <td>Asian</td>\n",
       "      <td>Married</td>\n",
       "      <td>English</td>\n",
       "      <td>6.67</td>\n",
       "    </tr>\n",
       "    <tr>\n",
       "      <th>3</th>\n",
       "      <td>6E70D84D-C75F-477C-BC37-9177C3698C66</td>\n",
       "      <td>Male</td>\n",
       "      <td>1979-01-04 05:45:29.580</td>\n",
       "      <td>White</td>\n",
       "      <td>Married</td>\n",
       "      <td>English</td>\n",
       "      <td>16.09</td>\n",
       "    </tr>\n",
       "    <tr>\n",
       "      <th>4</th>\n",
       "      <td>C8556CC0-32FC-4CA5-A8CD-9CCF38816167</td>\n",
       "      <td>Female</td>\n",
       "      <td>1921-04-11 11:39:49.197</td>\n",
       "      <td>White</td>\n",
       "      <td>Married</td>\n",
       "      <td>English</td>\n",
       "      <td>18.20</td>\n",
       "    </tr>\n",
       "  </tbody>\n",
       "</table>\n",
       "</div>"
      ],
      "text/plain": [
       "                              PatientID PatientGender  \\\n",
       "0  FB2ABB23-C9D0-4D09-8464-49BF0B982F0F          Male   \n",
       "1  64182B95-EB72-4E2B-BE77-8050B71498CE          Male   \n",
       "2  DB22A4D9-7E4D-485C-916A-9CD1386507FB        Female   \n",
       "3  6E70D84D-C75F-477C-BC37-9177C3698C66          Male   \n",
       "4  C8556CC0-32FC-4CA5-A8CD-9CCF38816167        Female   \n",
       "\n",
       "        PatientDateOfBirth       PatientRace PatientMaritalStatus  \\\n",
       "0  1947-12-28 02:45:40.547           Unknown              Married   \n",
       "1  1952-01-18 19:51:12.917  African American            Separated   \n",
       "2  1970-07-25 13:04:20.717             Asian              Married   \n",
       "3  1979-01-04 05:45:29.580             White              Married   \n",
       "4  1921-04-11 11:39:49.197             White              Married   \n",
       "\n",
       "  PatientLanguage  PatientPopulationPercentageBelowPoverty  \n",
       "0       Icelandic                                    18.08  \n",
       "1         English                                    13.03  \n",
       "2         English                                     6.67  \n",
       "3         English                                    16.09  \n",
       "4         English                                    18.20  "
      ]
     },
     "execution_count": 707,
     "metadata": {},
     "output_type": "execute_result"
    }
   ],
   "source": [
    "patients.head()"
   ]
  },
  {
   "cell_type": "code",
   "execution_count": 708,
   "metadata": {
    "collapsed": false,
    "extensions": {
     "jupyter_dashboards": {
      "version": 1,
      "views": {
       "grid_default": {
        "col": 0,
        "height": 17,
        "hidden": false,
        "row": 21,
        "width": 6
       },
       "report_default": {
        "hidden": false
       }
      }
     }
    }
   },
   "outputs": [
    {
     "data": {
      "text/html": [
       "<div>\n",
       "<table border=\"1\" class=\"dataframe\">\n",
       "  <thead>\n",
       "    <tr style=\"text-align: right;\">\n",
       "      <th></th>\n",
       "      <th>PatientID</th>\n",
       "      <th>AdmissionID</th>\n",
       "      <th>AdmissionStartDate</th>\n",
       "      <th>AdmissionEndDate</th>\n",
       "    </tr>\n",
       "  </thead>\n",
       "  <tbody>\n",
       "    <tr>\n",
       "      <th>0</th>\n",
       "      <td>7A025E77-7832-4F53-B9A7-09A3F98AC17E</td>\n",
       "      <td>7</td>\n",
       "      <td>2011-10-12 14:55:02.027</td>\n",
       "      <td>2011-10-22 01:16:07.557</td>\n",
       "    </tr>\n",
       "    <tr>\n",
       "      <th>1</th>\n",
       "      <td>DCE5AEB8-6DB9-4106-8AE4-02CCC5C23741</td>\n",
       "      <td>1</td>\n",
       "      <td>1993-02-11 18:57:04.003</td>\n",
       "      <td>1993-02-24 17:22:29.713</td>\n",
       "    </tr>\n",
       "    <tr>\n",
       "      <th>2</th>\n",
       "      <td>DCE5AEB8-6DB9-4106-8AE4-02CCC5C23741</td>\n",
       "      <td>2</td>\n",
       "      <td>2002-11-28 19:06:31.117</td>\n",
       "      <td>2002-12-04 19:14:40.797</td>\n",
       "    </tr>\n",
       "    <tr>\n",
       "      <th>3</th>\n",
       "      <td>DCE5AEB8-6DB9-4106-8AE4-02CCC5C23741</td>\n",
       "      <td>3</td>\n",
       "      <td>2011-07-19 18:42:45.287</td>\n",
       "      <td>2011-07-25 04:57:42.053</td>\n",
       "    </tr>\n",
       "    <tr>\n",
       "      <th>4</th>\n",
       "      <td>886B5885-1EE2-49F3-98D5-A2F02EB8A9D4</td>\n",
       "      <td>1</td>\n",
       "      <td>1994-12-03 22:20:46.077</td>\n",
       "      <td>1994-12-20 20:24:56.010</td>\n",
       "    </tr>\n",
       "  </tbody>\n",
       "</table>\n",
       "</div>"
      ],
      "text/plain": [
       "                              PatientID  AdmissionID       AdmissionStartDate  \\\n",
       "0  7A025E77-7832-4F53-B9A7-09A3F98AC17E            7  2011-10-12 14:55:02.027   \n",
       "1  DCE5AEB8-6DB9-4106-8AE4-02CCC5C23741            1  1993-02-11 18:57:04.003   \n",
       "2  DCE5AEB8-6DB9-4106-8AE4-02CCC5C23741            2  2002-11-28 19:06:31.117   \n",
       "3  DCE5AEB8-6DB9-4106-8AE4-02CCC5C23741            3  2011-07-19 18:42:45.287   \n",
       "4  886B5885-1EE2-49F3-98D5-A2F02EB8A9D4            1  1994-12-03 22:20:46.077   \n",
       "\n",
       "          AdmissionEndDate  \n",
       "0  2011-10-22 01:16:07.557  \n",
       "1  1993-02-24 17:22:29.713  \n",
       "2  2002-12-04 19:14:40.797  \n",
       "3  2011-07-25 04:57:42.053  \n",
       "4  1994-12-20 20:24:56.010  "
      ]
     },
     "execution_count": 708,
     "metadata": {},
     "output_type": "execute_result"
    }
   ],
   "source": [
    "admissions.head()"
   ]
  },
  {
   "cell_type": "code",
   "execution_count": 709,
   "metadata": {
    "collapsed": false,
    "extensions": {
     "jupyter_dashboards": {
      "version": 1,
      "views": {
       "grid_default": {
        "col": 0,
        "height": 17,
        "hidden": false,
        "row": 38,
        "width": 7
       },
       "report_default": {
        "hidden": false
       }
      }
     }
    }
   },
   "outputs": [
    {
     "data": {
      "text/html": [
       "<div>\n",
       "<table border=\"1\" class=\"dataframe\">\n",
       "  <thead>\n",
       "    <tr style=\"text-align: right;\">\n",
       "      <th></th>\n",
       "      <th>PatientID</th>\n",
       "      <th>AdmissionID</th>\n",
       "      <th>PrimaryDiagnosisCode</th>\n",
       "      <th>PrimaryDiagnosisDescription</th>\n",
       "    </tr>\n",
       "  </thead>\n",
       "  <tbody>\n",
       "    <tr>\n",
       "      <th>0</th>\n",
       "      <td>80AC01B2-BD55-4BE0-A59A-4024104CF4E9</td>\n",
       "      <td>2</td>\n",
       "      <td>M01.X</td>\n",
       "      <td>Direct infection of joint in infectious and pa...</td>\n",
       "    </tr>\n",
       "    <tr>\n",
       "      <th>1</th>\n",
       "      <td>80AC01B2-BD55-4BE0-A59A-4024104CF4E9</td>\n",
       "      <td>3</td>\n",
       "      <td>D65</td>\n",
       "      <td>Disseminated intravascular coagulation [defibr...</td>\n",
       "    </tr>\n",
       "    <tr>\n",
       "      <th>2</th>\n",
       "      <td>80AC01B2-BD55-4BE0-A59A-4024104CF4E9</td>\n",
       "      <td>4</td>\n",
       "      <td>C92.1</td>\n",
       "      <td>Chronic myeloid leukemia, BCR/ABL-positive</td>\n",
       "    </tr>\n",
       "    <tr>\n",
       "      <th>3</th>\n",
       "      <td>80AC01B2-BD55-4BE0-A59A-4024104CF4E9</td>\n",
       "      <td>5</td>\n",
       "      <td>M05.51</td>\n",
       "      <td>Rheumatoid polyneuropathy with rheumatoid arth...</td>\n",
       "    </tr>\n",
       "    <tr>\n",
       "      <th>4</th>\n",
       "      <td>6A57AC0C-57F3-4C19-98A1-51135EFBC4FF</td>\n",
       "      <td>1</td>\n",
       "      <td>C91.00</td>\n",
       "      <td>Acute lymphoblastic leukemia not having achiev...</td>\n",
       "    </tr>\n",
       "  </tbody>\n",
       "</table>\n",
       "</div>"
      ],
      "text/plain": [
       "                              PatientID  AdmissionID PrimaryDiagnosisCode  \\\n",
       "0  80AC01B2-BD55-4BE0-A59A-4024104CF4E9            2                M01.X   \n",
       "1  80AC01B2-BD55-4BE0-A59A-4024104CF4E9            3                  D65   \n",
       "2  80AC01B2-BD55-4BE0-A59A-4024104CF4E9            4                C92.1   \n",
       "3  80AC01B2-BD55-4BE0-A59A-4024104CF4E9            5               M05.51   \n",
       "4  6A57AC0C-57F3-4C19-98A1-51135EFBC4FF            1               C91.00   \n",
       "\n",
       "                         PrimaryDiagnosisDescription  \n",
       "0  Direct infection of joint in infectious and pa...  \n",
       "1  Disseminated intravascular coagulation [defibr...  \n",
       "2         Chronic myeloid leukemia, BCR/ABL-positive  \n",
       "3  Rheumatoid polyneuropathy with rheumatoid arth...  \n",
       "4  Acute lymphoblastic leukemia not having achiev...  "
      ]
     },
     "execution_count": 709,
     "metadata": {},
     "output_type": "execute_result"
    }
   ],
   "source": [
    "diagnoses.head()"
   ]
  },
  {
   "cell_type": "code",
   "execution_count": 710,
   "metadata": {
    "collapsed": false,
    "extensions": {
     "jupyter_dashboards": {
      "version": 1,
      "views": {
       "grid_default": {
        "col": 6,
        "height": 17,
        "hidden": false,
        "row": 21,
        "width": 6
       },
       "report_default": {
        "hidden": false
       }
      }
     }
    }
   },
   "outputs": [
    {
     "data": {
      "text/html": [
       "<div>\n",
       "<table border=\"1\" class=\"dataframe\">\n",
       "  <thead>\n",
       "    <tr style=\"text-align: right;\">\n",
       "      <th></th>\n",
       "      <th>PatientID</th>\n",
       "      <th>AdmissionID</th>\n",
       "      <th>LabName</th>\n",
       "      <th>LabValue</th>\n",
       "      <th>LabUnits</th>\n",
       "      <th>LabDateTime</th>\n",
       "    </tr>\n",
       "  </thead>\n",
       "  <tbody>\n",
       "    <tr>\n",
       "      <th>0</th>\n",
       "      <td>1A8791E3-A61C-455A-8DEE-763EB90C9B2C</td>\n",
       "      <td>1</td>\n",
       "      <td>URINALYSIS: RED BLOOD CELLS</td>\n",
       "      <td>1.8</td>\n",
       "      <td>rbc/hpf</td>\n",
       "      <td>1992-07-01 01:36:17.910</td>\n",
       "    </tr>\n",
       "    <tr>\n",
       "      <th>1</th>\n",
       "      <td>1A8791E3-A61C-455A-8DEE-763EB90C9B2C</td>\n",
       "      <td>1</td>\n",
       "      <td>METABOLIC: GLUCOSE</td>\n",
       "      <td>103.3</td>\n",
       "      <td>mg/dL</td>\n",
       "      <td>1992-06-30 09:35:52.383</td>\n",
       "    </tr>\n",
       "    <tr>\n",
       "      <th>2</th>\n",
       "      <td>1A8791E3-A61C-455A-8DEE-763EB90C9B2C</td>\n",
       "      <td>1</td>\n",
       "      <td>CBC: MCH</td>\n",
       "      <td>35.8</td>\n",
       "      <td>pg</td>\n",
       "      <td>1992-06-30 03:50:11.777</td>\n",
       "    </tr>\n",
       "    <tr>\n",
       "      <th>3</th>\n",
       "      <td>1A8791E3-A61C-455A-8DEE-763EB90C9B2C</td>\n",
       "      <td>1</td>\n",
       "      <td>METABOLIC: CALCIUM</td>\n",
       "      <td>8.9</td>\n",
       "      <td>mg/dL</td>\n",
       "      <td>1992-06-30 12:09:46.107</td>\n",
       "    </tr>\n",
       "    <tr>\n",
       "      <th>4</th>\n",
       "      <td>1A8791E3-A61C-455A-8DEE-763EB90C9B2C</td>\n",
       "      <td>1</td>\n",
       "      <td>CBC: RED BLOOD CELL COUNT</td>\n",
       "      <td>4.8</td>\n",
       "      <td>m/cumm</td>\n",
       "      <td>1992-07-01 01:31:08.677</td>\n",
       "    </tr>\n",
       "  </tbody>\n",
       "</table>\n",
       "</div>"
      ],
      "text/plain": [
       "                              PatientID  AdmissionID  \\\n",
       "0  1A8791E3-A61C-455A-8DEE-763EB90C9B2C            1   \n",
       "1  1A8791E3-A61C-455A-8DEE-763EB90C9B2C            1   \n",
       "2  1A8791E3-A61C-455A-8DEE-763EB90C9B2C            1   \n",
       "3  1A8791E3-A61C-455A-8DEE-763EB90C9B2C            1   \n",
       "4  1A8791E3-A61C-455A-8DEE-763EB90C9B2C            1   \n",
       "\n",
       "                       LabName  LabValue LabUnits              LabDateTime  \n",
       "0  URINALYSIS: RED BLOOD CELLS       1.8  rbc/hpf  1992-07-01 01:36:17.910  \n",
       "1           METABOLIC: GLUCOSE     103.3    mg/dL  1992-06-30 09:35:52.383  \n",
       "2                     CBC: MCH      35.8       pg  1992-06-30 03:50:11.777  \n",
       "3           METABOLIC: CALCIUM       8.9    mg/dL  1992-06-30 12:09:46.107  \n",
       "4    CBC: RED BLOOD CELL COUNT       4.8   m/cumm  1992-07-01 01:31:08.677  "
      ]
     },
     "execution_count": 710,
     "metadata": {},
     "output_type": "execute_result"
    }
   ],
   "source": [
    "labs.head()"
   ]
  },
  {
   "cell_type": "code",
   "execution_count": null,
   "metadata": {
    "collapsed": true
   },
   "outputs": [],
   "source": []
  },
  {
   "cell_type": "code",
   "execution_count": null,
   "metadata": {
    "collapsed": false
   },
   "outputs": [],
   "source": []
  },
  {
   "cell_type": "markdown",
   "metadata": {
    "extensions": {
     "jupyter_dashboards": {
      "version": 1,
      "views": {
       "grid_default": {
        "col": 4,
        "height": 4,
        "hidden": false,
        "row": 0,
        "width": 4
       },
       "report_default": {
        "hidden": false
       }
      }
     }
    }
   },
   "source": [
    "### Describe Data"
   ]
  },
  {
   "cell_type": "code",
   "execution_count": 711,
   "metadata": {
    "collapsed": false,
    "extensions": {
     "jupyter_dashboards": {
      "version": 1,
      "views": {
       "grid_default": {
        "col": 0,
        "height": 15,
        "hidden": false,
        "row": 55,
        "width": 12
       },
       "report_default": {
        "hidden": false
       }
      }
     }
    }
   },
   "outputs": [
    {
     "data": {
      "text/html": [
       "<div>\n",
       "<table border=\"1\" class=\"dataframe\">\n",
       "  <thead>\n",
       "    <tr style=\"text-align: right;\">\n",
       "      <th></th>\n",
       "      <th>PatientID</th>\n",
       "      <th>PatientGender</th>\n",
       "      <th>PatientDateOfBirth</th>\n",
       "      <th>PatientRace</th>\n",
       "      <th>PatientMaritalStatus</th>\n",
       "      <th>PatientLanguage</th>\n",
       "      <th>PatientPopulationPercentageBelowPoverty</th>\n",
       "    </tr>\n",
       "  </thead>\n",
       "  <tbody>\n",
       "    <tr>\n",
       "      <th>count</th>\n",
       "      <td>100</td>\n",
       "      <td>100</td>\n",
       "      <td>100</td>\n",
       "      <td>100</td>\n",
       "      <td>100</td>\n",
       "      <td>100</td>\n",
       "      <td>100.000000</td>\n",
       "    </tr>\n",
       "    <tr>\n",
       "      <th>unique</th>\n",
       "      <td>100</td>\n",
       "      <td>2</td>\n",
       "      <td>100</td>\n",
       "      <td>4</td>\n",
       "      <td>6</td>\n",
       "      <td>4</td>\n",
       "      <td>NaN</td>\n",
       "    </tr>\n",
       "    <tr>\n",
       "      <th>top</th>\n",
       "      <td>135C831F-7DA5-46C0-959C-EBCBD8810B43</td>\n",
       "      <td>Female</td>\n",
       "      <td>1944-12-01 06:30:01.543</td>\n",
       "      <td>White</td>\n",
       "      <td>Married</td>\n",
       "      <td>English</td>\n",
       "      <td>NaN</td>\n",
       "    </tr>\n",
       "    <tr>\n",
       "      <th>freq</th>\n",
       "      <td>1</td>\n",
       "      <td>52</td>\n",
       "      <td>1</td>\n",
       "      <td>49</td>\n",
       "      <td>45</td>\n",
       "      <td>64</td>\n",
       "      <td>NaN</td>\n",
       "    </tr>\n",
       "    <tr>\n",
       "      <th>mean</th>\n",
       "      <td>NaN</td>\n",
       "      <td>NaN</td>\n",
       "      <td>NaN</td>\n",
       "      <td>NaN</td>\n",
       "      <td>NaN</td>\n",
       "      <td>NaN</td>\n",
       "      <td>22.102500</td>\n",
       "    </tr>\n",
       "    <tr>\n",
       "      <th>std</th>\n",
       "      <td>NaN</td>\n",
       "      <td>NaN</td>\n",
       "      <td>NaN</td>\n",
       "      <td>NaN</td>\n",
       "      <td>NaN</td>\n",
       "      <td>NaN</td>\n",
       "      <td>23.327656</td>\n",
       "    </tr>\n",
       "    <tr>\n",
       "      <th>min</th>\n",
       "      <td>NaN</td>\n",
       "      <td>NaN</td>\n",
       "      <td>NaN</td>\n",
       "      <td>NaN</td>\n",
       "      <td>NaN</td>\n",
       "      <td>NaN</td>\n",
       "      <td>1.700000</td>\n",
       "    </tr>\n",
       "    <tr>\n",
       "      <th>25%</th>\n",
       "      <td>NaN</td>\n",
       "      <td>NaN</td>\n",
       "      <td>NaN</td>\n",
       "      <td>NaN</td>\n",
       "      <td>NaN</td>\n",
       "      <td>NaN</td>\n",
       "      <td>12.702500</td>\n",
       "    </tr>\n",
       "    <tr>\n",
       "      <th>50%</th>\n",
       "      <td>NaN</td>\n",
       "      <td>NaN</td>\n",
       "      <td>NaN</td>\n",
       "      <td>NaN</td>\n",
       "      <td>NaN</td>\n",
       "      <td>NaN</td>\n",
       "      <td>15.435000</td>\n",
       "    </tr>\n",
       "    <tr>\n",
       "      <th>75%</th>\n",
       "      <td>NaN</td>\n",
       "      <td>NaN</td>\n",
       "      <td>NaN</td>\n",
       "      <td>NaN</td>\n",
       "      <td>NaN</td>\n",
       "      <td>NaN</td>\n",
       "      <td>18.687500</td>\n",
       "    </tr>\n",
       "    <tr>\n",
       "      <th>max</th>\n",
       "      <td>NaN</td>\n",
       "      <td>NaN</td>\n",
       "      <td>NaN</td>\n",
       "      <td>NaN</td>\n",
       "      <td>NaN</td>\n",
       "      <td>NaN</td>\n",
       "      <td>98.400000</td>\n",
       "    </tr>\n",
       "  </tbody>\n",
       "</table>\n",
       "</div>"
      ],
      "text/plain": [
       "                                   PatientID PatientGender  \\\n",
       "count                                    100           100   \n",
       "unique                                   100             2   \n",
       "top     135C831F-7DA5-46C0-959C-EBCBD8810B43        Female   \n",
       "freq                                       1            52   \n",
       "mean                                     NaN           NaN   \n",
       "std                                      NaN           NaN   \n",
       "min                                      NaN           NaN   \n",
       "25%                                      NaN           NaN   \n",
       "50%                                      NaN           NaN   \n",
       "75%                                      NaN           NaN   \n",
       "max                                      NaN           NaN   \n",
       "\n",
       "             PatientDateOfBirth PatientRace PatientMaritalStatus  \\\n",
       "count                       100         100                  100   \n",
       "unique                      100           4                    6   \n",
       "top     1944-12-01 06:30:01.543       White              Married   \n",
       "freq                          1          49                   45   \n",
       "mean                        NaN         NaN                  NaN   \n",
       "std                         NaN         NaN                  NaN   \n",
       "min                         NaN         NaN                  NaN   \n",
       "25%                         NaN         NaN                  NaN   \n",
       "50%                         NaN         NaN                  NaN   \n",
       "75%                         NaN         NaN                  NaN   \n",
       "max                         NaN         NaN                  NaN   \n",
       "\n",
       "       PatientLanguage  PatientPopulationPercentageBelowPoverty  \n",
       "count              100                               100.000000  \n",
       "unique               4                                      NaN  \n",
       "top            English                                      NaN  \n",
       "freq                64                                      NaN  \n",
       "mean               NaN                                22.102500  \n",
       "std                NaN                                23.327656  \n",
       "min                NaN                                 1.700000  \n",
       "25%                NaN                                12.702500  \n",
       "50%                NaN                                15.435000  \n",
       "75%                NaN                                18.687500  \n",
       "max                NaN                                98.400000  "
      ]
     },
     "execution_count": 711,
     "metadata": {},
     "output_type": "execute_result"
    }
   ],
   "source": [
    "patients.describe(include= \"all\")"
   ]
  },
  {
   "cell_type": "code",
   "execution_count": 712,
   "metadata": {
    "collapsed": false,
    "extensions": {
     "jupyter_dashboards": {
      "version": 1,
      "views": {
       "grid_default": {
        "col": 0,
        "height": 15,
        "hidden": false,
        "row": 70,
        "width": 6
       },
       "report_default": {
        "hidden": false
       }
      }
     }
    }
   },
   "outputs": [
    {
     "data": {
      "text/html": [
       "<div>\n",
       "<table border=\"1\" class=\"dataframe\">\n",
       "  <thead>\n",
       "    <tr style=\"text-align: right;\">\n",
       "      <th></th>\n",
       "      <th>PatientID</th>\n",
       "      <th>AdmissionID</th>\n",
       "      <th>AdmissionStartDate</th>\n",
       "      <th>AdmissionEndDate</th>\n",
       "    </tr>\n",
       "  </thead>\n",
       "  <tbody>\n",
       "    <tr>\n",
       "      <th>count</th>\n",
       "      <td>372</td>\n",
       "      <td>372.000000</td>\n",
       "      <td>372</td>\n",
       "      <td>372</td>\n",
       "    </tr>\n",
       "    <tr>\n",
       "      <th>unique</th>\n",
       "      <td>100</td>\n",
       "      <td>NaN</td>\n",
       "      <td>372</td>\n",
       "      <td>372</td>\n",
       "    </tr>\n",
       "    <tr>\n",
       "      <th>top</th>\n",
       "      <td>80D356B4-F974-441F-A5F2-F95986D119A2</td>\n",
       "      <td>NaN</td>\n",
       "      <td>1984-05-31 18:34:12.660</td>\n",
       "      <td>1967-04-28 07:08:18.400</td>\n",
       "    </tr>\n",
       "    <tr>\n",
       "      <th>freq</th>\n",
       "      <td>7</td>\n",
       "      <td>NaN</td>\n",
       "      <td>1</td>\n",
       "      <td>1</td>\n",
       "    </tr>\n",
       "    <tr>\n",
       "      <th>mean</th>\n",
       "      <td>NaN</td>\n",
       "      <td>2.653226</td>\n",
       "      <td>NaN</td>\n",
       "      <td>NaN</td>\n",
       "    </tr>\n",
       "    <tr>\n",
       "      <th>std</th>\n",
       "      <td>NaN</td>\n",
       "      <td>1.476013</td>\n",
       "      <td>NaN</td>\n",
       "      <td>NaN</td>\n",
       "    </tr>\n",
       "    <tr>\n",
       "      <th>min</th>\n",
       "      <td>NaN</td>\n",
       "      <td>1.000000</td>\n",
       "      <td>NaN</td>\n",
       "      <td>NaN</td>\n",
       "    </tr>\n",
       "    <tr>\n",
       "      <th>25%</th>\n",
       "      <td>NaN</td>\n",
       "      <td>1.000000</td>\n",
       "      <td>NaN</td>\n",
       "      <td>NaN</td>\n",
       "    </tr>\n",
       "    <tr>\n",
       "      <th>50%</th>\n",
       "      <td>NaN</td>\n",
       "      <td>2.000000</td>\n",
       "      <td>NaN</td>\n",
       "      <td>NaN</td>\n",
       "    </tr>\n",
       "    <tr>\n",
       "      <th>75%</th>\n",
       "      <td>NaN</td>\n",
       "      <td>4.000000</td>\n",
       "      <td>NaN</td>\n",
       "      <td>NaN</td>\n",
       "    </tr>\n",
       "    <tr>\n",
       "      <th>max</th>\n",
       "      <td>NaN</td>\n",
       "      <td>7.000000</td>\n",
       "      <td>NaN</td>\n",
       "      <td>NaN</td>\n",
       "    </tr>\n",
       "  </tbody>\n",
       "</table>\n",
       "</div>"
      ],
      "text/plain": [
       "                                   PatientID  AdmissionID  \\\n",
       "count                                    372   372.000000   \n",
       "unique                                   100          NaN   \n",
       "top     80D356B4-F974-441F-A5F2-F95986D119A2          NaN   \n",
       "freq                                       7          NaN   \n",
       "mean                                     NaN     2.653226   \n",
       "std                                      NaN     1.476013   \n",
       "min                                      NaN     1.000000   \n",
       "25%                                      NaN     1.000000   \n",
       "50%                                      NaN     2.000000   \n",
       "75%                                      NaN     4.000000   \n",
       "max                                      NaN     7.000000   \n",
       "\n",
       "             AdmissionStartDate         AdmissionEndDate  \n",
       "count                       372                      372  \n",
       "unique                      372                      372  \n",
       "top     1984-05-31 18:34:12.660  1967-04-28 07:08:18.400  \n",
       "freq                          1                        1  \n",
       "mean                        NaN                      NaN  \n",
       "std                         NaN                      NaN  \n",
       "min                         NaN                      NaN  \n",
       "25%                         NaN                      NaN  \n",
       "50%                         NaN                      NaN  \n",
       "75%                         NaN                      NaN  \n",
       "max                         NaN                      NaN  "
      ]
     },
     "execution_count": 712,
     "metadata": {},
     "output_type": "execute_result"
    }
   ],
   "source": [
    "admissions.describe(include = \"all\")"
   ]
  },
  {
   "cell_type": "code",
   "execution_count": 713,
   "metadata": {
    "collapsed": false,
    "extensions": {
     "jupyter_dashboards": {
      "version": 1,
      "views": {
       "grid_default": {
        "col": 0,
        "height": 15,
        "hidden": false,
        "row": 85,
        "width": 7
       },
       "report_default": {
        "hidden": false
       }
      }
     }
    }
   },
   "outputs": [
    {
     "data": {
      "text/html": [
       "<div>\n",
       "<table border=\"1\" class=\"dataframe\">\n",
       "  <thead>\n",
       "    <tr style=\"text-align: right;\">\n",
       "      <th></th>\n",
       "      <th>PatientID</th>\n",
       "      <th>AdmissionID</th>\n",
       "      <th>PrimaryDiagnosisCode</th>\n",
       "      <th>PrimaryDiagnosisDescription</th>\n",
       "    </tr>\n",
       "  </thead>\n",
       "  <tbody>\n",
       "    <tr>\n",
       "      <th>count</th>\n",
       "      <td>372</td>\n",
       "      <td>372.000000</td>\n",
       "      <td>372</td>\n",
       "      <td>372</td>\n",
       "    </tr>\n",
       "    <tr>\n",
       "      <th>unique</th>\n",
       "      <td>100</td>\n",
       "      <td>NaN</td>\n",
       "      <td>349</td>\n",
       "      <td>349</td>\n",
       "    </tr>\n",
       "    <tr>\n",
       "      <th>top</th>\n",
       "      <td>25B786AF-0F99-478C-9CFA-0EA607E45834</td>\n",
       "      <td>NaN</td>\n",
       "      <td>Z22.31</td>\n",
       "      <td>Carrier of bacterial disease due to meningococci</td>\n",
       "    </tr>\n",
       "    <tr>\n",
       "      <th>freq</th>\n",
       "      <td>7</td>\n",
       "      <td>NaN</td>\n",
       "      <td>3</td>\n",
       "      <td>3</td>\n",
       "    </tr>\n",
       "    <tr>\n",
       "      <th>mean</th>\n",
       "      <td>NaN</td>\n",
       "      <td>2.653226</td>\n",
       "      <td>NaN</td>\n",
       "      <td>NaN</td>\n",
       "    </tr>\n",
       "    <tr>\n",
       "      <th>std</th>\n",
       "      <td>NaN</td>\n",
       "      <td>1.476013</td>\n",
       "      <td>NaN</td>\n",
       "      <td>NaN</td>\n",
       "    </tr>\n",
       "    <tr>\n",
       "      <th>min</th>\n",
       "      <td>NaN</td>\n",
       "      <td>1.000000</td>\n",
       "      <td>NaN</td>\n",
       "      <td>NaN</td>\n",
       "    </tr>\n",
       "    <tr>\n",
       "      <th>25%</th>\n",
       "      <td>NaN</td>\n",
       "      <td>1.000000</td>\n",
       "      <td>NaN</td>\n",
       "      <td>NaN</td>\n",
       "    </tr>\n",
       "    <tr>\n",
       "      <th>50%</th>\n",
       "      <td>NaN</td>\n",
       "      <td>2.000000</td>\n",
       "      <td>NaN</td>\n",
       "      <td>NaN</td>\n",
       "    </tr>\n",
       "    <tr>\n",
       "      <th>75%</th>\n",
       "      <td>NaN</td>\n",
       "      <td>4.000000</td>\n",
       "      <td>NaN</td>\n",
       "      <td>NaN</td>\n",
       "    </tr>\n",
       "    <tr>\n",
       "      <th>max</th>\n",
       "      <td>NaN</td>\n",
       "      <td>7.000000</td>\n",
       "      <td>NaN</td>\n",
       "      <td>NaN</td>\n",
       "    </tr>\n",
       "  </tbody>\n",
       "</table>\n",
       "</div>"
      ],
      "text/plain": [
       "                                   PatientID  AdmissionID  \\\n",
       "count                                    372   372.000000   \n",
       "unique                                   100          NaN   \n",
       "top     25B786AF-0F99-478C-9CFA-0EA607E45834          NaN   \n",
       "freq                                       7          NaN   \n",
       "mean                                     NaN     2.653226   \n",
       "std                                      NaN     1.476013   \n",
       "min                                      NaN     1.000000   \n",
       "25%                                      NaN     1.000000   \n",
       "50%                                      NaN     2.000000   \n",
       "75%                                      NaN     4.000000   \n",
       "max                                      NaN     7.000000   \n",
       "\n",
       "       PrimaryDiagnosisCode                       PrimaryDiagnosisDescription  \n",
       "count                   372                                               372  \n",
       "unique                  349                                               349  \n",
       "top                  Z22.31  Carrier of bacterial disease due to meningococci  \n",
       "freq                      3                                                 3  \n",
       "mean                    NaN                                               NaN  \n",
       "std                     NaN                                               NaN  \n",
       "min                     NaN                                               NaN  \n",
       "25%                     NaN                                               NaN  \n",
       "50%                     NaN                                               NaN  \n",
       "75%                     NaN                                               NaN  \n",
       "max                     NaN                                               NaN  "
      ]
     },
     "execution_count": 713,
     "metadata": {},
     "output_type": "execute_result"
    }
   ],
   "source": [
    "diagnoses.describe(include = \"all\")"
   ]
  },
  {
   "cell_type": "code",
   "execution_count": 714,
   "metadata": {
    "collapsed": false,
    "extensions": {
     "jupyter_dashboards": {
      "version": 1,
      "views": {
       "grid_default": {
        "col": 0,
        "height": 15,
        "hidden": false,
        "row": 100,
        "width": 7
       },
       "report_default": {
        "hidden": false
       }
      }
     }
    }
   },
   "outputs": [
    {
     "data": {
      "text/html": [
       "<div>\n",
       "<table border=\"1\" class=\"dataframe\">\n",
       "  <thead>\n",
       "    <tr style=\"text-align: right;\">\n",
       "      <th></th>\n",
       "      <th>PatientID</th>\n",
       "      <th>AdmissionID</th>\n",
       "      <th>LabName</th>\n",
       "      <th>LabValue</th>\n",
       "      <th>LabUnits</th>\n",
       "      <th>LabDateTime</th>\n",
       "    </tr>\n",
       "  </thead>\n",
       "  <tbody>\n",
       "    <tr>\n",
       "      <th>count</th>\n",
       "      <td>111483</td>\n",
       "      <td>111483.000000</td>\n",
       "      <td>111483</td>\n",
       "      <td>111483.000000</td>\n",
       "      <td>111483</td>\n",
       "      <td>111483</td>\n",
       "    </tr>\n",
       "    <tr>\n",
       "      <th>unique</th>\n",
       "      <td>100</td>\n",
       "      <td>NaN</td>\n",
       "      <td>35</td>\n",
       "      <td>NaN</td>\n",
       "      <td>14</td>\n",
       "      <td>111483</td>\n",
       "    </tr>\n",
       "    <tr>\n",
       "      <th>top</th>\n",
       "      <td>80D356B4-F974-441F-A5F2-F95986D119A2</td>\n",
       "      <td>NaN</td>\n",
       "      <td>CBC: NEUTROPHILS</td>\n",
       "      <td>NaN</td>\n",
       "      <td>k/cumm</td>\n",
       "      <td>1979-05-10 01:39:56.327</td>\n",
       "    </tr>\n",
       "    <tr>\n",
       "      <th>freq</th>\n",
       "      <td>2760</td>\n",
       "      <td>NaN</td>\n",
       "      <td>3224</td>\n",
       "      <td>NaN</td>\n",
       "      <td>22257</td>\n",
       "      <td>1</td>\n",
       "    </tr>\n",
       "    <tr>\n",
       "      <th>mean</th>\n",
       "      <td>NaN</td>\n",
       "      <td>2.662756</td>\n",
       "      <td>NaN</td>\n",
       "      <td>34.999722</td>\n",
       "      <td>NaN</td>\n",
       "      <td>NaN</td>\n",
       "    </tr>\n",
       "    <tr>\n",
       "      <th>std</th>\n",
       "      <td>NaN</td>\n",
       "      <td>1.493165</td>\n",
       "      <td>NaN</td>\n",
       "      <td>58.247715</td>\n",
       "      <td>NaN</td>\n",
       "      <td>NaN</td>\n",
       "    </tr>\n",
       "    <tr>\n",
       "      <th>min</th>\n",
       "      <td>NaN</td>\n",
       "      <td>1.000000</td>\n",
       "      <td>NaN</td>\n",
       "      <td>0.000000</td>\n",
       "      <td>NaN</td>\n",
       "      <td>NaN</td>\n",
       "    </tr>\n",
       "    <tr>\n",
       "      <th>25%</th>\n",
       "      <td>NaN</td>\n",
       "      <td>1.000000</td>\n",
       "      <td>NaN</td>\n",
       "      <td>3.300000</td>\n",
       "      <td>NaN</td>\n",
       "      <td>NaN</td>\n",
       "    </tr>\n",
       "    <tr>\n",
       "      <th>50%</th>\n",
       "      <td>NaN</td>\n",
       "      <td>2.000000</td>\n",
       "      <td>NaN</td>\n",
       "      <td>10.600000</td>\n",
       "      <td>NaN</td>\n",
       "      <td>NaN</td>\n",
       "    </tr>\n",
       "    <tr>\n",
       "      <th>75%</th>\n",
       "      <td>NaN</td>\n",
       "      <td>4.000000</td>\n",
       "      <td>NaN</td>\n",
       "      <td>37.900000</td>\n",
       "      <td>NaN</td>\n",
       "      <td>NaN</td>\n",
       "    </tr>\n",
       "    <tr>\n",
       "      <th>max</th>\n",
       "      <td>NaN</td>\n",
       "      <td>7.000000</td>\n",
       "      <td>NaN</td>\n",
       "      <td>449.900000</td>\n",
       "      <td>NaN</td>\n",
       "      <td>NaN</td>\n",
       "    </tr>\n",
       "  </tbody>\n",
       "</table>\n",
       "</div>"
      ],
      "text/plain": [
       "                                   PatientID    AdmissionID           LabName  \\\n",
       "count                                 111483  111483.000000            111483   \n",
       "unique                                   100            NaN                35   \n",
       "top     80D356B4-F974-441F-A5F2-F95986D119A2            NaN  CBC: NEUTROPHILS   \n",
       "freq                                    2760            NaN              3224   \n",
       "mean                                     NaN       2.662756               NaN   \n",
       "std                                      NaN       1.493165               NaN   \n",
       "min                                      NaN       1.000000               NaN   \n",
       "25%                                      NaN       1.000000               NaN   \n",
       "50%                                      NaN       2.000000               NaN   \n",
       "75%                                      NaN       4.000000               NaN   \n",
       "max                                      NaN       7.000000               NaN   \n",
       "\n",
       "             LabValue LabUnits              LabDateTime  \n",
       "count   111483.000000   111483                   111483  \n",
       "unique            NaN       14                   111483  \n",
       "top               NaN   k/cumm  1979-05-10 01:39:56.327  \n",
       "freq              NaN    22257                        1  \n",
       "mean        34.999722      NaN                      NaN  \n",
       "std         58.247715      NaN                      NaN  \n",
       "min          0.000000      NaN                      NaN  \n",
       "25%          3.300000      NaN                      NaN  \n",
       "50%         10.600000      NaN                      NaN  \n",
       "75%         37.900000      NaN                      NaN  \n",
       "max        449.900000      NaN                      NaN  "
      ]
     },
     "execution_count": 714,
     "metadata": {},
     "output_type": "execute_result"
    }
   ],
   "source": [
    "labs.describe(include = \"all\")"
   ]
  },
  {
   "cell_type": "code",
   "execution_count": 715,
   "metadata": {
    "collapsed": false,
    "extensions": {
     "jupyter_dashboards": {
      "version": 1,
      "views": {
       "grid_default": {
        "col": 7,
        "height": 7,
        "hidden": false,
        "row": 38,
        "width": 4
       },
       "report_default": {
        "hidden": false
       }
      }
     }
    }
   },
   "outputs": [
    {
     "data": {
      "image/png": "[encoded data removed]",
      "text/plain": [
       "<matplotlib.figure.Figure at 0x10ceecf60>"
      ]
     },
     "metadata": {},
     "output_type": "display_data"
    }
   ],
   "source": [
    "lab_fig = labs.LabName.value_counts()[:10].plot(kind='barh')"
   ]
  },
  {
   "cell_type": "markdown",
   "metadata": {},
   "source": [
    "## Helper Functions"
   ]
  },
  {
   "cell_type": "code",
   "execution_count": 716,
   "metadata": {
    "collapsed": false
   },
   "outputs": [
    {
     "data": {
      "text/html": [
       "<div>\n",
       "<table border=\"1\" class=\"dataframe\">\n",
       "  <thead>\n",
       "    <tr style=\"text-align: right;\">\n",
       "      <th></th>\n",
       "      <th>PatientID</th>\n",
       "      <th>PatientGender</th>\n",
       "      <th>PatientRace</th>\n",
       "      <th>PatientMaritalStatus</th>\n",
       "      <th>PatientLanguage</th>\n",
       "      <th>PatientPopulationPercentageBelowPoverty</th>\n",
       "      <th>Age</th>\n",
       "    </tr>\n",
       "  </thead>\n",
       "  <tbody>\n",
       "    <tr>\n",
       "      <th>0</th>\n",
       "      <td>1</td>\n",
       "      <td>1</td>\n",
       "      <td>Unknown</td>\n",
       "      <td>Married</td>\n",
       "      <td>Icelandic</td>\n",
       "      <td>18.08</td>\n",
       "      <td>69</td>\n",
       "    </tr>\n",
       "    <tr>\n",
       "      <th>1</th>\n",
       "      <td>2</td>\n",
       "      <td>1</td>\n",
       "      <td>African American</td>\n",
       "      <td>Separated</td>\n",
       "      <td>English</td>\n",
       "      <td>13.03</td>\n",
       "      <td>65</td>\n",
       "    </tr>\n",
       "    <tr>\n",
       "      <th>2</th>\n",
       "      <td>3</td>\n",
       "      <td>0</td>\n",
       "      <td>Asian</td>\n",
       "      <td>Married</td>\n",
       "      <td>English</td>\n",
       "      <td>6.67</td>\n",
       "      <td>46</td>\n",
       "    </tr>\n",
       "    <tr>\n",
       "      <th>3</th>\n",
       "      <td>4</td>\n",
       "      <td>1</td>\n",
       "      <td>White</td>\n",
       "      <td>Married</td>\n",
       "      <td>English</td>\n",
       "      <td>16.09</td>\n",
       "      <td>38</td>\n",
       "    </tr>\n",
       "    <tr>\n",
       "      <th>4</th>\n",
       "      <td>5</td>\n",
       "      <td>0</td>\n",
       "      <td>White</td>\n",
       "      <td>Married</td>\n",
       "      <td>English</td>\n",
       "      <td>18.20</td>\n",
       "      <td>96</td>\n",
       "    </tr>\n",
       "    <tr>\n",
       "      <th>5</th>\n",
       "      <td>6</td>\n",
       "      <td>1</td>\n",
       "      <td>White</td>\n",
       "      <td>Married</td>\n",
       "      <td>Spanish</td>\n",
       "      <td>12.41</td>\n",
       "      <td>51</td>\n",
       "    </tr>\n",
       "    <tr>\n",
       "      <th>6</th>\n",
       "      <td>7</td>\n",
       "      <td>1</td>\n",
       "      <td>Asian</td>\n",
       "      <td>Married</td>\n",
       "      <td>Spanish</td>\n",
       "      <td>12.80</td>\n",
       "      <td>59</td>\n",
       "    </tr>\n",
       "    <tr>\n",
       "      <th>7</th>\n",
       "      <td>8</td>\n",
       "      <td>0</td>\n",
       "      <td>White</td>\n",
       "      <td>Married</td>\n",
       "      <td>English</td>\n",
       "      <td>15.31</td>\n",
       "      <td>81</td>\n",
       "    </tr>\n",
       "    <tr>\n",
       "      <th>8</th>\n",
       "      <td>9</td>\n",
       "      <td>0</td>\n",
       "      <td>White</td>\n",
       "      <td>Single</td>\n",
       "      <td>English</td>\n",
       "      <td>16.32</td>\n",
       "      <td>84</td>\n",
       "    </tr>\n",
       "    <tr>\n",
       "      <th>9</th>\n",
       "      <td>10</td>\n",
       "      <td>0</td>\n",
       "      <td>Unknown</td>\n",
       "      <td>Single</td>\n",
       "      <td>English</td>\n",
       "      <td>11.43</td>\n",
       "      <td>31</td>\n",
       "    </tr>\n",
       "    <tr>\n",
       "      <th>10</th>\n",
       "      <td>11</td>\n",
       "      <td>1</td>\n",
       "      <td>White</td>\n",
       "      <td>Married</td>\n",
       "      <td>English</td>\n",
       "      <td>11.25</td>\n",
       "      <td>68</td>\n",
       "    </tr>\n",
       "    <tr>\n",
       "      <th>11</th>\n",
       "      <td>12</td>\n",
       "      <td>1</td>\n",
       "      <td>Asian</td>\n",
       "      <td>Divorced</td>\n",
       "      <td>English</td>\n",
       "      <td>83.75</td>\n",
       "      <td>92</td>\n",
       "    </tr>\n",
       "    <tr>\n",
       "      <th>12</th>\n",
       "      <td>13</td>\n",
       "      <td>1</td>\n",
       "      <td>White</td>\n",
       "      <td>Single</td>\n",
       "      <td>Spanish</td>\n",
       "      <td>14.28</td>\n",
       "      <td>37</td>\n",
       "    </tr>\n",
       "    <tr>\n",
       "      <th>13</th>\n",
       "      <td>14</td>\n",
       "      <td>1</td>\n",
       "      <td>White</td>\n",
       "      <td>Married</td>\n",
       "      <td>English</td>\n",
       "      <td>11.89</td>\n",
       "      <td>90</td>\n",
       "    </tr>\n",
       "    <tr>\n",
       "      <th>14</th>\n",
       "      <td>15</td>\n",
       "      <td>0</td>\n",
       "      <td>African American</td>\n",
       "      <td>Single</td>\n",
       "      <td>Unknown</td>\n",
       "      <td>94.00</td>\n",
       "      <td>44</td>\n",
       "    </tr>\n",
       "    <tr>\n",
       "      <th>15</th>\n",
       "      <td>16</td>\n",
       "      <td>0</td>\n",
       "      <td>White</td>\n",
       "      <td>Married</td>\n",
       "      <td>English</td>\n",
       "      <td>12.01</td>\n",
       "      <td>49</td>\n",
       "    </tr>\n",
       "    <tr>\n",
       "      <th>16</th>\n",
       "      <td>17</td>\n",
       "      <td>1</td>\n",
       "      <td>African American</td>\n",
       "      <td>Unknown</td>\n",
       "      <td>English</td>\n",
       "      <td>16.89</td>\n",
       "      <td>65</td>\n",
       "    </tr>\n",
       "    <tr>\n",
       "      <th>17</th>\n",
       "      <td>18</td>\n",
       "      <td>1</td>\n",
       "      <td>Unknown</td>\n",
       "      <td>Single</td>\n",
       "      <td>Icelandic</td>\n",
       "      <td>1.70</td>\n",
       "      <td>39</td>\n",
       "    </tr>\n",
       "    <tr>\n",
       "      <th>18</th>\n",
       "      <td>19</td>\n",
       "      <td>1</td>\n",
       "      <td>White</td>\n",
       "      <td>Married</td>\n",
       "      <td>English</td>\n",
       "      <td>93.60</td>\n",
       "      <td>90</td>\n",
       "    </tr>\n",
       "    <tr>\n",
       "      <th>19</th>\n",
       "      <td>20</td>\n",
       "      <td>0</td>\n",
       "      <td>African American</td>\n",
       "      <td>Single</td>\n",
       "      <td>English</td>\n",
       "      <td>15.72</td>\n",
       "      <td>59</td>\n",
       "    </tr>\n",
       "    <tr>\n",
       "      <th>20</th>\n",
       "      <td>21</td>\n",
       "      <td>1</td>\n",
       "      <td>White</td>\n",
       "      <td>Single</td>\n",
       "      <td>Icelandic</td>\n",
       "      <td>13.10</td>\n",
       "      <td>54</td>\n",
       "    </tr>\n",
       "    <tr>\n",
       "      <th>21</th>\n",
       "      <td>22</td>\n",
       "      <td>1</td>\n",
       "      <td>African American</td>\n",
       "      <td>Married</td>\n",
       "      <td>English</td>\n",
       "      <td>14.87</td>\n",
       "      <td>66</td>\n",
       "    </tr>\n",
       "    <tr>\n",
       "      <th>22</th>\n",
       "      <td>23</td>\n",
       "      <td>1</td>\n",
       "      <td>Asian</td>\n",
       "      <td>Single</td>\n",
       "      <td>English</td>\n",
       "      <td>13.97</td>\n",
       "      <td>43</td>\n",
       "    </tr>\n",
       "    <tr>\n",
       "      <th>23</th>\n",
       "      <td>24</td>\n",
       "      <td>0</td>\n",
       "      <td>White</td>\n",
       "      <td>Married</td>\n",
       "      <td>Icelandic</td>\n",
       "      <td>19.22</td>\n",
       "      <td>86</td>\n",
       "    </tr>\n",
       "    <tr>\n",
       "      <th>24</th>\n",
       "      <td>25</td>\n",
       "      <td>1</td>\n",
       "      <td>Asian</td>\n",
       "      <td>Married</td>\n",
       "      <td>English</td>\n",
       "      <td>16.71</td>\n",
       "      <td>46</td>\n",
       "    </tr>\n",
       "    <tr>\n",
       "      <th>25</th>\n",
       "      <td>26</td>\n",
       "      <td>1</td>\n",
       "      <td>Asian</td>\n",
       "      <td>Single</td>\n",
       "      <td>Spanish</td>\n",
       "      <td>7.59</td>\n",
       "      <td>54</td>\n",
       "    </tr>\n",
       "    <tr>\n",
       "      <th>26</th>\n",
       "      <td>27</td>\n",
       "      <td>0</td>\n",
       "      <td>Unknown</td>\n",
       "      <td>Married</td>\n",
       "      <td>English</td>\n",
       "      <td>18.05</td>\n",
       "      <td>96</td>\n",
       "    </tr>\n",
       "    <tr>\n",
       "      <th>27</th>\n",
       "      <td>28</td>\n",
       "      <td>0</td>\n",
       "      <td>White</td>\n",
       "      <td>Single</td>\n",
       "      <td>Spanish</td>\n",
       "      <td>16.24</td>\n",
       "      <td>65</td>\n",
       "    </tr>\n",
       "    <tr>\n",
       "      <th>28</th>\n",
       "      <td>29</td>\n",
       "      <td>1</td>\n",
       "      <td>White</td>\n",
       "      <td>Single</td>\n",
       "      <td>English</td>\n",
       "      <td>14.49</td>\n",
       "      <td>75</td>\n",
       "    </tr>\n",
       "    <tr>\n",
       "      <th>29</th>\n",
       "      <td>30</td>\n",
       "      <td>0</td>\n",
       "      <td>White</td>\n",
       "      <td>Single</td>\n",
       "      <td>Icelandic</td>\n",
       "      <td>11.16</td>\n",
       "      <td>54</td>\n",
       "    </tr>\n",
       "    <tr>\n",
       "      <th>...</th>\n",
       "      <td>...</td>\n",
       "      <td>...</td>\n",
       "      <td>...</td>\n",
       "      <td>...</td>\n",
       "      <td>...</td>\n",
       "      <td>...</td>\n",
       "      <td>...</td>\n",
       "    </tr>\n",
       "    <tr>\n",
       "      <th>70</th>\n",
       "      <td>71</td>\n",
       "      <td>0</td>\n",
       "      <td>White</td>\n",
       "      <td>Married</td>\n",
       "      <td>Spanish</td>\n",
       "      <td>18.80</td>\n",
       "      <td>74</td>\n",
       "    </tr>\n",
       "    <tr>\n",
       "      <th>71</th>\n",
       "      <td>72</td>\n",
       "      <td>0</td>\n",
       "      <td>Asian</td>\n",
       "      <td>Unknown</td>\n",
       "      <td>Spanish</td>\n",
       "      <td>19.16</td>\n",
       "      <td>38</td>\n",
       "    </tr>\n",
       "    <tr>\n",
       "      <th>72</th>\n",
       "      <td>73</td>\n",
       "      <td>0</td>\n",
       "      <td>Asian</td>\n",
       "      <td>Married</td>\n",
       "      <td>English</td>\n",
       "      <td>14.20</td>\n",
       "      <td>53</td>\n",
       "    </tr>\n",
       "    <tr>\n",
       "      <th>73</th>\n",
       "      <td>74</td>\n",
       "      <td>1</td>\n",
       "      <td>White</td>\n",
       "      <td>Single</td>\n",
       "      <td>English</td>\n",
       "      <td>18.41</td>\n",
       "      <td>96</td>\n",
       "    </tr>\n",
       "    <tr>\n",
       "      <th>74</th>\n",
       "      <td>75</td>\n",
       "      <td>0</td>\n",
       "      <td>White</td>\n",
       "      <td>Single</td>\n",
       "      <td>Unknown</td>\n",
       "      <td>12.86</td>\n",
       "      <td>71</td>\n",
       "    </tr>\n",
       "    <tr>\n",
       "      <th>75</th>\n",
       "      <td>76</td>\n",
       "      <td>0</td>\n",
       "      <td>White</td>\n",
       "      <td>Divorced</td>\n",
       "      <td>English</td>\n",
       "      <td>88.65</td>\n",
       "      <td>64</td>\n",
       "    </tr>\n",
       "    <tr>\n",
       "      <th>76</th>\n",
       "      <td>77</td>\n",
       "      <td>0</td>\n",
       "      <td>Unknown</td>\n",
       "      <td>Married</td>\n",
       "      <td>English</td>\n",
       "      <td>17.84</td>\n",
       "      <td>49</td>\n",
       "    </tr>\n",
       "    <tr>\n",
       "      <th>77</th>\n",
       "      <td>78</td>\n",
       "      <td>0</td>\n",
       "      <td>White</td>\n",
       "      <td>Single</td>\n",
       "      <td>English</td>\n",
       "      <td>12.92</td>\n",
       "      <td>37</td>\n",
       "    </tr>\n",
       "    <tr>\n",
       "      <th>78</th>\n",
       "      <td>79</td>\n",
       "      <td>0</td>\n",
       "      <td>White</td>\n",
       "      <td>Divorced</td>\n",
       "      <td>English</td>\n",
       "      <td>19.49</td>\n",
       "      <td>72</td>\n",
       "    </tr>\n",
       "    <tr>\n",
       "      <th>79</th>\n",
       "      <td>80</td>\n",
       "      <td>0</td>\n",
       "      <td>African American</td>\n",
       "      <td>Married</td>\n",
       "      <td>English</td>\n",
       "      <td>15.04</td>\n",
       "      <td>63</td>\n",
       "    </tr>\n",
       "    <tr>\n",
       "      <th>80</th>\n",
       "      <td>81</td>\n",
       "      <td>0</td>\n",
       "      <td>Asian</td>\n",
       "      <td>Married</td>\n",
       "      <td>Spanish</td>\n",
       "      <td>14.15</td>\n",
       "      <td>75</td>\n",
       "    </tr>\n",
       "    <tr>\n",
       "      <th>81</th>\n",
       "      <td>82</td>\n",
       "      <td>0</td>\n",
       "      <td>Asian</td>\n",
       "      <td>Separated</td>\n",
       "      <td>Icelandic</td>\n",
       "      <td>98.40</td>\n",
       "      <td>87</td>\n",
       "    </tr>\n",
       "    <tr>\n",
       "      <th>82</th>\n",
       "      <td>83</td>\n",
       "      <td>0</td>\n",
       "      <td>White</td>\n",
       "      <td>Married</td>\n",
       "      <td>Spanish</td>\n",
       "      <td>18.33</td>\n",
       "      <td>30</td>\n",
       "    </tr>\n",
       "    <tr>\n",
       "      <th>83</th>\n",
       "      <td>84</td>\n",
       "      <td>1</td>\n",
       "      <td>Unknown</td>\n",
       "      <td>Single</td>\n",
       "      <td>English</td>\n",
       "      <td>15.24</td>\n",
       "      <td>62</td>\n",
       "    </tr>\n",
       "    <tr>\n",
       "      <th>84</th>\n",
       "      <td>85</td>\n",
       "      <td>1</td>\n",
       "      <td>White</td>\n",
       "      <td>Divorced</td>\n",
       "      <td>Spanish</td>\n",
       "      <td>19.52</td>\n",
       "      <td>57</td>\n",
       "    </tr>\n",
       "    <tr>\n",
       "      <th>85</th>\n",
       "      <td>86</td>\n",
       "      <td>1</td>\n",
       "      <td>White</td>\n",
       "      <td>Divorced</td>\n",
       "      <td>English</td>\n",
       "      <td>6.48</td>\n",
       "      <td>61</td>\n",
       "    </tr>\n",
       "    <tr>\n",
       "      <th>86</th>\n",
       "      <td>87</td>\n",
       "      <td>0</td>\n",
       "      <td>African American</td>\n",
       "      <td>Married</td>\n",
       "      <td>English</td>\n",
       "      <td>9.10</td>\n",
       "      <td>72</td>\n",
       "    </tr>\n",
       "    <tr>\n",
       "      <th>87</th>\n",
       "      <td>88</td>\n",
       "      <td>1</td>\n",
       "      <td>Asian</td>\n",
       "      <td>Married</td>\n",
       "      <td>English</td>\n",
       "      <td>15.11</td>\n",
       "      <td>79</td>\n",
       "    </tr>\n",
       "    <tr>\n",
       "      <th>88</th>\n",
       "      <td>89</td>\n",
       "      <td>0</td>\n",
       "      <td>Unknown</td>\n",
       "      <td>Married</td>\n",
       "      <td>English</td>\n",
       "      <td>19.46</td>\n",
       "      <td>72</td>\n",
       "    </tr>\n",
       "    <tr>\n",
       "      <th>89</th>\n",
       "      <td>90</td>\n",
       "      <td>1</td>\n",
       "      <td>Asian</td>\n",
       "      <td>Married</td>\n",
       "      <td>English</td>\n",
       "      <td>13.90</td>\n",
       "      <td>55</td>\n",
       "    </tr>\n",
       "    <tr>\n",
       "      <th>90</th>\n",
       "      <td>91</td>\n",
       "      <td>1</td>\n",
       "      <td>African American</td>\n",
       "      <td>Separated</td>\n",
       "      <td>English</td>\n",
       "      <td>19.36</td>\n",
       "      <td>36</td>\n",
       "    </tr>\n",
       "    <tr>\n",
       "      <th>91</th>\n",
       "      <td>92</td>\n",
       "      <td>1</td>\n",
       "      <td>African American</td>\n",
       "      <td>Single</td>\n",
       "      <td>Icelandic</td>\n",
       "      <td>11.04</td>\n",
       "      <td>33</td>\n",
       "    </tr>\n",
       "    <tr>\n",
       "      <th>92</th>\n",
       "      <td>93</td>\n",
       "      <td>0</td>\n",
       "      <td>Asian</td>\n",
       "      <td>Single</td>\n",
       "      <td>Unknown</td>\n",
       "      <td>93.23</td>\n",
       "      <td>49</td>\n",
       "    </tr>\n",
       "    <tr>\n",
       "      <th>93</th>\n",
       "      <td>94</td>\n",
       "      <td>0</td>\n",
       "      <td>Unknown</td>\n",
       "      <td>Married</td>\n",
       "      <td>Spanish</td>\n",
       "      <td>18.05</td>\n",
       "      <td>75</td>\n",
       "    </tr>\n",
       "    <tr>\n",
       "      <th>94</th>\n",
       "      <td>95</td>\n",
       "      <td>0</td>\n",
       "      <td>White</td>\n",
       "      <td>Divorced</td>\n",
       "      <td>English</td>\n",
       "      <td>11.88</td>\n",
       "      <td>64</td>\n",
       "    </tr>\n",
       "    <tr>\n",
       "      <th>95</th>\n",
       "      <td>96</td>\n",
       "      <td>1</td>\n",
       "      <td>White</td>\n",
       "      <td>Unknown</td>\n",
       "      <td>Spanish</td>\n",
       "      <td>12.38</td>\n",
       "      <td>45</td>\n",
       "    </tr>\n",
       "    <tr>\n",
       "      <th>96</th>\n",
       "      <td>97</td>\n",
       "      <td>0</td>\n",
       "      <td>White</td>\n",
       "      <td>Divorced</td>\n",
       "      <td>English</td>\n",
       "      <td>11.08</td>\n",
       "      <td>28</td>\n",
       "    </tr>\n",
       "    <tr>\n",
       "      <th>97</th>\n",
       "      <td>98</td>\n",
       "      <td>0</td>\n",
       "      <td>Asian</td>\n",
       "      <td>Single</td>\n",
       "      <td>Spanish</td>\n",
       "      <td>14.49</td>\n",
       "      <td>74</td>\n",
       "    </tr>\n",
       "    <tr>\n",
       "      <th>98</th>\n",
       "      <td>99</td>\n",
       "      <td>0</td>\n",
       "      <td>White</td>\n",
       "      <td>Separated</td>\n",
       "      <td>Spanish</td>\n",
       "      <td>17.98</td>\n",
       "      <td>54</td>\n",
       "    </tr>\n",
       "    <tr>\n",
       "      <th>99</th>\n",
       "      <td>100</td>\n",
       "      <td>1</td>\n",
       "      <td>White</td>\n",
       "      <td>Single</td>\n",
       "      <td>Spanish</td>\n",
       "      <td>14.90</td>\n",
       "      <td>76</td>\n",
       "    </tr>\n",
       "  </tbody>\n",
       "</table>\n",
       "<p>100 rows × 7 columns</p>\n",
       "</div>"
      ],
      "text/plain": [
       "    PatientID  PatientGender       PatientRace PatientMaritalStatus  \\\n",
       "0           1              1           Unknown              Married   \n",
       "1           2              1  African American            Separated   \n",
       "2           3              0             Asian              Married   \n",
       "3           4              1             White              Married   \n",
       "4           5              0             White              Married   \n",
       "5           6              1             White              Married   \n",
       "6           7              1             Asian              Married   \n",
       "7           8              0             White              Married   \n",
       "8           9              0             White               Single   \n",
       "9          10              0           Unknown               Single   \n",
       "10         11              1             White              Married   \n",
       "11         12              1             Asian             Divorced   \n",
       "12         13              1             White               Single   \n",
       "13         14              1             White              Married   \n",
       "14         15              0  African American               Single   \n",
       "15         16              0             White              Married   \n",
       "16         17              1  African American              Unknown   \n",
       "17         18              1           Unknown               Single   \n",
       "18         19              1             White              Married   \n",
       "19         20              0  African American               Single   \n",
       "20         21              1             White               Single   \n",
       "21         22              1  African American              Married   \n",
       "22         23              1             Asian               Single   \n",
       "23         24              0             White              Married   \n",
       "24         25              1             Asian              Married   \n",
       "25         26              1             Asian               Single   \n",
       "26         27              0           Unknown              Married   \n",
       "27         28              0             White               Single   \n",
       "28         29              1             White               Single   \n",
       "29         30              0             White               Single   \n",
       "..        ...            ...               ...                  ...   \n",
       "70         71              0             White              Married   \n",
       "71         72              0             Asian              Unknown   \n",
       "72         73              0             Asian              Married   \n",
       "73         74              1             White               Single   \n",
       "74         75              0             White               Single   \n",
       "75         76              0             White             Divorced   \n",
       "76         77              0           Unknown              Married   \n",
       "77         78              0             White               Single   \n",
       "78         79              0             White             Divorced   \n",
       "79         80              0  African American              Married   \n",
       "80         81              0             Asian              Married   \n",
       "81         82              0             Asian            Separated   \n",
       "82         83              0             White              Married   \n",
       "83         84              1           Unknown               Single   \n",
       "84         85              1             White             Divorced   \n",
       "85         86              1             White             Divorced   \n",
       "86         87              0  African American              Married   \n",
       "87         88              1             Asian              Married   \n",
       "88         89              0           Unknown              Married   \n",
       "89         90              1             Asian              Married   \n",
       "90         91              1  African American            Separated   \n",
       "91         92              1  African American               Single   \n",
       "92         93              0             Asian               Single   \n",
       "93         94              0           Unknown              Married   \n",
       "94         95              0             White             Divorced   \n",
       "95         96              1             White              Unknown   \n",
       "96         97              0             White             Divorced   \n",
       "97         98              0             Asian               Single   \n",
       "98         99              0             White            Separated   \n",
       "99        100              1             White               Single   \n",
       "\n",
       "   PatientLanguage  PatientPopulationPercentageBelowPoverty  Age  \n",
       "0        Icelandic                                    18.08   69  \n",
       "1          English                                    13.03   65  \n",
       "2          English                                     6.67   46  \n",
       "3          English                                    16.09   38  \n",
       "4          English                                    18.20   96  \n",
       "5          Spanish                                    12.41   51  \n",
       "6          Spanish                                    12.80   59  \n",
       "7          English                                    15.31   81  \n",
       "8          English                                    16.32   84  \n",
       "9          English                                    11.43   31  \n",
       "10         English                                    11.25   68  \n",
       "11         English                                    83.75   92  \n",
       "12         Spanish                                    14.28   37  \n",
       "13         English                                    11.89   90  \n",
       "14         Unknown                                    94.00   44  \n",
       "15         English                                    12.01   49  \n",
       "16         English                                    16.89   65  \n",
       "17       Icelandic                                     1.70   39  \n",
       "18         English                                    93.60   90  \n",
       "19         English                                    15.72   59  \n",
       "20       Icelandic                                    13.10   54  \n",
       "21         English                                    14.87   66  \n",
       "22         English                                    13.97   43  \n",
       "23       Icelandic                                    19.22   86  \n",
       "24         English                                    16.71   46  \n",
       "25         Spanish                                     7.59   54  \n",
       "26         English                                    18.05   96  \n",
       "27         Spanish                                    16.24   65  \n",
       "28         English                                    14.49   75  \n",
       "29       Icelandic                                    11.16   54  \n",
       "..             ...                                      ...  ...  \n",
       "70         Spanish                                    18.80   74  \n",
       "71         Spanish                                    19.16   38  \n",
       "72         English                                    14.20   53  \n",
       "73         English                                    18.41   96  \n",
       "74         Unknown                                    12.86   71  \n",
       "75         English                                    88.65   64  \n",
       "76         English                                    17.84   49  \n",
       "77         English                                    12.92   37  \n",
       "78         English                                    19.49   72  \n",
       "79         English                                    15.04   63  \n",
       "80         Spanish                                    14.15   75  \n",
       "81       Icelandic                                    98.40   87  \n",
       "82         Spanish                                    18.33   30  \n",
       "83         English                                    15.24   62  \n",
       "84         Spanish                                    19.52   57  \n",
       "85         English                                     6.48   61  \n",
       "86         English                                     9.10   72  \n",
       "87         English                                    15.11   79  \n",
       "88         English                                    19.46   72  \n",
       "89         English                                    13.90   55  \n",
       "90         English                                    19.36   36  \n",
       "91       Icelandic                                    11.04   33  \n",
       "92         Unknown                                    93.23   49  \n",
       "93         Spanish                                    18.05   75  \n",
       "94         English                                    11.88   64  \n",
       "95         Spanish                                    12.38   45  \n",
       "96         English                                    11.08   28  \n",
       "97         Spanish                                    14.49   74  \n",
       "98         Spanish                                    17.98   54  \n",
       "99         Spanish                                    14.90   76  \n",
       "\n",
       "[100 rows x 7 columns]"
      ]
     },
     "execution_count": 716,
     "metadata": {},
     "output_type": "execute_result"
    }
   ],
   "source": [
    "# Feature Maps\n",
    "gender = {'Male':1, \n",
    "         'Female':2}\n",
    "\n",
    "# For ICDCodes:\n",
    "#     (A-Z) = (1 - 26)\n",
    "#     (00-99) remains the same\n",
    "#     \".xxx\" will be dropped for engineer feature\n",
    "\n",
    "# Age will be calculated by BirthDate minus currentDate\n",
    "\n",
    "race = {'Unknown': 0,\n",
    "        'African American': 1,\n",
    "        'White': 2,\n",
    "        'Asian': 3}\n",
    "\n",
    "marital_status = {'Single': 0, \n",
    "                  'Married': 1, \n",
    "                  'Divorced': 2,\n",
    "                  'Separated': 3, \n",
    "                  'Widowed': 4}\n",
    "\n",
    "language = {'English': 1,\n",
    "            'Icelandic': 2,\n",
    "            'Spanish': 3}\n",
    "\n",
    "# Length of Stay (LOS) will be engineered from AdmissionEndDate - AdmissionStartDate from admissions\n",
    "\n",
    "# Lab Names will be engineered into unique index (1-35)\n",
    "lab_name_int = {}\n",
    "sorted_lab_names = labs['LabName'].sort_values(inplace=False)\n",
    "count = 0\n",
    "for lab in sorted_lab_names:\n",
    "    if lab not in lab_name_int:\n",
    "        count = count + 1\n",
    "        lab_name_int[lab] = count\n",
    "#print(lab_name_int)\n",
    "  \n",
    "# PatientID will be engineered into unique index (1-100)\n",
    "patient_id_reduced = {}\n",
    "count = 0\n",
    "for patient in patients['PatientID']:\n",
    "    if patient not in patient_id_reduced:\n",
    "        count = count + 1\n",
    "        patient_id_reduced[patient] = count\n",
    "#print(patient_id_reduced)\n",
    "\n",
    "\n",
    "#Create a new function:\n",
    "def index_cat(i, m):\n",
    "    return m[i]\n",
    "    \n",
    "#clean_patients.head()\n",
    "#Applying per column:\n",
    "#print \"Missing values per column:\"\n",
    "#clean_patients.apply(index_cat, axis=0) #axis=0 defines that function is to be applied on each column\n",
    "clean_patients['PatientID'] = clean_patients['PatientID'].apply(lambda x: index_cat(x, patient_id_reduced))\n",
    "clean_patients['PatientGender'] = [1 if x == 'Male' else 0 for x in clean_patients['PatientGender'] ]\n",
    "\n",
    "def calculate_age(born):\n",
    "    today = datetime.date.today()\n",
    "    return today.year - born.year - ((today.month, today.day) < (born.month, born.day))\n",
    "\n",
    "clean_patients['Age'] = pd.to_datetime(clean_patients.loc[:,'PatientDateOfBirth'])\n",
    "\n",
    "clean_patients = clean_patients.drop('PatientDateOfBirth', 1)\n",
    "\n",
    "clean_patients['Age'] = clean_patients['Age'].apply(lambda x: calculate_age(x))\n",
    "\n",
    "\n",
    "\n",
    "\n",
    "clean_patients.head(100)\n",
    "#Applying per row:\n",
    "#print \"\\nMissing values per row:\"\n",
    "#print data.apply(num_missing, axis=1).head() #axis=1 defines that function is to be applied on each row\n",
    "\n",
    "\n"
   ]
  },
  {
   "cell_type": "code",
   "execution_count": 717,
   "metadata": {
    "collapsed": false
   },
   "outputs": [
    {
     "data": {
      "text/html": [
       "<div>\n",
       "<table border=\"1\" class=\"dataframe\">\n",
       "  <thead>\n",
       "    <tr style=\"text-align: right;\">\n",
       "      <th></th>\n",
       "      <th>PatientID</th>\n",
       "      <th>PatientGender</th>\n",
       "      <th>PatientRace</th>\n",
       "      <th>PatientMaritalStatus</th>\n",
       "      <th>PatientLanguage</th>\n",
       "      <th>Age</th>\n",
       "    </tr>\n",
       "  </thead>\n",
       "  <tbody>\n",
       "    <tr>\n",
       "      <th>0</th>\n",
       "      <td>1</td>\n",
       "      <td>1</td>\n",
       "      <td>0</td>\n",
       "      <td>Married</td>\n",
       "      <td>Icelandic</td>\n",
       "      <td>69</td>\n",
       "    </tr>\n",
       "    <tr>\n",
       "      <th>1</th>\n",
       "      <td>2</td>\n",
       "      <td>1</td>\n",
       "      <td>1</td>\n",
       "      <td>Separated</td>\n",
       "      <td>English</td>\n",
       "      <td>65</td>\n",
       "    </tr>\n",
       "    <tr>\n",
       "      <th>2</th>\n",
       "      <td>3</td>\n",
       "      <td>0</td>\n",
       "      <td>3</td>\n",
       "      <td>Married</td>\n",
       "      <td>English</td>\n",
       "      <td>46</td>\n",
       "    </tr>\n",
       "    <tr>\n",
       "      <th>3</th>\n",
       "      <td>4</td>\n",
       "      <td>1</td>\n",
       "      <td>2</td>\n",
       "      <td>Married</td>\n",
       "      <td>English</td>\n",
       "      <td>38</td>\n",
       "    </tr>\n",
       "    <tr>\n",
       "      <th>4</th>\n",
       "      <td>5</td>\n",
       "      <td>0</td>\n",
       "      <td>2</td>\n",
       "      <td>Married</td>\n",
       "      <td>English</td>\n",
       "      <td>96</td>\n",
       "    </tr>\n",
       "  </tbody>\n",
       "</table>\n",
       "</div>"
      ],
      "text/plain": [
       "   PatientID  PatientGender  PatientRace PatientMaritalStatus PatientLanguage  \\\n",
       "0          1              1            0              Married       Icelandic   \n",
       "1          2              1            1            Separated         English   \n",
       "2          3              0            3              Married         English   \n",
       "3          4              1            2              Married         English   \n",
       "4          5              0            2              Married         English   \n",
       "\n",
       "   Age  \n",
       "0   69  \n",
       "1   65  \n",
       "2   46  \n",
       "3   38  \n",
       "4   96  "
      ]
     },
     "execution_count": 717,
     "metadata": {},
     "output_type": "execute_result"
    }
   ],
   "source": [
    "clean_patients = clean_patients.drop('PatientPopulationPercentageBelowPoverty', 1)\n",
    "\n",
    "clean_patients['PatientRace'] = clean_patients['PatientRace'].apply(lambda x: index_cat(x, race))\n",
    "clean_patients.head()"
   ]
  },
  {
   "cell_type": "code",
   "execution_count": 718,
   "metadata": {
    "collapsed": false
   },
   "outputs": [
    {
     "data": {
      "text/html": [
       "<div>\n",
       "<table border=\"1\" class=\"dataframe\">\n",
       "  <thead>\n",
       "    <tr style=\"text-align: right;\">\n",
       "      <th></th>\n",
       "      <th>PatientID</th>\n",
       "      <th>PatientGender</th>\n",
       "      <th>PatientRace</th>\n",
       "      <th>PatientMaritalStatus</th>\n",
       "      <th>PatientLanguage</th>\n",
       "      <th>Age</th>\n",
       "    </tr>\n",
       "  </thead>\n",
       "  <tbody>\n",
       "    <tr>\n",
       "      <th>0</th>\n",
       "      <td>1</td>\n",
       "      <td>1</td>\n",
       "      <td>0</td>\n",
       "      <td>1.0</td>\n",
       "      <td>1.0</td>\n",
       "      <td>69</td>\n",
       "    </tr>\n",
       "    <tr>\n",
       "      <th>1</th>\n",
       "      <td>2</td>\n",
       "      <td>1</td>\n",
       "      <td>1</td>\n",
       "      <td>2.0</td>\n",
       "      <td>0.0</td>\n",
       "      <td>65</td>\n",
       "    </tr>\n",
       "    <tr>\n",
       "      <th>2</th>\n",
       "      <td>3</td>\n",
       "      <td>0</td>\n",
       "      <td>3</td>\n",
       "      <td>1.0</td>\n",
       "      <td>0.0</td>\n",
       "      <td>46</td>\n",
       "    </tr>\n",
       "    <tr>\n",
       "      <th>3</th>\n",
       "      <td>4</td>\n",
       "      <td>1</td>\n",
       "      <td>2</td>\n",
       "      <td>1.0</td>\n",
       "      <td>0.0</td>\n",
       "      <td>38</td>\n",
       "    </tr>\n",
       "    <tr>\n",
       "      <th>4</th>\n",
       "      <td>5</td>\n",
       "      <td>0</td>\n",
       "      <td>2</td>\n",
       "      <td>1.0</td>\n",
       "      <td>0.0</td>\n",
       "      <td>96</td>\n",
       "    </tr>\n",
       "  </tbody>\n",
       "</table>\n",
       "</div>"
      ],
      "text/plain": [
       "   PatientID  PatientGender  PatientRace  PatientMaritalStatus  \\\n",
       "0          1              1            0                   1.0   \n",
       "1          2              1            1                   2.0   \n",
       "2          3              0            3                   1.0   \n",
       "3          4              1            2                   1.0   \n",
       "4          5              0            2                   1.0   \n",
       "\n",
       "   PatientLanguage  Age  \n",
       "0              1.0   69  \n",
       "1              0.0   65  \n",
       "2              0.0   46  \n",
       "3              0.0   38  \n",
       "4              0.0   96  "
      ]
     },
     "execution_count": 718,
     "metadata": {},
     "output_type": "execute_result"
    }
   ],
   "source": [
    "clean_patients['PatientMaritalStatus'] = patients['PatientMaritalStatus'].map(\n",
    "    {'Single': 0, 'Married': 1, 'Separated': 2, 'Divorced': 3, 'Widowed': 4})\n",
    "\n",
    "clean_patients['PatientLanguage'] = patients['PatientLanguage'].map(\n",
    "    {'English': 0, 'Icelandic': 1, 'Spanish': 2})\n",
    "#clean_patients['PatientMaritalStatus'] = clean_patients['PatientMaritalStatus'].apply(lambda x: index_cat(x, marital_status))\n",
    "#clean_patients['PatientLanguage'] = clean_patients['PatientLanguage'].apply(lambda x: index_cat(x, language))\n",
    "\n",
    "clean_patients.head()\n"
   ]
  },
  {
   "cell_type": "code",
   "execution_count": 719,
   "metadata": {
    "collapsed": false
   },
   "outputs": [
    {
     "data": {
      "image/png": "[encoded data removed]",
      "text/plain": [
       "<matplotlib.figure.Figure at 0x11988a1d0>"
      ]
     },
     "metadata": {},
     "output_type": "display_data"
    }
   ],
   "source": [
    "def plot_correlation_map( df ):\n",
    "    corr = df.corr()\n",
    "    _ , ax = plt.subplots( figsize =( 12 , 10 ) )\n",
    "    cmap = sns.diverging_palette( 220 , 10 , as_cmap = True )\n",
    "    _ = sns.heatmap(\n",
    "        corr, \n",
    "        cmap = cmap,\n",
    "        square=True, \n",
    "        cbar_kws={ 'shrink' : .9 }, \n",
    "        ax=ax, \n",
    "        annot = True, \n",
    "        annot_kws = { 'fontsize' : 12 }\n",
    "    )\n",
    "\n",
    "plot_correlation_map( clean_patients )"
   ]
  },
  {
   "cell_type": "code",
   "execution_count": 720,
   "metadata": {
    "collapsed": false
   },
   "outputs": [
    {
     "name": "stdout",
     "output_type": "stream",
     "text": [
      "0\n"
     ]
    }
   ],
   "source": [
    "def mutate(x):\n",
    "    return(x+1)\n",
    "\n",
    "x = 0\n",
    "mutate(x)\n",
    "print(x)"
   ]
  },
  {
   "cell_type": "markdown",
   "metadata": {
    "extensions": {
     "jupyter_dashboards": {
      "version": 1,
      "views": {
       "grid_default": {
        "col": 8,
        "height": 4,
        "hidden": false,
        "row": 0,
        "width": 4
       },
       "report_default": {
        "hidden": false
       }
      }
     }
    }
   },
   "source": [
    "### Cleaning ICD10 Codes to represent categories of disease"
   ]
  },
  {
   "cell_type": "code",
   "execution_count": 736,
   "metadata": {
    "collapsed": false,
    "extensions": {
     "jupyter_dashboards": {
      "version": 1,
      "views": {
       "grid_default": {
        "hidden": true
       },
       "report_default": {
        "hidden": true
       }
      }
     }
    }
   },
   "outputs": [],
   "source": [
    "# Engineering new feature: Disease Category (String)\n",
    "ICDCodes = diagnoses[\"PrimaryDiagnosisCode\"]"
   ]
  },
  {
   "cell_type": "code",
   "execution_count": 737,
   "metadata": {
    "collapsed": false,
    "extensions": {
     "jupyter_dashboards": {
      "version": 1,
      "views": {
       "grid_default": {
        "hidden": true
       },
       "report_default": {
        "hidden": true
       }
      }
     }
    }
   },
   "outputs": [],
   "source": [
    "# Dictionary to hold:\n",
    "#     key: 'ICD10 category'  \n",
    "#     value: 'Disease Category (String)'\n",
    "\n",
    "code_dict = {}\n",
    "icd_codes = []"
   ]
  },
  {
   "cell_type": "code",
   "execution_count": 738,
   "metadata": {
    "collapsed": false,
    "extensions": {
     "jupyter_dashboards": {
      "version": 1,
      "views": {
       "grid_default": {
        "col": 7,
        "height": 5,
        "hidden": false,
        "row": 45,
        "width": 4
       },
       "report_default": {
        "hidden": false
       }
      }
     }
    }
   },
   "outputs": [
    {
     "data": {
      "text/plain": [
       "0     M01.X\n",
       "1       D65\n",
       "2     C92.1\n",
       "3    M05.51\n",
       "4    C91.00\n",
       "Name: PrimaryDiagnosisCode, dtype: object"
      ]
     },
     "execution_count": 738,
     "metadata": {},
     "output_type": "execute_result"
    }
   ],
   "source": [
    "ICDCodes.head()"
   ]
  },
  {
   "cell_type": "code",
   "execution_count": 809,
   "metadata": {
    "collapsed": false,
    "extensions": {
     "jupyter_dashboards": {
      "version": 1,
      "views": {
       "grid_default": {
        "hidden": true
       },
       "report_default": {
        "hidden": true
       }
      }
     }
    }
   },
   "outputs": [
    {
     "ename": "IndexError",
     "evalue": "invalid index to scalar variable.",
     "output_type": "error",
     "traceback": [
      "\u001b[0;31m---------------------------------------------------------------------------\u001b[0m",
      "\u001b[0;31mIndexError\u001b[0m                                Traceback (most recent call last)",
      "\u001b[0;32m<ipython-input-809-ef7f38879876>\u001b[0m in \u001b[0;36m<module>\u001b[0;34m()\u001b[0m\n\u001b[1;32m      1\u001b[0m \u001b[0;31m# Parse out sub ICD category\u001b[0m\u001b[0;34m\u001b[0m\u001b[0;34m\u001b[0m\u001b[0m\n\u001b[0;32m----> 2\u001b[0;31m \u001b[0mICDCodes\u001b[0m \u001b[0;34m=\u001b[0m \u001b[0mpd\u001b[0m\u001b[0;34m.\u001b[0m\u001b[0mDataFrame\u001b[0m\u001b[0;34m(\u001b[0m\u001b[0;34m[\u001b[0m\u001b[0mcode\u001b[0m\u001b[0;34m[\u001b[0m\u001b[0;36m0\u001b[0m\u001b[0;34m:\u001b[0m\u001b[0;36m3\u001b[0m\u001b[0;34m]\u001b[0m \u001b[0;32mfor\u001b[0m \u001b[0mcode\u001b[0m \u001b[0;32min\u001b[0m \u001b[0mICDCodes\u001b[0m\u001b[0;34m]\u001b[0m\u001b[0;34m)\u001b[0m\u001b[0;34m\u001b[0m\u001b[0m\n\u001b[0m\u001b[1;32m      3\u001b[0m \u001b[0mICDCodes\u001b[0m\u001b[0;34m.\u001b[0m\u001b[0mhead\u001b[0m\u001b[0;34m(\u001b[0m\u001b[0;34m)\u001b[0m\u001b[0;34m\u001b[0m\u001b[0m\n",
      "\u001b[0;32m<ipython-input-809-ef7f38879876>\u001b[0m in \u001b[0;36m<listcomp>\u001b[0;34m(.0)\u001b[0m\n\u001b[1;32m      1\u001b[0m \u001b[0;31m# Parse out sub ICD category\u001b[0m\u001b[0;34m\u001b[0m\u001b[0;34m\u001b[0m\u001b[0m\n\u001b[0;32m----> 2\u001b[0;31m \u001b[0mICDCodes\u001b[0m \u001b[0;34m=\u001b[0m \u001b[0mpd\u001b[0m\u001b[0;34m.\u001b[0m\u001b[0mDataFrame\u001b[0m\u001b[0;34m(\u001b[0m\u001b[0;34m[\u001b[0m\u001b[0mcode\u001b[0m\u001b[0;34m[\u001b[0m\u001b[0;36m0\u001b[0m\u001b[0;34m:\u001b[0m\u001b[0;36m3\u001b[0m\u001b[0;34m]\u001b[0m \u001b[0;32mfor\u001b[0m \u001b[0mcode\u001b[0m \u001b[0;32min\u001b[0m \u001b[0mICDCodes\u001b[0m\u001b[0;34m]\u001b[0m\u001b[0;34m)\u001b[0m\u001b[0;34m\u001b[0m\u001b[0m\n\u001b[0m\u001b[1;32m      3\u001b[0m \u001b[0mICDCodes\u001b[0m\u001b[0;34m.\u001b[0m\u001b[0mhead\u001b[0m\u001b[0;34m(\u001b[0m\u001b[0;34m)\u001b[0m\u001b[0;34m\u001b[0m\u001b[0m\n",
      "\u001b[0;31mIndexError\u001b[0m: invalid index to scalar variable."
     ]
    }
   ],
   "source": [
    "# Parse out sub ICD category\n",
    "ICDCodes = pd.DataFrame([code[0:3] for code in ICDCodes])\n",
    "ICDCodes.head()"
   ]
  },
  {
   "cell_type": "code",
   "execution_count": 820,
   "metadata": {
    "collapsed": false
   },
   "outputs": [
    {
     "data": {
      "text/html": [
       "<div>\n",
       "<table border=\"1\" class=\"dataframe\">\n",
       "  <thead>\n",
       "    <tr style=\"text-align: right;\">\n",
       "      <th></th>\n",
       "      <th>PatientID</th>\n",
       "      <th>ICDCodes</th>\n",
       "    </tr>\n",
       "  </thead>\n",
       "  <tbody>\n",
       "    <tr>\n",
       "      <th>0</th>\n",
       "      <td>68</td>\n",
       "      <td>M01</td>\n",
       "    </tr>\n",
       "    <tr>\n",
       "      <th>1</th>\n",
       "      <td>69</td>\n",
       "      <td>D65</td>\n",
       "    </tr>\n",
       "    <tr>\n",
       "      <th>2</th>\n",
       "      <td>69</td>\n",
       "      <td>C92</td>\n",
       "    </tr>\n",
       "    <tr>\n",
       "      <th>3</th>\n",
       "      <td>69</td>\n",
       "      <td>M05</td>\n",
       "    </tr>\n",
       "    <tr>\n",
       "      <th>4</th>\n",
       "      <td>70</td>\n",
       "      <td>C91</td>\n",
       "    </tr>\n",
       "  </tbody>\n",
       "</table>\n",
       "</div>"
      ],
      "text/plain": [
       "   PatientID ICDCodes\n",
       "0         68      M01\n",
       "1         69      D65\n",
       "2         69      C92\n",
       "3         69      M05\n",
       "4         70      C91"
      ]
     },
     "execution_count": 820,
     "metadata": {},
     "output_type": "execute_result"
    }
   ],
   "source": [
    "patient_diags = diagnoses\n",
    "patient_diags = patient_diags.drop(['AdmissionID','PrimaryDiagnosisCode','PrimaryDiagnosisDescription'], 1)\n",
    "patient_diags['PatientID'] = admissions['PatientID'].apply(lambda x: index_cat(x, patient_id_reduced))\n",
    "patient_diags.head()"
   ]
  },
  {
   "cell_type": "code",
   "execution_count": 822,
   "metadata": {
    "collapsed": false,
    "extensions": {
     "jupyter_dashboards": {
      "version": 1,
      "views": {
       "grid_default": {
        "col": 6,
        "height": 7,
        "hidden": false,
        "row": 70,
        "width": 4
       },
       "report_default": {
        "hidden": false
       }
      }
     }
    }
   },
   "outputs": [
    {
     "name": "stdout",
     "output_type": "stream",
     "text": [
      "<pandas.core.indexing._iLocIndexer object at 0x128f75d30>\n",
      "Z22\n",
      "50\n"
     ]
    },
    {
     "ename": "IndexError",
     "evalue": "tuple index out of range",
     "output_type": "error",
     "traceback": [
      "\u001b[0;31m---------------------------------------------------------------------------\u001b[0m",
      "\u001b[0;31mIndexError\u001b[0m                                Traceback (most recent call last)",
      "\u001b[0;32m<ipython-input-822-f08ba637e641>\u001b[0m in \u001b[0;36m<module>\u001b[0;34m()\u001b[0m\n\u001b[1;32m     24\u001b[0m         \u001b[0mprint\u001b[0m \u001b[0;34m(\u001b[0m\u001b[0mclean_patients\u001b[0m\u001b[0;34m.\u001b[0m\u001b[0mcolumns\u001b[0m\u001b[0;34m.\u001b[0m\u001b[0mget_loc\u001b[0m\u001b[0;34m(\u001b[0m\u001b[0mcode\u001b[0m\u001b[0;34m)\u001b[0m\u001b[0;34m)\u001b[0m\u001b[0;34m\u001b[0m\u001b[0m\n\u001b[1;32m     25\u001b[0m         \u001b[0mindex\u001b[0m \u001b[0;34m=\u001b[0m \u001b[0mclean_patients\u001b[0m\u001b[0;34m.\u001b[0m\u001b[0mcolumns\u001b[0m\u001b[0;34m.\u001b[0m\u001b[0mget_loc\u001b[0m\u001b[0;34m(\u001b[0m\u001b[0mcode\u001b[0m\u001b[0;34m)\u001b[0m\u001b[0;34m\u001b[0m\u001b[0m\n\u001b[0;32m---> 26\u001b[0;31m         \u001b[0mprint\u001b[0m \u001b[0;34m(\u001b[0m\u001b[0mrow\u001b[0m\u001b[0;34m[\u001b[0m\u001b[0mindex\u001b[0m\u001b[0;34m]\u001b[0m\u001b[0;34m)\u001b[0m\u001b[0;34m\u001b[0m\u001b[0m\n\u001b[0m\u001b[1;32m     27\u001b[0m         \u001b[0;32mif\u001b[0m \u001b[0mrow\u001b[0m\u001b[0;34m[\u001b[0m\u001b[0mindex\u001b[0m\u001b[0;34m]\u001b[0m \u001b[0;32min\u001b[0m \u001b[0mpatient_dict\u001b[0m\u001b[0;34m[\u001b[0m\u001b[0mrow\u001b[0m\u001b[0;34m[\u001b[0m\u001b[0;36m0\u001b[0m\u001b[0;34m]\u001b[0m\u001b[0;34m]\u001b[0m\u001b[0;34m:\u001b[0m\u001b[0;34m\u001b[0m\u001b[0m\n\u001b[1;32m     28\u001b[0m             \u001b[0mrow\u001b[0m\u001b[0;34m[\u001b[0m\u001b[0mindex\u001b[0m\u001b[0;34m]\u001b[0m \u001b[0;34m=\u001b[0m \u001b[0;36m1\u001b[0m\u001b[0;34m\u001b[0m\u001b[0m\n",
      "\u001b[0;31mIndexError\u001b[0m: tuple index out of range"
     ]
    }
   ],
   "source": [
    "ICDCodes.head()\n",
    "\n",
    "# Push unique ICDCodes into icd_codes list\n",
    "for x in ICDCodes[0]:\n",
    "    if x not in icd_codes:\n",
    "        icd_codes.append(x)\n",
    "del icd_codes[0]\n",
    "#print(icd_codes)\n",
    "temp = [\"M05\", \"M01\"]\n",
    "# Create ICD columns in patients\n",
    "#for code in icd_codes:\n",
    " #   for d in diagnoses:\n",
    "        \n",
    "#clean_patients[co\n",
    "\n",
    "\n",
    "\n",
    "icd_i = {}\n",
    "\n",
    "\n",
    "for row in clean_patients.iterrows():\n",
    "    for code in icd_codes:\n",
    "        print(code)\n",
    "        print (clean_patients.columns.get_loc(code))\n",
    "        index = clean_patients.columns.get_loc(code)\n",
    "        print (row[index])\n",
    "        if row[index] in patient_dict[row[0]]:\n",
    "            row[index] = 1\n",
    "        else:\n",
    "            row[index] = 0\n",
    "\n",
    "          \n",
    "        \n",
    "#code = \"M05\"\n",
    "#print(clean_patients.columns.get_loc(code))\n",
    "#clean_patients.head()"
   ]
  },
  {
   "cell_type": "code",
   "execution_count": 810,
   "metadata": {
    "collapsed": false
   },
   "outputs": [
    {
     "name": "stdout",
     "output_type": "stream",
     "text": [
      "{1: ['M12', 'M12', 'E79'], 2: ['A42', 'M63', 'M72', 'J14', 'M12'], 3: ['O9A', 'C71', 'E10', 'C75'], 4: ['F25', 'M11', 'H26', 'D14'], 5: ['F52', 'F01', 'C91', 'C21'], 6: ['G47', 'M10', 'F34', 'B73'], 7: ['G96', 'C91', 'H36', 'Z91'], 8: ['M05', 'D15', 'C94', 'I25', 'C92'], 9: ['Z13', 'Q60', 'O26', 'M05', 'B95'], 10: ['G30'], 11: ['M90', 'H30', 'J66', 'E11', 'N18'], 12: ['C10', 'D41', 'C88', 'C49', 'E09'], 13: ['Z12', 'H47'], 14: ['M05', 'E75', 'M05'], 15: ['C02', 'B40'], 16: ['E09', 'E11'], 17: ['H34', 'K50', 'D68', 'J66', 'C31'], 18: ['M05', 'Q61', 'M24'], 19: ['T46', 'F33', 'M90', 'K57', 'H43', 'F31', 'O99'], 20: ['E11', 'I25'], 21: ['O24', 'F13', 'I79', 'T82'], 22: ['D12', 'A98', 'F14', 'M05', 'M06', 'M05'], 23: ['H75', 'C91', 'H16'], 24: ['Q60', 'O9A', 'I25', 'E10', 'H42', 'N25', 'H61'], 25: ['O99', 'H47', 'M02', 'O99'], 26: ['D39', 'E08', 'M10'], 27: ['D48', 'M11'], 28: ['I25', 'M63', 'E72', 'C34'], 29: ['H16', 'O24', 'Z13'], 30: ['M90', 'I79', 'M24', 'O99'], 31: ['M05'], 32: ['E11', 'E10'], 33: ['C03', 'K76', 'C75', 'Z12', 'I08'], 34: ['F52', 'C94', 'M06', 'C69'], 35: ['I08', 'Q24', 'O10', 'O98', 'E09'], 36: ['K57', 'C91'], 37: ['M90', 'E08', 'M49'], 38: ['D48', 'F63', 'O9A'], 39: ['S37', 'O10'], 40: ['O99', 'C94', 'A48', 'C11'], 41: ['F16', 'M05', 'M84'], 42: ['K50', 'F95', 'I43', 'M90', 'F14', 'O24', 'D55'], 43: ['E09', 'M49', 'I25', 'M90', 'M05', 'M90', 'C72'], 44: ['K71', 'Z12', 'M02', 'C94', 'F12'], 45: ['S35', 'K08', 'O10'], 46: ['C18', 'O24', 'C62', 'M05'], 47: ['D44', 'C18', 'E10'], 48: ['F45', 'C74', 'E08', 'G32', 'M06', 'E09'], 49: ['F18', 'E09', 'H26', 'D13'], 50: ['E08', 'H81', 'Z12', 'Z95'], 51: ['M06', 'K50', 'D35', 'C63', 'M06'], 52: ['D44', 'D16'], 53: ['E11', 'M90', 'A83'], 54: ['M06', 'C93', 'M1A'], 55: ['F11', 'M05', 'M05'], 56: ['M06', 'M05', 'F94', 'C47', 'M10'], 57: ['B33', 'C67'], 58: ['C76', 'K50'], 59: ['M10', 'E87', 'D89', 'K08', 'O26', 'O9A'], 60: ['E30', 'Z49', 'F18', 'J84'], 61: ['F94', 'G71', 'O46'], 62: ['C18', 'C79', 'O99', 'C16', 'M90', 'M01'], 63: ['E30', 'M10', 'M05', 'M05', 'O98', 'D37'], 64: ['C57', 'T46', 'D31'], 65: ['K00', 'M24', 'C79'], 66: ['E71', 'M24', 'E08', 'M63', 'T43'], 67: ['D12', 'D31', 'M01', 'Z22', 'C72'], 68: ['M01', 'M05', 'H15', 'M05', 'N16', 'D35', 'F06'], 69: ['D65', 'C92', 'M05'], 70: ['C91', 'G55', 'M51'], 71: ['O04', 'C33', 'M05'], 72: ['F12', 'E10'], 73: ['M12', 'T43'], 74: ['C54', 'F06', 'K91', 'F40'], 75: ['C40', 'M05', 'I97', 'D37', 'C94'], 76: ['M05', 'M84'], 77: ['C92', 'M02', 'D12'], 78: ['C38', 'C79'], 79: ['B95', 'C05', 'A52', 'M06', 'E09'], 80: ['T43', 'F21', 'C37'], 81: ['Z13', 'O24'], 82: ['Z13', 'F45', 'M06'], 83: ['D39'], 84: ['M84', 'O99', 'O04'], 85: ['B97', 'B97', 'D37', 'O07', 'D28'], 86: ['J44', 'D14', 'Z13'], 87: ['E10', 'F11', 'H47', 'C92', 'C41'], 88: ['M90', 'D13', 'M02'], 89: ['C71', 'Z22', 'C47', 'F31', 'K76'], 90: ['O10', 'E09', 'D37', 'N49'], 91: ['I15', 'I25', 'M26'], 92: ['C51', 'C40'], 93: ['E08', 'E08'], 94: ['M11', 'H75', 'I97', 'B08', 'M01', 'M63'], 95: ['G60', 'M05', 'E08', 'Z22', 'M02'], 96: ['E10', 'C40', 'C19', 'B96', 'O98'], 97: ['C18'], 98: ['I67', 'C94', 'N18', 'O99', 'D63'], 99: ['I51', 'C92', 'T46', 'C15'], 100: ['I25', 'M11', 'H47']}\n"
     ]
    },
    {
     "data": {
      "text/html": [
       "<div>\n",
       "<table border=\"1\" class=\"dataframe\">\n",
       "  <thead>\n",
       "    <tr style=\"text-align: right;\">\n",
       "      <th></th>\n",
       "      <th>1</th>\n",
       "      <th>2</th>\n",
       "      <th>3</th>\n",
       "      <th>4</th>\n",
       "      <th>5</th>\n",
       "      <th>6</th>\n",
       "      <th>7</th>\n",
       "      <th>8</th>\n",
       "      <th>9</th>\n",
       "      <th>10</th>\n",
       "      <th>...</th>\n",
       "      <th>91</th>\n",
       "      <th>92</th>\n",
       "      <th>93</th>\n",
       "      <th>94</th>\n",
       "      <th>95</th>\n",
       "      <th>96</th>\n",
       "      <th>97</th>\n",
       "      <th>98</th>\n",
       "      <th>99</th>\n",
       "      <th>100</th>\n",
       "    </tr>\n",
       "  </thead>\n",
       "  <tbody>\n",
       "    <tr>\n",
       "      <th>0</th>\n",
       "      <td>M12</td>\n",
       "      <td>A42</td>\n",
       "      <td>O9A</td>\n",
       "      <td>F25</td>\n",
       "      <td>F52</td>\n",
       "      <td>G47</td>\n",
       "      <td>G96</td>\n",
       "      <td>M05</td>\n",
       "      <td>Z13</td>\n",
       "      <td>G30</td>\n",
       "      <td>...</td>\n",
       "      <td>I15</td>\n",
       "      <td>C51</td>\n",
       "      <td>E08</td>\n",
       "      <td>M11</td>\n",
       "      <td>G60</td>\n",
       "      <td>E10</td>\n",
       "      <td>C18</td>\n",
       "      <td>I67</td>\n",
       "      <td>I51</td>\n",
       "      <td>I25</td>\n",
       "    </tr>\n",
       "    <tr>\n",
       "      <th>1</th>\n",
       "      <td>M12</td>\n",
       "      <td>M63</td>\n",
       "      <td>C71</td>\n",
       "      <td>M11</td>\n",
       "      <td>F01</td>\n",
       "      <td>M10</td>\n",
       "      <td>C91</td>\n",
       "      <td>D15</td>\n",
       "      <td>Q60</td>\n",
       "      <td>None</td>\n",
       "      <td>...</td>\n",
       "      <td>I25</td>\n",
       "      <td>C40</td>\n",
       "      <td>E08</td>\n",
       "      <td>H75</td>\n",
       "      <td>M05</td>\n",
       "      <td>C40</td>\n",
       "      <td>None</td>\n",
       "      <td>C94</td>\n",
       "      <td>C92</td>\n",
       "      <td>M11</td>\n",
       "    </tr>\n",
       "    <tr>\n",
       "      <th>2</th>\n",
       "      <td>E79</td>\n",
       "      <td>M72</td>\n",
       "      <td>E10</td>\n",
       "      <td>H26</td>\n",
       "      <td>C91</td>\n",
       "      <td>F34</td>\n",
       "      <td>H36</td>\n",
       "      <td>C94</td>\n",
       "      <td>O26</td>\n",
       "      <td>None</td>\n",
       "      <td>...</td>\n",
       "      <td>M26</td>\n",
       "      <td>None</td>\n",
       "      <td>None</td>\n",
       "      <td>I97</td>\n",
       "      <td>E08</td>\n",
       "      <td>C19</td>\n",
       "      <td>None</td>\n",
       "      <td>N18</td>\n",
       "      <td>T46</td>\n",
       "      <td>H47</td>\n",
       "    </tr>\n",
       "    <tr>\n",
       "      <th>3</th>\n",
       "      <td>None</td>\n",
       "      <td>J14</td>\n",
       "      <td>C75</td>\n",
       "      <td>D14</td>\n",
       "      <td>C21</td>\n",
       "      <td>B73</td>\n",
       "      <td>Z91</td>\n",
       "      <td>I25</td>\n",
       "      <td>M05</td>\n",
       "      <td>None</td>\n",
       "      <td>...</td>\n",
       "      <td>None</td>\n",
       "      <td>None</td>\n",
       "      <td>None</td>\n",
       "      <td>B08</td>\n",
       "      <td>Z22</td>\n",
       "      <td>B96</td>\n",
       "      <td>None</td>\n",
       "      <td>O99</td>\n",
       "      <td>C15</td>\n",
       "      <td>None</td>\n",
       "    </tr>\n",
       "    <tr>\n",
       "      <th>4</th>\n",
       "      <td>None</td>\n",
       "      <td>M12</td>\n",
       "      <td>None</td>\n",
       "      <td>None</td>\n",
       "      <td>None</td>\n",
       "      <td>None</td>\n",
       "      <td>None</td>\n",
       "      <td>C92</td>\n",
       "      <td>B95</td>\n",
       "      <td>None</td>\n",
       "      <td>...</td>\n",
       "      <td>None</td>\n",
       "      <td>None</td>\n",
       "      <td>None</td>\n",
       "      <td>M01</td>\n",
       "      <td>M02</td>\n",
       "      <td>O98</td>\n",
       "      <td>None</td>\n",
       "      <td>D63</td>\n",
       "      <td>None</td>\n",
       "      <td>None</td>\n",
       "    </tr>\n",
       "  </tbody>\n",
       "</table>\n",
       "<p>5 rows × 100 columns</p>\n",
       "</div>"
      ],
      "text/plain": [
       "    1    2     3     4     5     6     7    8    9     10   ...    91    92   \\\n",
       "0   M12  A42   O9A   F25   F52   G47   G96  M05  Z13   G30  ...    I15   C51   \n",
       "1   M12  M63   C71   M11   F01   M10   C91  D15  Q60  None  ...    I25   C40   \n",
       "2   E79  M72   E10   H26   C91   F34   H36  C94  O26  None  ...    M26  None   \n",
       "3  None  J14   C75   D14   C21   B73   Z91  I25  M05  None  ...   None  None   \n",
       "4  None  M12  None  None  None  None  None  C92  B95  None  ...   None  None   \n",
       "\n",
       "    93   94   95   96    97   98    99    100  \n",
       "0   E08  M11  G60  E10   C18  I67   I51   I25  \n",
       "1   E08  H75  M05  C40  None  C94   C92   M11  \n",
       "2  None  I97  E08  C19  None  N18   T46   H47  \n",
       "3  None  B08  Z22  B96  None  O99   C15  None  \n",
       "4  None  M01  M02  O98  None  D63  None  None  \n",
       "\n",
       "[5 rows x 100 columns]"
      ]
     },
     "execution_count": 810,
     "metadata": {},
     "output_type": "execute_result"
    }
   ],
   "source": [
    "#for index, row in df.iterrows():\n",
    "   # print row['Date']\n",
    "patient_dict = {k: g[\"ICDCodes\"].tolist() for k,g in patient_diags.groupby(\"PatientID\")}\n",
    "print(patient_dict)\n",
    "df = pd.DataFrame.from_dict(patient_dict, orient='index')\n",
    "df = df.transpose()\n",
    "\n",
    "df.head()\n"
   ]
  },
  {
   "cell_type": "code",
   "execution_count": null,
   "metadata": {
    "collapsed": true
   },
   "outputs": [],
   "source": []
  },
  {
   "cell_type": "code",
   "execution_count": 727,
   "metadata": {
    "collapsed": false
   },
   "outputs": [
    {
     "ename": "KeyError",
     "evalue": "'PatientID'",
     "output_type": "error",
     "traceback": [
      "\u001b[0;31m---------------------------------------------------------------------------\u001b[0m",
      "\u001b[0;31mKeyError\u001b[0m                                  Traceback (most recent call last)",
      "\u001b[0;32m/Users/bwi/anaconda3/lib/python3.6/site-packages/pandas/indexes/base.py\u001b[0m in \u001b[0;36mget_loc\u001b[0;34m(self, key, method, tolerance)\u001b[0m\n\u001b[1;32m   2133\u001b[0m             \u001b[0;32mtry\u001b[0m\u001b[0;34m:\u001b[0m\u001b[0;34m\u001b[0m\u001b[0m\n\u001b[0;32m-> 2134\u001b[0;31m                 \u001b[0;32mreturn\u001b[0m \u001b[0mself\u001b[0m\u001b[0;34m.\u001b[0m\u001b[0m_engine\u001b[0m\u001b[0;34m.\u001b[0m\u001b[0mget_loc\u001b[0m\u001b[0;34m(\u001b[0m\u001b[0mkey\u001b[0m\u001b[0;34m)\u001b[0m\u001b[0;34m\u001b[0m\u001b[0m\n\u001b[0m\u001b[1;32m   2135\u001b[0m             \u001b[0;32mexcept\u001b[0m \u001b[0mKeyError\u001b[0m\u001b[0;34m:\u001b[0m\u001b[0;34m\u001b[0m\u001b[0m\n",
      "\u001b[0;32mpandas/index.pyx\u001b[0m in \u001b[0;36mpandas.index.IndexEngine.get_loc (pandas/index.c:4433)\u001b[0;34m()\u001b[0m\n",
      "\u001b[0;32mpandas/index.pyx\u001b[0m in \u001b[0;36mpandas.index.IndexEngine.get_loc (pandas/index.c:4279)\u001b[0;34m()\u001b[0m\n",
      "\u001b[0;32mpandas/src/hashtable_class_helper.pxi\u001b[0m in \u001b[0;36mpandas.hashtable.PyObjectHashTable.get_item (pandas/hashtable.c:13742)\u001b[0;34m()\u001b[0m\n",
      "\u001b[0;32mpandas/src/hashtable_class_helper.pxi\u001b[0m in \u001b[0;36mpandas.hashtable.PyObjectHashTable.get_item (pandas/hashtable.c:13696)\u001b[0;34m()\u001b[0m\n",
      "\u001b[0;31mKeyError\u001b[0m: 'PatientID'",
      "\nDuring handling of the above exception, another exception occurred:\n",
      "\u001b[0;31mKeyError\u001b[0m                                  Traceback (most recent call last)",
      "\u001b[0;32m<ipython-input-727-5bce9b0eb476>\u001b[0m in \u001b[0;36m<module>\u001b[0;34m()\u001b[0m\n\u001b[1;32m      1\u001b[0m \u001b[0;31m# Cleaning diagnoses\u001b[0m\u001b[0;34m\u001b[0m\u001b[0;34m\u001b[0m\u001b[0m\n\u001b[0;32m----> 2\u001b[0;31m \u001b[0mclean_diagnoses\u001b[0m\u001b[0;34m[\u001b[0m\u001b[0;34m'PatientID'\u001b[0m\u001b[0;34m]\u001b[0m \u001b[0;34m=\u001b[0m \u001b[0mclean_diagnoses\u001b[0m\u001b[0;34m[\u001b[0m\u001b[0;34m'PatientID'\u001b[0m\u001b[0;34m]\u001b[0m\u001b[0;34m.\u001b[0m\u001b[0mapply\u001b[0m\u001b[0;34m(\u001b[0m\u001b[0;32mlambda\u001b[0m \u001b[0mx\u001b[0m\u001b[0;34m:\u001b[0m \u001b[0mindex_cat\u001b[0m\u001b[0;34m(\u001b[0m\u001b[0mx\u001b[0m\u001b[0;34m,\u001b[0m \u001b[0mpatient_id_reduced\u001b[0m\u001b[0;34m)\u001b[0m\u001b[0;34m)\u001b[0m\u001b[0;34m\u001b[0m\u001b[0m\n\u001b[0m\u001b[1;32m      3\u001b[0m \u001b[0mclean_diagnoses\u001b[0m \u001b[0;34m=\u001b[0m \u001b[0mclean_diagnoses\u001b[0m\u001b[0;34m.\u001b[0m\u001b[0mset_index\u001b[0m\u001b[0;34m(\u001b[0m\u001b[0;34m'PatientID'\u001b[0m\u001b[0;34m)\u001b[0m\u001b[0;34m\u001b[0m\u001b[0m\n\u001b[1;32m      4\u001b[0m \u001b[0;31m#clean_diagnoses = clean_diagnoses.drop('PrimaryDiagnosisDescription')\u001b[0m\u001b[0;34m\u001b[0m\u001b[0;34m\u001b[0m\u001b[0m\n\u001b[1;32m      5\u001b[0m \u001b[0mclean_diagnoses\u001b[0m\u001b[0;34m.\u001b[0m\u001b[0mgroupby\u001b[0m\u001b[0;34m(\u001b[0m\u001b[0;34m'PatientID'\u001b[0m\u001b[0;34m)\u001b[0m\u001b[0;34m.\u001b[0m\u001b[0mhead\u001b[0m\u001b[0;34m(\u001b[0m\u001b[0;34m)\u001b[0m\u001b[0;34m\u001b[0m\u001b[0m\n",
      "\u001b[0;32m/Users/bwi/anaconda3/lib/python3.6/site-packages/pandas/core/frame.py\u001b[0m in \u001b[0;36m__getitem__\u001b[0;34m(self, key)\u001b[0m\n\u001b[1;32m   2057\u001b[0m             \u001b[0;32mreturn\u001b[0m \u001b[0mself\u001b[0m\u001b[0;34m.\u001b[0m\u001b[0m_getitem_multilevel\u001b[0m\u001b[0;34m(\u001b[0m\u001b[0mkey\u001b[0m\u001b[0;34m)\u001b[0m\u001b[0;34m\u001b[0m\u001b[0m\n\u001b[1;32m   2058\u001b[0m         \u001b[0;32melse\u001b[0m\u001b[0;34m:\u001b[0m\u001b[0;34m\u001b[0m\u001b[0m\n\u001b[0;32m-> 2059\u001b[0;31m             \u001b[0;32mreturn\u001b[0m \u001b[0mself\u001b[0m\u001b[0;34m.\u001b[0m\u001b[0m_getitem_column\u001b[0m\u001b[0;34m(\u001b[0m\u001b[0mkey\u001b[0m\u001b[0;34m)\u001b[0m\u001b[0;34m\u001b[0m\u001b[0m\n\u001b[0m\u001b[1;32m   2060\u001b[0m \u001b[0;34m\u001b[0m\u001b[0m\n\u001b[1;32m   2061\u001b[0m     \u001b[0;32mdef\u001b[0m \u001b[0m_getitem_column\u001b[0m\u001b[0;34m(\u001b[0m\u001b[0mself\u001b[0m\u001b[0;34m,\u001b[0m \u001b[0mkey\u001b[0m\u001b[0;34m)\u001b[0m\u001b[0;34m:\u001b[0m\u001b[0;34m\u001b[0m\u001b[0m\n",
      "\u001b[0;32m/Users/bwi/anaconda3/lib/python3.6/site-packages/pandas/core/frame.py\u001b[0m in \u001b[0;36m_getitem_column\u001b[0;34m(self, key)\u001b[0m\n\u001b[1;32m   2064\u001b[0m         \u001b[0;31m# get column\u001b[0m\u001b[0;34m\u001b[0m\u001b[0;34m\u001b[0m\u001b[0m\n\u001b[1;32m   2065\u001b[0m         \u001b[0;32mif\u001b[0m \u001b[0mself\u001b[0m\u001b[0;34m.\u001b[0m\u001b[0mcolumns\u001b[0m\u001b[0;34m.\u001b[0m\u001b[0mis_unique\u001b[0m\u001b[0;34m:\u001b[0m\u001b[0;34m\u001b[0m\u001b[0m\n\u001b[0;32m-> 2066\u001b[0;31m             \u001b[0;32mreturn\u001b[0m \u001b[0mself\u001b[0m\u001b[0;34m.\u001b[0m\u001b[0m_get_item_cache\u001b[0m\u001b[0;34m(\u001b[0m\u001b[0mkey\u001b[0m\u001b[0;34m)\u001b[0m\u001b[0;34m\u001b[0m\u001b[0m\n\u001b[0m\u001b[1;32m   2067\u001b[0m \u001b[0;34m\u001b[0m\u001b[0m\n\u001b[1;32m   2068\u001b[0m         \u001b[0;31m# duplicate columns & possible reduce dimensionality\u001b[0m\u001b[0;34m\u001b[0m\u001b[0;34m\u001b[0m\u001b[0m\n",
      "\u001b[0;32m/Users/bwi/anaconda3/lib/python3.6/site-packages/pandas/core/generic.py\u001b[0m in \u001b[0;36m_get_item_cache\u001b[0;34m(self, item)\u001b[0m\n\u001b[1;32m   1384\u001b[0m         \u001b[0mres\u001b[0m \u001b[0;34m=\u001b[0m \u001b[0mcache\u001b[0m\u001b[0;34m.\u001b[0m\u001b[0mget\u001b[0m\u001b[0;34m(\u001b[0m\u001b[0mitem\u001b[0m\u001b[0;34m)\u001b[0m\u001b[0;34m\u001b[0m\u001b[0m\n\u001b[1;32m   1385\u001b[0m         \u001b[0;32mif\u001b[0m \u001b[0mres\u001b[0m \u001b[0;32mis\u001b[0m \u001b[0;32mNone\u001b[0m\u001b[0;34m:\u001b[0m\u001b[0;34m\u001b[0m\u001b[0m\n\u001b[0;32m-> 1386\u001b[0;31m             \u001b[0mvalues\u001b[0m \u001b[0;34m=\u001b[0m \u001b[0mself\u001b[0m\u001b[0;34m.\u001b[0m\u001b[0m_data\u001b[0m\u001b[0;34m.\u001b[0m\u001b[0mget\u001b[0m\u001b[0;34m(\u001b[0m\u001b[0mitem\u001b[0m\u001b[0;34m)\u001b[0m\u001b[0;34m\u001b[0m\u001b[0m\n\u001b[0m\u001b[1;32m   1387\u001b[0m             \u001b[0mres\u001b[0m \u001b[0;34m=\u001b[0m \u001b[0mself\u001b[0m\u001b[0;34m.\u001b[0m\u001b[0m_box_item_values\u001b[0m\u001b[0;34m(\u001b[0m\u001b[0mitem\u001b[0m\u001b[0;34m,\u001b[0m \u001b[0mvalues\u001b[0m\u001b[0;34m)\u001b[0m\u001b[0;34m\u001b[0m\u001b[0m\n\u001b[1;32m   1388\u001b[0m             \u001b[0mcache\u001b[0m\u001b[0;34m[\u001b[0m\u001b[0mitem\u001b[0m\u001b[0;34m]\u001b[0m \u001b[0;34m=\u001b[0m \u001b[0mres\u001b[0m\u001b[0;34m\u001b[0m\u001b[0m\n",
      "\u001b[0;32m/Users/bwi/anaconda3/lib/python3.6/site-packages/pandas/core/internals.py\u001b[0m in \u001b[0;36mget\u001b[0;34m(self, item, fastpath)\u001b[0m\n\u001b[1;32m   3541\u001b[0m \u001b[0;34m\u001b[0m\u001b[0m\n\u001b[1;32m   3542\u001b[0m             \u001b[0;32mif\u001b[0m \u001b[0;32mnot\u001b[0m \u001b[0misnull\u001b[0m\u001b[0;34m(\u001b[0m\u001b[0mitem\u001b[0m\u001b[0;34m)\u001b[0m\u001b[0;34m:\u001b[0m\u001b[0;34m\u001b[0m\u001b[0m\n\u001b[0;32m-> 3543\u001b[0;31m                 \u001b[0mloc\u001b[0m \u001b[0;34m=\u001b[0m \u001b[0mself\u001b[0m\u001b[0;34m.\u001b[0m\u001b[0mitems\u001b[0m\u001b[0;34m.\u001b[0m\u001b[0mget_loc\u001b[0m\u001b[0;34m(\u001b[0m\u001b[0mitem\u001b[0m\u001b[0;34m)\u001b[0m\u001b[0;34m\u001b[0m\u001b[0m\n\u001b[0m\u001b[1;32m   3544\u001b[0m             \u001b[0;32melse\u001b[0m\u001b[0;34m:\u001b[0m\u001b[0;34m\u001b[0m\u001b[0m\n\u001b[1;32m   3545\u001b[0m                 \u001b[0mindexer\u001b[0m \u001b[0;34m=\u001b[0m \u001b[0mnp\u001b[0m\u001b[0;34m.\u001b[0m\u001b[0marange\u001b[0m\u001b[0;34m(\u001b[0m\u001b[0mlen\u001b[0m\u001b[0;34m(\u001b[0m\u001b[0mself\u001b[0m\u001b[0;34m.\u001b[0m\u001b[0mitems\u001b[0m\u001b[0;34m)\u001b[0m\u001b[0;34m)\u001b[0m\u001b[0;34m[\u001b[0m\u001b[0misnull\u001b[0m\u001b[0;34m(\u001b[0m\u001b[0mself\u001b[0m\u001b[0;34m.\u001b[0m\u001b[0mitems\u001b[0m\u001b[0;34m)\u001b[0m\u001b[0;34m]\u001b[0m\u001b[0;34m\u001b[0m\u001b[0m\n",
      "\u001b[0;32m/Users/bwi/anaconda3/lib/python3.6/site-packages/pandas/indexes/base.py\u001b[0m in \u001b[0;36mget_loc\u001b[0;34m(self, key, method, tolerance)\u001b[0m\n\u001b[1;32m   2134\u001b[0m                 \u001b[0;32mreturn\u001b[0m \u001b[0mself\u001b[0m\u001b[0;34m.\u001b[0m\u001b[0m_engine\u001b[0m\u001b[0;34m.\u001b[0m\u001b[0mget_loc\u001b[0m\u001b[0;34m(\u001b[0m\u001b[0mkey\u001b[0m\u001b[0;34m)\u001b[0m\u001b[0;34m\u001b[0m\u001b[0m\n\u001b[1;32m   2135\u001b[0m             \u001b[0;32mexcept\u001b[0m \u001b[0mKeyError\u001b[0m\u001b[0;34m:\u001b[0m\u001b[0;34m\u001b[0m\u001b[0m\n\u001b[0;32m-> 2136\u001b[0;31m                 \u001b[0;32mreturn\u001b[0m \u001b[0mself\u001b[0m\u001b[0;34m.\u001b[0m\u001b[0m_engine\u001b[0m\u001b[0;34m.\u001b[0m\u001b[0mget_loc\u001b[0m\u001b[0;34m(\u001b[0m\u001b[0mself\u001b[0m\u001b[0;34m.\u001b[0m\u001b[0m_maybe_cast_indexer\u001b[0m\u001b[0;34m(\u001b[0m\u001b[0mkey\u001b[0m\u001b[0;34m)\u001b[0m\u001b[0;34m)\u001b[0m\u001b[0;34m\u001b[0m\u001b[0m\n\u001b[0m\u001b[1;32m   2137\u001b[0m \u001b[0;34m\u001b[0m\u001b[0m\n\u001b[1;32m   2138\u001b[0m         \u001b[0mindexer\u001b[0m \u001b[0;34m=\u001b[0m \u001b[0mself\u001b[0m\u001b[0;34m.\u001b[0m\u001b[0mget_indexer\u001b[0m\u001b[0;34m(\u001b[0m\u001b[0;34m[\u001b[0m\u001b[0mkey\u001b[0m\u001b[0;34m]\u001b[0m\u001b[0;34m,\u001b[0m \u001b[0mmethod\u001b[0m\u001b[0;34m=\u001b[0m\u001b[0mmethod\u001b[0m\u001b[0;34m,\u001b[0m \u001b[0mtolerance\u001b[0m\u001b[0;34m=\u001b[0m\u001b[0mtolerance\u001b[0m\u001b[0;34m)\u001b[0m\u001b[0;34m\u001b[0m\u001b[0m\n",
      "\u001b[0;32mpandas/index.pyx\u001b[0m in \u001b[0;36mpandas.index.IndexEngine.get_loc (pandas/index.c:4433)\u001b[0;34m()\u001b[0m\n",
      "\u001b[0;32mpandas/index.pyx\u001b[0m in \u001b[0;36mpandas.index.IndexEngine.get_loc (pandas/index.c:4279)\u001b[0;34m()\u001b[0m\n",
      "\u001b[0;32mpandas/src/hashtable_class_helper.pxi\u001b[0m in \u001b[0;36mpandas.hashtable.PyObjectHashTable.get_item (pandas/hashtable.c:13742)\u001b[0;34m()\u001b[0m\n",
      "\u001b[0;32mpandas/src/hashtable_class_helper.pxi\u001b[0m in \u001b[0;36mpandas.hashtable.PyObjectHashTable.get_item (pandas/hashtable.c:13696)\u001b[0;34m()\u001b[0m\n",
      "\u001b[0;31mKeyError\u001b[0m: 'PatientID'"
     ]
    }
   ],
   "source": [
    "# Cleaning diagnoses\n",
    "clean_diagnoses['PatientID'] = clean_diagnoses['PatientID'].apply(lambda x: index_cat(x, patient_id_reduced))\n",
    "clean_diagnoses = clean_diagnoses.set_index('PatientID')\n",
    "#clean_diagnoses = clean_diagnoses.drop('PrimaryDiagnosisDescription')\n",
    "clean_diagnoses.groupby('PatientID').head()"
   ]
  },
  {
   "cell_type": "code",
   "execution_count": 740,
   "metadata": {
    "collapsed": false,
    "extensions": {
     "jupyter_dashboards": {
      "version": 1,
      "views": {
       "grid_default": {
        "col": 0,
        "height": 17,
        "hidden": false,
        "row": 115,
        "width": 8
       },
       "report_default": {
        "hidden": false
       }
      }
     }
    }
   },
   "outputs": [
    {
     "data": {
      "text/html": [
       "<div>\n",
       "<table border=\"1\" class=\"dataframe\">\n",
       "  <thead>\n",
       "    <tr style=\"text-align: right;\">\n",
       "      <th></th>\n",
       "      <th>PatientID</th>\n",
       "      <th>AdmissionID</th>\n",
       "      <th>PrimaryDiagnosisCode</th>\n",
       "      <th>PrimaryDiagnosisDescription</th>\n",
       "      <th>ICDCodes</th>\n",
       "    </tr>\n",
       "  </thead>\n",
       "  <tbody>\n",
       "    <tr>\n",
       "      <th>0</th>\n",
       "      <td>66</td>\n",
       "      <td>2</td>\n",
       "      <td>M01.X</td>\n",
       "      <td>Direct infection of joint in infectious and pa...</td>\n",
       "      <td>M01</td>\n",
       "    </tr>\n",
       "    <tr>\n",
       "      <th>1</th>\n",
       "      <td>66</td>\n",
       "      <td>3</td>\n",
       "      <td>D65</td>\n",
       "      <td>Disseminated intravascular coagulation [defibr...</td>\n",
       "      <td>D65</td>\n",
       "    </tr>\n",
       "    <tr>\n",
       "      <th>2</th>\n",
       "      <td>66</td>\n",
       "      <td>4</td>\n",
       "      <td>C92.1</td>\n",
       "      <td>Chronic myeloid leukemia, BCR/ABL-positive</td>\n",
       "      <td>C92</td>\n",
       "    </tr>\n",
       "    <tr>\n",
       "      <th>3</th>\n",
       "      <td>66</td>\n",
       "      <td>5</td>\n",
       "      <td>M05.51</td>\n",
       "      <td>Rheumatoid polyneuropathy with rheumatoid arth...</td>\n",
       "      <td>M05</td>\n",
       "    </tr>\n",
       "    <tr>\n",
       "      <th>4</th>\n",
       "      <td>67</td>\n",
       "      <td>1</td>\n",
       "      <td>C91.00</td>\n",
       "      <td>Acute lymphoblastic leukemia not having achiev...</td>\n",
       "      <td>C91</td>\n",
       "    </tr>\n",
       "  </tbody>\n",
       "</table>\n",
       "</div>"
      ],
      "text/plain": [
       "   PatientID  AdmissionID PrimaryDiagnosisCode  \\\n",
       "0         66            2                M01.X   \n",
       "1         66            3                  D65   \n",
       "2         66            4                C92.1   \n",
       "3         66            5               M05.51   \n",
       "4         67            1               C91.00   \n",
       "\n",
       "                         PrimaryDiagnosisDescription ICDCodes  \n",
       "0  Direct infection of joint in infectious and pa...      M01  \n",
       "1  Disseminated intravascular coagulation [defibr...      D65  \n",
       "2         Chronic myeloid leukemia, BCR/ABL-positive      C92  \n",
       "3  Rheumatoid polyneuropathy with rheumatoid arth...      M05  \n",
       "4  Acute lymphoblastic leukemia not having achiev...      C91  "
      ]
     },
     "execution_count": 740,
     "metadata": {},
     "output_type": "execute_result"
    }
   ],
   "source": [
    "\n",
    "\n",
    "# Add ICDCodes (sub-category) to diagnoses DF and evaluate\n",
    "diagnoses[\"ICDCodes\"] = ICDCodes\n",
    "diagnoses.head()"
   ]
  },
  {
   "cell_type": "code",
   "execution_count": null,
   "metadata": {
    "collapsed": false,
    "extensions": {
     "jupyter_dashboards": {
      "version": 1,
      "views": {
       "grid_default": {
        "col": 0,
        "height": 15,
        "hidden": false,
        "row": 132,
        "width": 8
       },
       "report_default": {
        "hidden": false
       }
      }
     }
    }
   },
   "outputs": [],
   "source": [
    "diagnoses.describe(include='all')"
   ]
  },
  {
   "cell_type": "code",
   "execution_count": null,
   "metadata": {
    "collapsed": false,
    "extensions": {
     "jupyter_dashboards": {
      "version": 1,
      "views": {
       "grid_default": {
        "col": 4,
        "height": 9,
        "hidden": false,
        "row": 262,
        "width": 4
       },
       "report_default": {
        "hidden": false
       }
      }
     }
    }
   },
   "outputs": [],
   "source": [
    "diagnoses_fig = diagnoses.ICDCodes.value_counts()[:20].plot(kind='barh')"
   ]
  },
  {
   "cell_type": "markdown",
   "metadata": {
    "extensions": {
     "jupyter_dashboards": {
      "version": 1,
      "views": {
       "grid_default": {
        "col": 0,
        "height": 5,
        "hidden": false,
        "row": 147,
        "width": 12
       },
       "report_default": {
        "hidden": false
       }
      }
     }
    }
   },
   "source": [
    "### <center> Interestingly, MO5 (Rheumatoid arthritis) is the most frequent disease with 23% of the cohort being affected. </center>\n",
    "### Create M05 Cohort"
   ]
  },
  {
   "cell_type": "code",
   "execution_count": null,
   "metadata": {
    "collapsed": false,
    "extensions": {
     "jupyter_dashboards": {
      "version": 1,
      "views": {
       "grid_default": {
        "hidden": true
       },
       "report_default": {
        "hidden": true
       }
      }
     }
    },
    "scrolled": true
   },
   "outputs": [],
   "source": [
    "# Categorize cohorts by ICDCodes \n",
    "#ICDCodes_cohorts = {}\n",
    "\n",
    "# Create a cohort of all M05 Patients\n",
    "M05_cohort_patient_ids = diagnoses.loc[(diagnoses['ICDCodes'] == 'M05'), 'PatientID'];\n",
    "#M05_cohort.describe()"
   ]
  },
  {
   "cell_type": "code",
   "execution_count": null,
   "metadata": {
    "collapsed": false,
    "extensions": {
     "jupyter_dashboards": {
      "version": 1,
      "views": {
       "grid_default": {
        "col": 0,
        "height": 15,
        "hidden": false,
        "row": 152,
        "width": 12
       },
       "report_default": {
        "hidden": false
       }
      }
     }
    }
   },
   "outputs": [],
   "source": [
    "# Combine demographics with M05 cohort\n",
    "M05_cohort_patients = patients[patients['PatientID'].isin(M05_cohort_patient_ids)]\n",
    "#print(M05_cohort_patients)\n",
    "M05_cohort_patients.describe(include='all')"
   ]
  },
  {
   "cell_type": "code",
   "execution_count": null,
   "metadata": {
    "collapsed": false,
    "extensions": {
     "jupyter_dashboards": {
      "version": 1,
      "views": {
       "grid_default": {
        "col": 0,
        "height": 15,
        "hidden": false,
        "row": 167,
        "width": 7
       },
       "report_default": {
        "hidden": false
       }
      }
     }
    }
   },
   "outputs": [],
   "source": [
    "M05_cohort_lab_results =  labs[labs['PatientID'].isin(M05_cohort_patient_ids)]\n",
    "#M05_cohort_lab_results.head()\n",
    "#print(M05_cohort_lab_results)\n",
    "M05_cohort_lab_results.describe(include='all')"
   ]
  },
  {
   "cell_type": "code",
   "execution_count": null,
   "metadata": {
    "collapsed": false,
    "extensions": {
     "jupyter_dashboards": {
      "version": 1,
      "views": {
       "grid_default": {
        "col": 7,
        "height": 6,
        "hidden": false,
        "row": 77,
        "width": 4
       },
       "report_default": {
        "hidden": false
       }
      }
     }
    }
   },
   "outputs": [],
   "source": [
    "fig = M05_cohort_lab_results.LabName.value_counts()[:10].plot(kind='barh')"
   ]
  },
  {
   "cell_type": "code",
   "execution_count": null,
   "metadata": {
    "collapsed": false,
    "extensions": {
     "jupyter_dashboards": {
      "version": 1,
      "views": {
       "grid_default": {
        "col": 0,
        "height": 17,
        "hidden": false,
        "row": 182,
        "width": 7
       },
       "report_default": {
        "hidden": false
       }
      }
     }
    }
   },
   "outputs": [],
   "source": [
    "M05_cohort_hematocrit_results = M05_cohort_lab_results.loc[(M05_cohort_lab_results['LabName'] == 'CBC: HEMATOCRIT')]\n",
    "M05_cohort_hematocrit_results.head()\n",
    "#dates = [pd.to_datetime(ts) for ts in M05_cohort_lab_results['LabDateTime']]\n",
    "#datenums = md.date2num(dates)\n",
    "\n",
    "#plt.plot(dates,M05_cohort_lab_results.LabValue.LabName == 'CBC: HEMATOCRIT' )"
   ]
  },
  {
   "cell_type": "code",
   "execution_count": null,
   "metadata": {
    "collapsed": false,
    "extensions": {
     "jupyter_dashboards": {
      "version": 1,
      "views": {
       "grid_default": {
        "col": 7,
        "height": 7,
        "hidden": false,
        "row": 83,
        "width": 4
       },
       "report_default": {
        "hidden": false
       }
      }
     }
    }
   },
   "outputs": [],
   "source": [
    "M05_h = M05_cohort_hematocrit_results[['PatientID', 'LabValue', 'LabDateTime']]\n",
    "\n",
    "M05_h['TimeStamps'] = pd.to_datetime(M05_h.loc[:,'LabDateTime'])\n",
    "\n",
    "\n",
    "\n",
    "M05_h['TimeStamps']\n",
    "M05_h = M05_h[['PatientID', 'LabValue','TimeStamps']]\n",
    "M05_h.head()\n",
    "\n",
    "# Change TimeStamps to integers\n",
    "M05_h['date_delta'] = (M05_h['TimeStamps'] - M05_h['TimeStamps'].min())  / np.timedelta64(1,'M')\n",
    "\n",
    "fig, ax = plt.subplots(1,1)\n",
    "x = 'date_delta'\n",
    "y = 'LabValue'\n",
    "M05_h.groupby('PatientID').plot(x, y, figsize=(30,10), ax=ax, alpha=0.4, color=\"k\")\n",
    "plt.legend().remove()\n",
    "plt.ylabel('Lab Values (%)')\n",
    "plt.xlabel('Date:Time')\n",
    "plt.title('Patient CBC: HEMATOCRIT Results Over Time')\n",
    "\n",
    "\n",
    "#fit = np.polyfit(x2,y2,1)\n",
    "#fit_fn = np.poly1d(fit)\n",
    "#plt.plot(x2,y2,'yo', x2, fit_fn(xz0), '--k', linewidth=5)\n",
    "#plt.show()\n",
    "\n",
    "from scipy.stats import linregress\n",
    "def fit_line1(x, y):\n",
    "    \"\"\"Return slope, intercept of best fit line.\"\"\"\n",
    "    # Remove entries where either x or y is NaN.\n",
    "    clean_data = pd.concat([x, y], 1).dropna(0) # row-wise\n",
    "    (_, x), (_, y) = clean_data.iteritems()\n",
    "    slope, intercept, r, p, stderr = linregress(x, y)\n",
    "    return slope, intercept # could also return stderr\n",
    "\n",
    "import statsmodels.api as sm\n",
    "def fit_line2(x, y):\n",
    "    \"\"\"Return slope, intercept of best fit line.\"\"\"\n",
    "    X = sm.add_constant(x)\n",
    "    model = sm.OLS(y, X, missing='drop') # ignores entires where x or y is NaN\n",
    "    fit = model.fit()\n",
    "    return fit.params[1], fit.params[0] # could also return stderr in each via fit.bse\n",
    "\n",
    "\n",
    "x2 = M05_h['date_delta']\n",
    "y2 = M05_h['LabValue']\n",
    "m, b = fit_line2(x2, y2)\n",
    "N = 100 # could be just 2 if you are only drawing a straight line...\n",
    "points = np.linspace(x2.min(), x2.max(), N)\n",
    "plt.plot(points, m*points + b, linewidth=10, color=\"r\", alpha=.3)\n",
    "\n",
    "\n",
    "\n",
    "\n",
    "\n"
   ]
  },
  {
   "cell_type": "code",
   "execution_count": null,
   "metadata": {
    "collapsed": false,
    "extensions": {
     "jupyter_dashboards": {
      "version": 1,
      "views": {
       "grid_default": {
        "hidden": true
       },
       "report_default": {
        "hidden": true
       }
      }
     }
    }
   },
   "outputs": [],
   "source": [
    "M05_a = M05_h[['PatientID', 'LabValue', 'date_delta']]\n",
    "#M05_a = M05_a.groupby('PatientID')\n",
    "#M05_a.head()\n",
    "\n",
    "#fig2, ax2 = plt.subplots(1,1)\n",
    "#x3 = 'date_delta'\n",
    "#y3 = 'LabValue'\n",
    "#M05_a.groupby('PatientID').plot(x3, y3, figsize=(10,5), ax=ax2, alpha=0.4)\n",
    "#plt.legend().remove()\n",
    "#plt.show()"
   ]
  },
  {
   "cell_type": "markdown",
   "metadata": {
    "extensions": {
     "jupyter_dashboards": {
      "version": 1,
      "views": {
       "grid_default": {
        "col": 7,
        "height": 4,
        "hidden": false,
        "row": 50,
        "width": 4
       },
       "report_default": {
        "hidden": false
       }
      }
     }
    }
   },
   "source": [
    "## Average Lab Value"
   ]
  },
  {
   "cell_type": "code",
   "execution_count": null,
   "metadata": {
    "collapsed": false,
    "extensions": {
     "jupyter_dashboards": {
      "version": 1,
      "views": {
       "grid_default": {
        "col": 8,
        "height": 19,
        "hidden": false,
        "row": 90,
        "width": 4
       },
       "report_default": {
        "hidden": false
       }
      }
     }
    }
   },
   "outputs": [],
   "source": [
    "sns.pairplot(M05_a, x_vars=['date_delta'], y_vars='LabValue', size=7, aspect=0.7, kind='reg')"
   ]
  },
  {
   "cell_type": "markdown",
   "metadata": {
    "extensions": {
     "jupyter_dashboards": {
      "version": 1,
      "views": {
       "grid_default": {
        "col": 0,
        "height": 4,
        "hidden": false,
        "row": 199,
        "width": 12
       },
       "report_default": {
        "hidden": false
       }
      }
     }
    }
   },
   "source": [
    "## From the box plot, it appears that Lab Values below 35 and above 50 could be considered \"at risk\""
   ]
  },
  {
   "cell_type": "code",
   "execution_count": null,
   "metadata": {
    "collapsed": false,
    "extensions": {
     "jupyter_dashboards": {
      "version": 1,
      "views": {
       "grid_default": {
        "col": 4,
        "height": 17,
        "hidden": false,
        "row": 219,
        "width": 4
       },
       "report_default": {
        "hidden": false
       }
      }
     }
    }
   },
   "outputs": [],
   "source": [
    "ax5 = sns.boxplot(x='LabValue', y='PatientID', data=M05_a)\n",
    "#ax5 = sns.swarmplot(x='LabValue', y='PatientID', data=M05_a)"
   ]
  },
  {
   "cell_type": "markdown",
   "metadata": {
    "extensions": {
     "jupyter_dashboards": {
      "version": 1,
      "views": {
       "grid_default": {
        "col": 8,
        "height": 4,
        "hidden": false,
        "row": 109,
        "width": 4
       },
       "report_default": {
        "hidden": false
       }
      }
     }
    }
   },
   "source": [
    "## At Risk M05 Patients"
   ]
  },
  {
   "cell_type": "code",
   "execution_count": null,
   "metadata": {
    "collapsed": false,
    "extensions": {
     "jupyter_dashboards": {
      "version": 1,
      "views": {
       "grid_default": {
        "col": 0,
        "height": 12,
        "hidden": false,
        "row": 203,
        "width": 6
       },
       "report_default": {
        "hidden": false
       }
      }
     }
    },
    "scrolled": true
   },
   "outputs": [],
   "source": [
    "M05_h['at_risk'] = [1 if x > 50 or x < 35 else 0 for x in M05_h['LabValue'] ]\n",
    "M05_h.head()\n",
    "M05_h.describe(include='all')"
   ]
  },
  {
   "cell_type": "code",
   "execution_count": null,
   "metadata": {
    "collapsed": false,
    "extensions": {
     "jupyter_dashboards": {
      "version": 1,
      "views": {
       "grid_default": {
        "hidden": true
       },
       "report_default": {
        "hidden": true
       }
      }
     }
    }
   },
   "outputs": [],
   "source": []
  },
  {
   "cell_type": "code",
   "execution_count": null,
   "metadata": {
    "collapsed": false,
    "extensions": {
     "jupyter_dashboards": {
      "version": 1,
      "views": {
       "grid_default": {
        "hidden": true
       },
       "report_default": {
        "hidden": true
       }
      }
     }
    }
   },
   "outputs": [],
   "source": []
  },
  {
   "cell_type": "markdown",
   "metadata": {
    "extensions": {
     "jupyter_dashboards": {
      "version": 1,
      "views": {
       "grid_default": {
        "col": 0,
        "height": 4,
        "hidden": false,
        "row": 215,
        "width": 12
       },
       "report_default": {
        "hidden": false
       }
      }
     }
    }
   },
   "source": [
    "## Creating a database of each patient and their historical lab values so we can make predictions"
   ]
  },
  {
   "cell_type": "code",
   "execution_count": null,
   "metadata": {
    "collapsed": false,
    "extensions": {
     "jupyter_dashboards": {
      "version": 1,
      "views": {
       "grid_default": {
        "col": 8,
        "height": 12,
        "hidden": false,
        "row": 113,
        "width": 4
       },
       "report_default": {
        "hidden": false
       }
      }
     }
    }
   },
   "outputs": [],
   "source": [
    "#M05_a = M05_h.pivot(index='PatientID', columns='date_delta', values='LabValue')\n",
    "#print(M05_a)\n",
    "#M05_a.head()\n",
    "#print(M05_a)\n",
    "#M05_a.describe(include=\"all\")\n",
    "M05_database = []\n",
    "M05_patients = []\n",
    "\n",
    "\n",
    "\n",
    "for index, row in M05_a.iterrows():\n",
    "    patientID = row['PatientID']\n",
    "    if (patientID not in M05_patients):\n",
    "        M05_patients.append(patientID)\n",
    "        M05_database.append(\n",
    "                M05_a[M05_a['PatientID'] == patientID]\n",
    "        ) \n",
    "M05_db_len = len(M05_database) # Number of patients\n",
    "\n",
    "print(M05_database)\n",
    "#M05_m = M05_a[['LabValue','date_delta']]\n",
    "#M05_m = M05_m.transpose()\n",
    "#M05_m.head()"
   ]
  },
  {
   "cell_type": "code",
   "execution_count": null,
   "metadata": {
    "collapsed": false,
    "extensions": {
     "jupyter_dashboards": {
      "version": 1,
      "views": {
       "grid_default": {
        "hidden": true
       },
       "report_default": {
        "hidden": true
       }
      }
     }
    }
   },
   "outputs": [],
   "source": []
  },
  {
   "cell_type": "code",
   "execution_count": null,
   "metadata": {
    "collapsed": false,
    "extensions": {
     "jupyter_dashboards": {
      "version": 1,
      "views": {
       "grid_default": {
        "hidden": true
       },
       "report_default": {
        "hidden": true
       }
      }
     }
    }
   },
   "outputs": [],
   "source": []
  },
  {
   "cell_type": "code",
   "execution_count": null,
   "metadata": {
    "collapsed": false,
    "extensions": {
     "jupyter_dashboards": {
      "version": 1,
      "views": {
       "grid_default": {
        "hidden": true
       },
       "report_default": {
        "hidden": true
       }
      }
     }
    }
   },
   "outputs": [],
   "source": [
    "from sklearn import svm\n",
    "from sklearn.cross_validation import train_test_split\n",
    "from sklearn.linear_model import LinearRegression\n",
    "from sklearn import metrics\n",
    "\n",
    "M05_database[0]['date_delta'].apply(lambda x: (x - np.mean(x)) / (np.max(x) - np.min(x)))\n",
    "#norm = pd.Series((M05_database[0]['date_delta'] - M05_database[0]['date_delta'].min()) / (M05_database[0]['date_delta'].max() - M05_database[0]['date_delta'].min()))\n",
    "#M05_database[0].loc['normalized_date_delta'] = norm\n",
    "\n",
    "feature_cols = ['date_delta']\n",
    "X = M05_database[0][feature_cols]\n",
    "\n",
    "\n",
    "y = M05_database[0]['LabValue'] \n",
    "\n",
    "\n",
    "# SVM Classifier\n",
    "#clf = svm.SVC()\n",
    "\n",
    "# Create Training and Test Sets\n",
    "X_train, X_test, y_train, y_test = train_test_split(X, y, random_state=1)\n",
    "\n",
    "# clf.fit(X_train, y_train) \n",
    "\n",
    "# Linear Regression\n",
    "linreg = LinearRegression()\n",
    "linreg.fit(X_train, y_train)\n",
    "\n",
    "#X_test.apply(pd.to_numeric)\n",
    "#y_pred = clf.predict(X_test)\n",
    "y_pred = linreg.predict(X_test.apply(pd.to_numeric))\n",
    "\n",
    "\n",
    "\n",
    "#y_pred = linreg.predict(X_test)\n",
    "\n",
    "x = M05_database[0]['date_delta'].iloc[0] - 1;\n",
    "x_norm_pred = ( x - M05_database[0]['date_delta'].mean() ) / (M05_database[0]['date_delta'].max() - M05_database[0]['date_delta'].min())\n",
    "# Next Lab Value prediction 30 days from last test. \n",
    "print(x_norm_pred)\n",
    "next_pred = linreg.predict(x_norm_pred)\n",
    "print(next_pred)\n",
    "\n",
    "print(y_pred)\n"
   ]
  },
  {
   "cell_type": "code",
   "execution_count": null,
   "metadata": {
    "collapsed": false,
    "extensions": {
     "jupyter_dashboards": {
      "version": 1,
      "views": {
       "grid_default": {
        "hidden": true
       },
       "report_default": {
        "hidden": true
       }
      }
     }
    }
   },
   "outputs": [],
   "source": [
    "\n",
    "#feature_cols = ['date_delta']\n",
    "#X = M05_a[feature_cols]\n",
    "#X.head()\n",
    "\n",
    "\n",
    "#X.head()"
   ]
  },
  {
   "cell_type": "markdown",
   "metadata": {
    "extensions": {
     "jupyter_dashboards": {
      "version": 1,
      "views": {
       "grid_default": {
        "col": 8,
        "height": 4,
        "hidden": false,
        "row": 125,
        "width": 4
       },
       "report_default": {
        "hidden": false
       }
      }
     }
    }
   },
   "source": [
    "## Predictions for each patient"
   ]
  },
  {
   "cell_type": "code",
   "execution_count": null,
   "metadata": {
    "collapsed": false,
    "extensions": {
     "jupyter_dashboards": {
      "version": 1,
      "views": {
       "grid_default": {
        "hidden": true
       },
       "report_default": {
        "hidden": true
       }
      }
     }
    }
   },
   "outputs": [],
   "source": [
    "#M05_database = []\n",
    "#M05_patients = []\n",
    "#from sklearn import svm\n",
    "#from sklearn.cross_validation import train_test_split\n",
    "#from sklearn.linear_model import LinearRegression\n",
    "#from sklearn import metrics\n",
    "\n",
    "# Create Linear Regression Model and 30 day lab value prediction for each patient. \n",
    "\n",
    "for patient in M05_database:\n",
    "\n",
    "    feature_cols = ['date_delta']\n",
    "    #X = M05_database[0][feature_cols] ORIGINAL\n",
    "    X = patient[feature_cols] #CHANGE\n",
    "    #y = M05_database[0]['LabValue'] ORIGINAL\n",
    "    y = patient['LabValue'] # CHANGE\n",
    "\n",
    "    # SVM Classifier\n",
    "    #clf = svm.SVC()\n",
    "    \n",
    "    # Create Training and Test Sets\n",
    "    X_train, X_test, y_train, y_test = train_test_split(X, y, random_state=1)\n",
    "\n",
    "    # clf.fit(X_train, y_train) \n",
    "\n",
    "    # Linear Regression\n",
    "    linreg = LinearRegression()\n",
    "    linreg.fit(X_train, y_train)\n",
    "    \n",
    "    #X_test.apply(pd.to_numeric)\n",
    "    #y_pred = clf.predict(X_test)\n",
    "    y_pred = linreg.predict(X_test.apply(pd.to_numeric))\n",
    "\n",
    "     \n",
    "\n",
    "    #y_pred = linreg.predict(X_test)\n",
    "\n",
    "    \n",
    "\n",
    "    # Next Lab Value prediction 30 days from last test. \n",
    "    next_pred = linreg.predict(patient['date_delta'].iloc[0] - 1)\n",
    "    print(\"Patient: \", patient['PatientID'].iloc[0])# Potentially shows if LabValue is increasing or decreasing over time?\n",
    "    \n",
    "    # Print cooefficient for correlation\n",
    "    print(\"Date Coefficient: \", list(zip(feature_cols, linreg.coef_)))\n",
    "    \n",
    "    # Print error value\n",
    "    print(\"Error: \", np.sqrt(metrics.mean_absolute_error(y_test, y_pred)))\n",
    "    \n",
    "    #print(\"30 day: \", patient['date_delta'].iloc[-1] + 30, )\n",
    "    print(\"Lab Value Prediction: \", next_pred)\n",
    "    if next_pred < 35 or next_pred > 50:\n",
    "        print(\"This patient is at risk!\")\n",
    "    print('\\n')\n",
    "    #patient.set_value('FutureLabTest',0, next_pred)\n",
    "    \n",
    "# Wrap everything in a function and create a list of all patient's 30 day prediction!"
   ]
  },
  {
   "cell_type": "markdown",
   "metadata": {
    "extensions": {
     "jupyter_dashboards": {
      "version": 1,
      "views": {
       "grid_default": {
        "col": 0,
        "height": 4,
        "hidden": true,
        "row": 219,
        "width": 12
       },
       "report_default": {
        "hidden": false
       }
      }
     }
    }
   },
   "source": [
    "#### One patient ( 'EEAFC0B3-B835-4D99-AB33-2F9428E54E5F' ) is predicted to be at-risk in the next 30 days with a lab value of less than 35."
   ]
  },
  {
   "cell_type": "code",
   "execution_count": null,
   "metadata": {
    "collapsed": false,
    "extensions": {
     "jupyter_dashboards": {
      "version": 1,
      "views": {
       "grid_default": {
        "col": 7,
        "height": 6,
        "hidden": false,
        "row": 167,
        "width": 4
       },
       "report_default": {
        "hidden": false
       }
      }
     }
    }
   },
   "outputs": [],
   "source": [
    "M05_database[0].corr()"
   ]
  },
  {
   "cell_type": "code",
   "execution_count": null,
   "metadata": {
    "collapsed": false,
    "extensions": {
     "jupyter_dashboards": {
      "version": 1,
      "views": {
       "grid_default": {
        "col": 7,
        "height": 4,
        "hidden": false,
        "row": 173,
        "width": 4
       },
       "report_default": {
        "hidden": false
       }
      }
     }
    }
   },
   "outputs": [],
   "source": [
    "#list(zip(feature_cols, linreg.coef_))"
   ]
  },
  {
   "cell_type": "code",
   "execution_count": null,
   "metadata": {
    "collapsed": true,
    "extensions": {
     "jupyter_dashboards": {
      "version": 1,
      "views": {
       "grid_default": {
        "hidden": true
       },
       "report_default": {
        "hidden": true
       }
      }
     }
    }
   },
   "outputs": [],
   "source": [
    "#y_pred = linreg.predict(X_test)"
   ]
  },
  {
   "cell_type": "code",
   "execution_count": null,
   "metadata": {
    "collapsed": false,
    "extensions": {
     "jupyter_dashboards": {
      "version": 1,
      "views": {
       "grid_default": {
        "col": 7,
        "height": 4,
        "hidden": false,
        "row": 177,
        "width": 4
       },
       "report_default": {
        "hidden": false
       }
      }
     }
    }
   },
   "outputs": [],
   "source": [
    "#from sklearn import metrics\n",
    "#print(np.sqrt(metrics.mean_absolute_error(y_test, y_pred)))"
   ]
  },
  {
   "cell_type": "code",
   "execution_count": null,
   "metadata": {
    "collapsed": false,
    "extensions": {
     "jupyter_dashboards": {
      "version": 1,
      "views": {
       "grid_default": {
        "col": 7,
        "height": 6,
        "hidden": false,
        "row": 181,
        "width": 4
       },
       "report_default": {
        "hidden": false
       }
      }
     }
    }
   },
   "outputs": [],
   "source": [
    "#print(y_pred[0:5])\n",
    "#print(y_test[0:5])"
   ]
  },
  {
   "cell_type": "code",
   "execution_count": null,
   "metadata": {
    "collapsed": false,
    "extensions": {
     "jupyter_dashboards": {
      "version": 1,
      "views": {
       "grid_default": {
        "col": 7,
        "height": 4,
        "hidden": false,
        "row": 187,
        "width": 4
       },
       "report_default": {
        "hidden": false
       }
      }
     }
    }
   },
   "outputs": [],
   "source": [
    "next_pred = linreg.predict(M05_database[0]['date_delta'].iloc[-1] + 30)\n",
    "print(next_pred)\n",
    "#M05_a['FutureLabTest'] = \n",
    "# Wrap everything in a function and create a list of all patient's 30 day prediction!"
   ]
  },
  {
   "cell_type": "code",
   "execution_count": null,
   "metadata": {
    "collapsed": false,
    "extensions": {
     "jupyter_dashboards": {
      "version": 1,
      "views": {
       "grid_default": {
        "col": 6,
        "height": 10,
        "hidden": false,
        "row": 203,
        "width": 4
       },
       "report_default": {
        "hidden": false
       }
      }
     }
    }
   },
   "outputs": [],
   "source": [
    "M05_a.describe()"
   ]
  },
  {
   "cell_type": "code",
   "execution_count": null,
   "metadata": {
    "collapsed": false,
    "extensions": {
     "jupyter_dashboards": {
      "version": 1,
      "views": {
       "grid_default": {
        "col": 7,
        "height": 7,
        "hidden": false,
        "row": 191,
        "width": 4
       },
       "report_default": {
        "hidden": false
       }
      }
     }
    }
   },
   "outputs": [],
   "source": [
    "# Create M90 Cohort (Second most frequent disease)\n",
    "M90_cohort_patient_ids = diagnoses.loc[(diagnoses['ICDCodes'] == 'M90'), 'PatientID'];\n",
    "\n",
    "# Collect M90 Cohort Demographic Information\n",
    "M90_cohort_patients = patients[patients['PatientID'].isin(M05_cohort_patient_ids)]\n",
    "\n",
    "# Collect M90 Cohort Lab Results\n",
    "M90_cohort_lab_results =  labs[labs['PatientID'].isin(M05_cohort_patient_ids)]\n",
    "\n",
    "M90_lab_fig = M90_cohort_lab_results.LabName.value_counts()[:10].plot(kind='barh')\n",
    "\n",
    "M90_cohort_lab_results.head()\n",
    "\n"
   ]
  },
  {
   "cell_type": "code",
   "execution_count": null,
   "metadata": {
    "collapsed": false,
    "extensions": {
     "jupyter_dashboards": {
      "version": 1,
      "views": {
       "grid_default": {
        "col": 8,
        "height": 15,
        "hidden": false,
        "row": 219,
        "width": 4
       },
       "report_default": {
        "hidden": false
       }
      }
     }
    }
   },
   "outputs": [],
   "source": [
    "M90_cohort_lab_results.plot()\n",
    "fig(figsize=(1,1))"
   ]
  },
  {
   "cell_type": "code",
   "execution_count": null,
   "metadata": {
    "collapsed": true,
    "extensions": {
     "jupyter_dashboards": {
      "version": 1,
      "views": {
       "grid_default": {
        "hidden": true
       },
       "report_default": {}
      }
     }
    }
   },
   "outputs": [],
   "source": [
    "import ipywidgets as widgets\n",
    "from IPython.display import display\n"
   ]
  },
  {
   "cell_type": "code",
   "execution_count": null,
   "metadata": {
    "collapsed": true,
    "extensions": {
     "jupyter_dashboards": {
      "version": 1,
      "views": {
       "grid_default": {
        "hidden": true
       },
       "report_default": {}
      }
     }
    }
   },
   "outputs": [],
   "source": []
  },
  {
   "cell_type": "code",
   "execution_count": null,
   "metadata": {
    "collapsed": false,
    "extensions": {
     "jupyter_dashboards": {
      "version": 1,
      "views": {
       "grid_default": {
        "hidden": true
       },
       "report_default": {}
      }
     }
    }
   },
   "outputs": [],
   "source": [
    "\n",
    "\n"
   ]
  },
  {
   "cell_type": "code",
   "execution_count": null,
   "metadata": {
    "collapsed": false,
    "extensions": {
     "jupyter_dashboards": {
      "version": 1,
      "views": {
       "grid_default": {
        "col": 0,
        "height": 24,
        "hidden": false,
        "row": 219,
        "width": 4
       },
       "report_default": {}
      }
     }
    }
   },
   "outputs": [],
   "source": [
    "caption = widgets.Label(value='Enter ICD Code or Disease: ')\n",
    "text = widgets.Text()\n",
    "display(caption, text)\n",
    "cohort = pd.DataFrame\n",
    "def handle_submit(sender):\n",
    "    print(text.value)\n",
    "    if len(text.value) > 3:\n",
    "        cohort = create_cohort(labNames = [text.value])\n",
    "    else:\n",
    "        cohort = create_cohort([text.value])\n",
    "    print(cohort.head())\n",
    "    \n",
    "text.on_submit(handle_submit)\n",
    "\n",
    "def on_value_change(change):\n",
    "    print(change['new'])\n",
    "    cohort = create_cohort([text.value])\n",
    "    print(cohort.head())\n",
    "    \n",
    "\n"
   ]
  },
  {
   "cell_type": "code",
   "execution_count": 728,
   "metadata": {
    "collapsed": false,
    "extensions": {
     "jupyter_dashboards": {
      "version": 1,
      "views": {
       "grid_default": {
        "col": 2,
        "height": 19,
        "hidden": false,
        "row": 243,
        "width": 4
       },
       "report_default": {
        "hidden": true
       }
      }
     }
    }
   },
   "outputs": [],
   "source": [
    "def create_cohort (diseases = None, labNames = None):\n",
    "    if diseases == None and labNames == None:\n",
    "        return None\n",
    "    elif labNames == None:\n",
    "        #print(\"This is called\")\n",
    "        #print(\"diseases: \", diseases)\n",
    "        cohort = diseases;\n",
    "        print(\"This is the type: \", type(cohort))\n",
    "        print(\"This is the cohort: \", cohort)\n",
    "        # Create Cohort - This will create a list of series of PatientIDS who have specified disease\n",
    "        cohort_patient_ids = [ diagnoses.loc[(diagnoses['ICDCodes'] == x), 'PatientID'] for x in cohort ]\n",
    "        \n",
    "        # Append each series from the list into one series \n",
    "        series = pd.Series()\n",
    "        for s in cohort_patient_ids:\n",
    "            series = series.append(s, ignore_index=True)\n",
    "        series = series.drop_duplicates() \n",
    "        #return(series)\n",
    "    \n",
    "        # Collect Demograpic Info\n",
    "        #cohort_patients = patients[patients['PatientID'].isin(series)]\n",
    "        \n",
    "        # Collect Comorbidities\n",
    "        cohort_patients = diagnoses[diagnoses['PatientID'].isin(series)]\n",
    "        \n",
    "    \n",
    "        # Collect Lab Results\n",
    "        #cohort_patients = labs[labs['PatientID'].isin(series)]\n",
    "        \n",
    "        return(cohort_patients)\n",
    "    \n",
    "    \n",
    "        #--------------------------\n",
    "        # DEVELOPING\n",
    "        #--------------------------\n",
    "    elif diseases == None:\n",
    "        # Collect Cohort Lab Results\n",
    "       \n",
    "        #cohort_lab_results =  labs[labs['PatientID'].isin(cohort_patients)]\n",
    "        cohort_lab_results =  labs[labs['LabName'].isin(labNames)]\n",
    "        return(cohort_lab_results);\n",
    "        \n",
    "        #print(cohort_patient_ids)\n",
    "       \n",
    "        #print(cohort_patient_ids[0])\n",
    "        \n",
    "        #print(type(cohort_patient_ids))\n",
    "        #print(type(cohort_patient_ids[0]))\n",
    "        #pd.concat([s1, s2], axis=1)\n",
    "        \n",
    "            #print(type(s))\n",
    "            #print(s)\n",
    "        #series = [ series.append(s,ignore_index=True) for s in cohort_patient_ids ]\n",
    "        #print(type(series))\n",
    "        #print(series)\n",
    "        \n",
    "        #print(df)\n",
    "        \n",
    "        #cohort_df = pd.DataFrame(\n",
    "         \n",
    "            #{'PatientID': cohort_patient_ids\n",
    "             #                       })\n",
    "        #cohort_df.head()\n",
    "        \n",
    "        #cohort_patient_ids = pd.DataFrame(cohort_patient_ids)\n",
    "        #cohort_patient_ids.head()\n",
    "        # Collect Cohort Demographic Information\n",
    "        #M90_cohort_patients = patients[patients['PatientID'].isin(M05_cohort_patient_ids)]\n",
    "\n",
    "        # Collect Cohort Lab Results\n",
    "        #M90_cohort_lab_results =  labs[labs['PatientID'].isin(M05_cohort_patient_ids)]\n",
    "    \n",
    "        #temp = pd.DataFrame(np.column_stack([cohort_patient_ids]), columns=['PatientIDs'])\n",
    "        #temp.head()\n",
    "\n",
    "\n",
    "        # Create DataFrame\n",
    "        #percentile_list = pd.DataFrame(np.column_stack([lst1, lst2, lst3]), \n",
    "                                     #  columns=['lst1tite', 'lst2itie', 'lst3tite'])\n",
    "    "
   ]
  },
  {
   "cell_type": "code",
   "execution_count": null,
   "metadata": {
    "collapsed": false
   },
   "outputs": [],
   "source": []
  },
  {
   "cell_type": "code",
   "execution_count": 729,
   "metadata": {
    "collapsed": false
   },
   "outputs": [
    {
     "name": "stdout",
     "output_type": "stream",
     "text": [
      "This is the type:  <class 'list'>\n",
      "This is the cohort:  ['M05']\n"
     ]
    },
    {
     "ename": "KeyError",
     "evalue": "'ICDCodes'",
     "output_type": "error",
     "traceback": [
      "\u001b[0;31m---------------------------------------------------------------------------\u001b[0m",
      "\u001b[0;31mKeyError\u001b[0m                                  Traceback (most recent call last)",
      "\u001b[0;32m/Users/bwi/anaconda3/lib/python3.6/site-packages/pandas/indexes/base.py\u001b[0m in \u001b[0;36mget_loc\u001b[0;34m(self, key, method, tolerance)\u001b[0m\n\u001b[1;32m   2133\u001b[0m             \u001b[0;32mtry\u001b[0m\u001b[0;34m:\u001b[0m\u001b[0;34m\u001b[0m\u001b[0m\n\u001b[0;32m-> 2134\u001b[0;31m                 \u001b[0;32mreturn\u001b[0m \u001b[0mself\u001b[0m\u001b[0;34m.\u001b[0m\u001b[0m_engine\u001b[0m\u001b[0;34m.\u001b[0m\u001b[0mget_loc\u001b[0m\u001b[0;34m(\u001b[0m\u001b[0mkey\u001b[0m\u001b[0;34m)\u001b[0m\u001b[0;34m\u001b[0m\u001b[0m\n\u001b[0m\u001b[1;32m   2135\u001b[0m             \u001b[0;32mexcept\u001b[0m \u001b[0mKeyError\u001b[0m\u001b[0;34m:\u001b[0m\u001b[0;34m\u001b[0m\u001b[0m\n",
      "\u001b[0;32mpandas/index.pyx\u001b[0m in \u001b[0;36mpandas.index.IndexEngine.get_loc (pandas/index.c:4433)\u001b[0;34m()\u001b[0m\n",
      "\u001b[0;32mpandas/index.pyx\u001b[0m in \u001b[0;36mpandas.index.IndexEngine.get_loc (pandas/index.c:4279)\u001b[0;34m()\u001b[0m\n",
      "\u001b[0;32mpandas/src/hashtable_class_helper.pxi\u001b[0m in \u001b[0;36mpandas.hashtable.PyObjectHashTable.get_item (pandas/hashtable.c:13742)\u001b[0;34m()\u001b[0m\n",
      "\u001b[0;32mpandas/src/hashtable_class_helper.pxi\u001b[0m in \u001b[0;36mpandas.hashtable.PyObjectHashTable.get_item (pandas/hashtable.c:13696)\u001b[0;34m()\u001b[0m\n",
      "\u001b[0;31mKeyError\u001b[0m: 'ICDCodes'",
      "\nDuring handling of the above exception, another exception occurred:\n",
      "\u001b[0;31mKeyError\u001b[0m                                  Traceback (most recent call last)",
      "\u001b[0;32m<ipython-input-729-54a300539d0f>\u001b[0m in \u001b[0;36m<module>\u001b[0;34m()\u001b[0m\n\u001b[0;32m----> 1\u001b[0;31m \u001b[0mM05_sub\u001b[0m \u001b[0;34m=\u001b[0m \u001b[0mcreate_cohort\u001b[0m\u001b[0;34m(\u001b[0m\u001b[0;34m[\u001b[0m\u001b[0;34m'M05'\u001b[0m\u001b[0;34m]\u001b[0m\u001b[0;34m)\u001b[0m\u001b[0;34m\u001b[0m\u001b[0m\n\u001b[0m\u001b[1;32m      2\u001b[0m \u001b[0mM05_sub\u001b[0m\u001b[0;34m.\u001b[0m\u001b[0mhead\u001b[0m\u001b[0;34m(\u001b[0m\u001b[0;34m)\u001b[0m\u001b[0;34m\u001b[0m\u001b[0m\n",
      "\u001b[0;32m<ipython-input-728-a21393e15ce9>\u001b[0m in \u001b[0;36mcreate_cohort\u001b[0;34m(diseases, labNames)\u001b[0m\n\u001b[1;32m      9\u001b[0m         \u001b[0mprint\u001b[0m\u001b[0;34m(\u001b[0m\u001b[0;34m\"This is the cohort: \"\u001b[0m\u001b[0;34m,\u001b[0m \u001b[0mcohort\u001b[0m\u001b[0;34m)\u001b[0m\u001b[0;34m\u001b[0m\u001b[0m\n\u001b[1;32m     10\u001b[0m         \u001b[0;31m# Create Cohort - This will create a list of series of PatientIDS who have specified disease\u001b[0m\u001b[0;34m\u001b[0m\u001b[0;34m\u001b[0m\u001b[0m\n\u001b[0;32m---> 11\u001b[0;31m         \u001b[0mcohort_patient_ids\u001b[0m \u001b[0;34m=\u001b[0m \u001b[0;34m[\u001b[0m \u001b[0mdiagnoses\u001b[0m\u001b[0;34m.\u001b[0m\u001b[0mloc\u001b[0m\u001b[0;34m[\u001b[0m\u001b[0;34m(\u001b[0m\u001b[0mdiagnoses\u001b[0m\u001b[0;34m[\u001b[0m\u001b[0;34m'ICDCodes'\u001b[0m\u001b[0;34m]\u001b[0m \u001b[0;34m==\u001b[0m \u001b[0mx\u001b[0m\u001b[0;34m)\u001b[0m\u001b[0;34m,\u001b[0m \u001b[0;34m'PatientID'\u001b[0m\u001b[0;34m]\u001b[0m \u001b[0;32mfor\u001b[0m \u001b[0mx\u001b[0m \u001b[0;32min\u001b[0m \u001b[0mcohort\u001b[0m \u001b[0;34m]\u001b[0m\u001b[0;34m\u001b[0m\u001b[0m\n\u001b[0m\u001b[1;32m     12\u001b[0m \u001b[0;34m\u001b[0m\u001b[0m\n\u001b[1;32m     13\u001b[0m         \u001b[0;31m# Append each series from the list into one series\u001b[0m\u001b[0;34m\u001b[0m\u001b[0;34m\u001b[0m\u001b[0m\n",
      "\u001b[0;32m<ipython-input-728-a21393e15ce9>\u001b[0m in \u001b[0;36m<listcomp>\u001b[0;34m(.0)\u001b[0m\n\u001b[1;32m      9\u001b[0m         \u001b[0mprint\u001b[0m\u001b[0;34m(\u001b[0m\u001b[0;34m\"This is the cohort: \"\u001b[0m\u001b[0;34m,\u001b[0m \u001b[0mcohort\u001b[0m\u001b[0;34m)\u001b[0m\u001b[0;34m\u001b[0m\u001b[0m\n\u001b[1;32m     10\u001b[0m         \u001b[0;31m# Create Cohort - This will create a list of series of PatientIDS who have specified disease\u001b[0m\u001b[0;34m\u001b[0m\u001b[0;34m\u001b[0m\u001b[0m\n\u001b[0;32m---> 11\u001b[0;31m         \u001b[0mcohort_patient_ids\u001b[0m \u001b[0;34m=\u001b[0m \u001b[0;34m[\u001b[0m \u001b[0mdiagnoses\u001b[0m\u001b[0;34m.\u001b[0m\u001b[0mloc\u001b[0m\u001b[0;34m[\u001b[0m\u001b[0;34m(\u001b[0m\u001b[0mdiagnoses\u001b[0m\u001b[0;34m[\u001b[0m\u001b[0;34m'ICDCodes'\u001b[0m\u001b[0;34m]\u001b[0m \u001b[0;34m==\u001b[0m \u001b[0mx\u001b[0m\u001b[0;34m)\u001b[0m\u001b[0;34m,\u001b[0m \u001b[0;34m'PatientID'\u001b[0m\u001b[0;34m]\u001b[0m \u001b[0;32mfor\u001b[0m \u001b[0mx\u001b[0m \u001b[0;32min\u001b[0m \u001b[0mcohort\u001b[0m \u001b[0;34m]\u001b[0m\u001b[0;34m\u001b[0m\u001b[0m\n\u001b[0m\u001b[1;32m     12\u001b[0m \u001b[0;34m\u001b[0m\u001b[0m\n\u001b[1;32m     13\u001b[0m         \u001b[0;31m# Append each series from the list into one series\u001b[0m\u001b[0;34m\u001b[0m\u001b[0;34m\u001b[0m\u001b[0m\n",
      "\u001b[0;32m/Users/bwi/anaconda3/lib/python3.6/site-packages/pandas/core/frame.py\u001b[0m in \u001b[0;36m__getitem__\u001b[0;34m(self, key)\u001b[0m\n\u001b[1;32m   2057\u001b[0m             \u001b[0;32mreturn\u001b[0m \u001b[0mself\u001b[0m\u001b[0;34m.\u001b[0m\u001b[0m_getitem_multilevel\u001b[0m\u001b[0;34m(\u001b[0m\u001b[0mkey\u001b[0m\u001b[0;34m)\u001b[0m\u001b[0;34m\u001b[0m\u001b[0m\n\u001b[1;32m   2058\u001b[0m         \u001b[0;32melse\u001b[0m\u001b[0;34m:\u001b[0m\u001b[0;34m\u001b[0m\u001b[0m\n\u001b[0;32m-> 2059\u001b[0;31m             \u001b[0;32mreturn\u001b[0m \u001b[0mself\u001b[0m\u001b[0;34m.\u001b[0m\u001b[0m_getitem_column\u001b[0m\u001b[0;34m(\u001b[0m\u001b[0mkey\u001b[0m\u001b[0;34m)\u001b[0m\u001b[0;34m\u001b[0m\u001b[0m\n\u001b[0m\u001b[1;32m   2060\u001b[0m \u001b[0;34m\u001b[0m\u001b[0m\n\u001b[1;32m   2061\u001b[0m     \u001b[0;32mdef\u001b[0m \u001b[0m_getitem_column\u001b[0m\u001b[0;34m(\u001b[0m\u001b[0mself\u001b[0m\u001b[0;34m,\u001b[0m \u001b[0mkey\u001b[0m\u001b[0;34m)\u001b[0m\u001b[0;34m:\u001b[0m\u001b[0;34m\u001b[0m\u001b[0m\n",
      "\u001b[0;32m/Users/bwi/anaconda3/lib/python3.6/site-packages/pandas/core/frame.py\u001b[0m in \u001b[0;36m_getitem_column\u001b[0;34m(self, key)\u001b[0m\n\u001b[1;32m   2064\u001b[0m         \u001b[0;31m# get column\u001b[0m\u001b[0;34m\u001b[0m\u001b[0;34m\u001b[0m\u001b[0m\n\u001b[1;32m   2065\u001b[0m         \u001b[0;32mif\u001b[0m \u001b[0mself\u001b[0m\u001b[0;34m.\u001b[0m\u001b[0mcolumns\u001b[0m\u001b[0;34m.\u001b[0m\u001b[0mis_unique\u001b[0m\u001b[0;34m:\u001b[0m\u001b[0;34m\u001b[0m\u001b[0m\n\u001b[0;32m-> 2066\u001b[0;31m             \u001b[0;32mreturn\u001b[0m \u001b[0mself\u001b[0m\u001b[0;34m.\u001b[0m\u001b[0m_get_item_cache\u001b[0m\u001b[0;34m(\u001b[0m\u001b[0mkey\u001b[0m\u001b[0;34m)\u001b[0m\u001b[0;34m\u001b[0m\u001b[0m\n\u001b[0m\u001b[1;32m   2067\u001b[0m \u001b[0;34m\u001b[0m\u001b[0m\n\u001b[1;32m   2068\u001b[0m         \u001b[0;31m# duplicate columns & possible reduce dimensionality\u001b[0m\u001b[0;34m\u001b[0m\u001b[0;34m\u001b[0m\u001b[0m\n",
      "\u001b[0;32m/Users/bwi/anaconda3/lib/python3.6/site-packages/pandas/core/generic.py\u001b[0m in \u001b[0;36m_get_item_cache\u001b[0;34m(self, item)\u001b[0m\n\u001b[1;32m   1384\u001b[0m         \u001b[0mres\u001b[0m \u001b[0;34m=\u001b[0m \u001b[0mcache\u001b[0m\u001b[0;34m.\u001b[0m\u001b[0mget\u001b[0m\u001b[0;34m(\u001b[0m\u001b[0mitem\u001b[0m\u001b[0;34m)\u001b[0m\u001b[0;34m\u001b[0m\u001b[0m\n\u001b[1;32m   1385\u001b[0m         \u001b[0;32mif\u001b[0m \u001b[0mres\u001b[0m \u001b[0;32mis\u001b[0m \u001b[0;32mNone\u001b[0m\u001b[0;34m:\u001b[0m\u001b[0;34m\u001b[0m\u001b[0m\n\u001b[0;32m-> 1386\u001b[0;31m             \u001b[0mvalues\u001b[0m \u001b[0;34m=\u001b[0m \u001b[0mself\u001b[0m\u001b[0;34m.\u001b[0m\u001b[0m_data\u001b[0m\u001b[0;34m.\u001b[0m\u001b[0mget\u001b[0m\u001b[0;34m(\u001b[0m\u001b[0mitem\u001b[0m\u001b[0;34m)\u001b[0m\u001b[0;34m\u001b[0m\u001b[0m\n\u001b[0m\u001b[1;32m   1387\u001b[0m             \u001b[0mres\u001b[0m \u001b[0;34m=\u001b[0m \u001b[0mself\u001b[0m\u001b[0;34m.\u001b[0m\u001b[0m_box_item_values\u001b[0m\u001b[0;34m(\u001b[0m\u001b[0mitem\u001b[0m\u001b[0;34m,\u001b[0m \u001b[0mvalues\u001b[0m\u001b[0;34m)\u001b[0m\u001b[0;34m\u001b[0m\u001b[0m\n\u001b[1;32m   1388\u001b[0m             \u001b[0mcache\u001b[0m\u001b[0;34m[\u001b[0m\u001b[0mitem\u001b[0m\u001b[0;34m]\u001b[0m \u001b[0;34m=\u001b[0m \u001b[0mres\u001b[0m\u001b[0;34m\u001b[0m\u001b[0m\n",
      "\u001b[0;32m/Users/bwi/anaconda3/lib/python3.6/site-packages/pandas/core/internals.py\u001b[0m in \u001b[0;36mget\u001b[0;34m(self, item, fastpath)\u001b[0m\n\u001b[1;32m   3541\u001b[0m \u001b[0;34m\u001b[0m\u001b[0m\n\u001b[1;32m   3542\u001b[0m             \u001b[0;32mif\u001b[0m \u001b[0;32mnot\u001b[0m \u001b[0misnull\u001b[0m\u001b[0;34m(\u001b[0m\u001b[0mitem\u001b[0m\u001b[0;34m)\u001b[0m\u001b[0;34m:\u001b[0m\u001b[0;34m\u001b[0m\u001b[0m\n\u001b[0;32m-> 3543\u001b[0;31m                 \u001b[0mloc\u001b[0m \u001b[0;34m=\u001b[0m \u001b[0mself\u001b[0m\u001b[0;34m.\u001b[0m\u001b[0mitems\u001b[0m\u001b[0;34m.\u001b[0m\u001b[0mget_loc\u001b[0m\u001b[0;34m(\u001b[0m\u001b[0mitem\u001b[0m\u001b[0;34m)\u001b[0m\u001b[0;34m\u001b[0m\u001b[0m\n\u001b[0m\u001b[1;32m   3544\u001b[0m             \u001b[0;32melse\u001b[0m\u001b[0;34m:\u001b[0m\u001b[0;34m\u001b[0m\u001b[0m\n\u001b[1;32m   3545\u001b[0m                 \u001b[0mindexer\u001b[0m \u001b[0;34m=\u001b[0m \u001b[0mnp\u001b[0m\u001b[0;34m.\u001b[0m\u001b[0marange\u001b[0m\u001b[0;34m(\u001b[0m\u001b[0mlen\u001b[0m\u001b[0;34m(\u001b[0m\u001b[0mself\u001b[0m\u001b[0;34m.\u001b[0m\u001b[0mitems\u001b[0m\u001b[0;34m)\u001b[0m\u001b[0;34m)\u001b[0m\u001b[0;34m[\u001b[0m\u001b[0misnull\u001b[0m\u001b[0;34m(\u001b[0m\u001b[0mself\u001b[0m\u001b[0;34m.\u001b[0m\u001b[0mitems\u001b[0m\u001b[0;34m)\u001b[0m\u001b[0;34m]\u001b[0m\u001b[0;34m\u001b[0m\u001b[0m\n",
      "\u001b[0;32m/Users/bwi/anaconda3/lib/python3.6/site-packages/pandas/indexes/base.py\u001b[0m in \u001b[0;36mget_loc\u001b[0;34m(self, key, method, tolerance)\u001b[0m\n\u001b[1;32m   2134\u001b[0m                 \u001b[0;32mreturn\u001b[0m \u001b[0mself\u001b[0m\u001b[0;34m.\u001b[0m\u001b[0m_engine\u001b[0m\u001b[0;34m.\u001b[0m\u001b[0mget_loc\u001b[0m\u001b[0;34m(\u001b[0m\u001b[0mkey\u001b[0m\u001b[0;34m)\u001b[0m\u001b[0;34m\u001b[0m\u001b[0m\n\u001b[1;32m   2135\u001b[0m             \u001b[0;32mexcept\u001b[0m \u001b[0mKeyError\u001b[0m\u001b[0;34m:\u001b[0m\u001b[0;34m\u001b[0m\u001b[0m\n\u001b[0;32m-> 2136\u001b[0;31m                 \u001b[0;32mreturn\u001b[0m \u001b[0mself\u001b[0m\u001b[0;34m.\u001b[0m\u001b[0m_engine\u001b[0m\u001b[0;34m.\u001b[0m\u001b[0mget_loc\u001b[0m\u001b[0;34m(\u001b[0m\u001b[0mself\u001b[0m\u001b[0;34m.\u001b[0m\u001b[0m_maybe_cast_indexer\u001b[0m\u001b[0;34m(\u001b[0m\u001b[0mkey\u001b[0m\u001b[0;34m)\u001b[0m\u001b[0;34m)\u001b[0m\u001b[0;34m\u001b[0m\u001b[0m\n\u001b[0m\u001b[1;32m   2137\u001b[0m \u001b[0;34m\u001b[0m\u001b[0m\n\u001b[1;32m   2138\u001b[0m         \u001b[0mindexer\u001b[0m \u001b[0;34m=\u001b[0m \u001b[0mself\u001b[0m\u001b[0;34m.\u001b[0m\u001b[0mget_indexer\u001b[0m\u001b[0;34m(\u001b[0m\u001b[0;34m[\u001b[0m\u001b[0mkey\u001b[0m\u001b[0;34m]\u001b[0m\u001b[0;34m,\u001b[0m \u001b[0mmethod\u001b[0m\u001b[0;34m=\u001b[0m\u001b[0mmethod\u001b[0m\u001b[0;34m,\u001b[0m \u001b[0mtolerance\u001b[0m\u001b[0;34m=\u001b[0m\u001b[0mtolerance\u001b[0m\u001b[0;34m)\u001b[0m\u001b[0;34m\u001b[0m\u001b[0m\n",
      "\u001b[0;32mpandas/index.pyx\u001b[0m in \u001b[0;36mpandas.index.IndexEngine.get_loc (pandas/index.c:4433)\u001b[0;34m()\u001b[0m\n",
      "\u001b[0;32mpandas/index.pyx\u001b[0m in \u001b[0;36mpandas.index.IndexEngine.get_loc (pandas/index.c:4279)\u001b[0;34m()\u001b[0m\n",
      "\u001b[0;32mpandas/src/hashtable_class_helper.pxi\u001b[0m in \u001b[0;36mpandas.hashtable.PyObjectHashTable.get_item (pandas/hashtable.c:13742)\u001b[0;34m()\u001b[0m\n",
      "\u001b[0;32mpandas/src/hashtable_class_helper.pxi\u001b[0m in \u001b[0;36mpandas.hashtable.PyObjectHashTable.get_item (pandas/hashtable.c:13696)\u001b[0;34m()\u001b[0m\n",
      "\u001b[0;31mKeyError\u001b[0m: 'ICDCodes'"
     ]
    }
   ],
   "source": [
    "M05_sub = create_cohort(['M05'])\n",
    "M05_sub.head()"
   ]
  },
  {
   "cell_type": "code",
   "execution_count": 730,
   "metadata": {
    "collapsed": false
   },
   "outputs": [
    {
     "data": {
      "text/plain": [
       "<matplotlib.axes._subplots.AxesSubplot at 0x12aa2c240>"
      ]
     },
     "execution_count": 730,
     "metadata": {},
     "output_type": "execute_result"
    },
    {
     "data": {
      "image/png": "[encoded data removed]",
      "text/plain": [
       "<matplotlib.figure.Figure at 0x12aa2c048>"
      ]
     },
     "metadata": {},
     "output_type": "display_data"
    }
   ],
   "source": [
    "M05_sub.ICDCodes.value_counts()[2:20].plot(kind='barh')"
   ]
  },
  {
   "cell_type": "code",
   "execution_count": 731,
   "metadata": {
    "collapsed": true
   },
   "outputs": [],
   "source": [
    "from pivottablejs import pivot_ui"
   ]
  },
  {
   "cell_type": "code",
   "execution_count": null,
   "metadata": {
    "collapsed": false
   },
   "outputs": [],
   "source": [
    "pivot_ui(M05_sub)"
   ]
  },
  {
   "cell_type": "markdown",
   "metadata": {},
   "source": [
    "## 52% of patients in the Rheumatoid Arthritis cohort have some form of Neoplasms"
   ]
  },
  {
   "cell_type": "code",
   "execution_count": null,
   "metadata": {
    "collapsed": true
   },
   "outputs": [],
   "source": []
  },
  {
   "cell_type": "markdown",
   "metadata": {},
   "source": [
    "## Comorbidities of Rheumatoid Arthritis patients over time"
   ]
  },
  {
   "cell_type": "code",
   "execution_count": null,
   "metadata": {
    "collapsed": false
   },
   "outputs": [],
   "source": [
    "pivot_ui(M05_sub)"
   ]
  },
  {
   "cell_type": "markdown",
   "metadata": {},
   "source": [
    "## Diabetes cohort"
   ]
  },
  {
   "cell_type": "code",
   "execution_count": null,
   "metadata": {
    "collapsed": false,
    "extensions": {
     "jupyter_dashboards": {
      "version": 1,
      "views": {
       "grid_default": {
        "col": 0,
        "height": 77,
        "hidden": true,
        "row": 237,
        "width": 4
       },
       "report_default": {}
      }
     }
    }
   },
   "outputs": [],
   "source": [
    "diabetes_cohort = create_cohort(['E08', 'E09', 'E10', 'E11', 'E12', 'E13'])\n",
    "diabetes_cohort.head()"
   ]
  },
  {
   "cell_type": "code",
   "execution_count": null,
   "metadata": {
    "collapsed": false,
    "extensions": {
     "jupyter_dashboards": {
      "version": 1,
      "views": {
       "grid_default": {
        "hidden": true
       },
       "report_default": {}
      }
     }
    }
   },
   "outputs": [],
   "source": [
    "pivot_ui(diabetes_cohort)"
   ]
  },
  {
   "cell_type": "code",
   "execution_count": null,
   "metadata": {
    "collapsed": false,
    "extensions": {
     "jupyter_dashboards": {
      "version": 1,
      "views": {
       "grid_default": {
        "col": 8,
        "height": 28,
        "hidden": true,
        "row": 223,
        "width": 4
       },
       "report_default": {}
      }
     }
    }
   },
   "outputs": [],
   "source": [
    "copd_cohort = create_cohort(['J44'])\n",
    "copd_cohort.head()"
   ]
  },
  {
   "cell_type": "markdown",
   "metadata": {},
   "source": [
    "## COPD cohort"
   ]
  },
  {
   "cell_type": "code",
   "execution_count": null,
   "metadata": {
    "collapsed": false
   },
   "outputs": [],
   "source": [
    "pivot_ui(copd_cohort)"
   ]
  },
  {
   "cell_type": "markdown",
   "metadata": {},
   "source": [
    "## Atrial Fibrication Cohort"
   ]
  },
  {
   "cell_type": "code",
   "execution_count": null,
   "metadata": {
    "collapsed": false,
    "extensions": {
     "jupyter_dashboards": {
      "version": 1,
      "views": {
       "grid_default": {
        "hidden": true
       },
       "report_default": {}
      }
     }
    }
   },
   "outputs": [],
   "source": [
    "af_cohort = create_cohort(['I48'])\n",
    "af_cohort.head()"
   ]
  },
  {
   "cell_type": "markdown",
   "metadata": {
    "extensions": {
     "jupyter_dashboards": {
      "version": 1,
      "views": {
       "grid_default": {
        "col": 0,
        "height": 4,
        "hidden": false,
        "row": 0,
        "width": 4
       },
       "report_default": {}
      }
     }
    }
   },
   "source": [
    "<script src=\"https://npmcdn.com/jupyter-js-widgets@~1.2.0/dist/embed.js\"></script><script type=\"application/vnd.jupyter-embedded-widgets\">{}</script>"
   ]
  },
  {
   "cell_type": "code",
   "execution_count": null,
   "metadata": {
    "collapsed": false
   },
   "outputs": [],
   "source": [
    "M05_a['date_delta'] = M05_a['date_delta'].astype(int)"
   ]
  },
  {
   "cell_type": "code",
   "execution_count": null,
   "metadata": {
    "collapsed": false,
    "extensions": {
     "jupyter_dashboards": {
      "version": 1,
      "views": {
       "grid_default": {
        "hidden": true
       },
       "report_default": {}
      }
     }
    }
   },
   "outputs": [],
   "source": []
  },
  {
   "cell_type": "code",
   "execution_count": 741,
   "metadata": {
    "collapsed": false,
    "extensions": {
     "jupyter_dashboards": {
      "version": 1,
      "views": {
       "grid_default": {
        "hidden": true
       },
       "report_default": {}
      }
     }
    }
   },
   "outputs": [
    {
     "data": {
      "text/html": [
       "\n",
       "        <iframe\n",
       "            width=\"100%\"\n",
       "            height=\"500\"\n",
       "            src=\"pivottablejs.html\"\n",
       "            frameborder=\"0\"\n",
       "            allowfullscreen\n",
       "        ></iframe>\n",
       "        "
      ],
      "text/plain": [
       "<IPython.lib.display.IFrame at 0x12aad0f28>"
      ]
     },
     "execution_count": 741,
     "metadata": {},
     "output_type": "execute_result"
    }
   ],
   "source": [
    "pivot_ui(diagnoses)"
   ]
  },
  {
   "cell_type": "code",
   "execution_count": null,
   "metadata": {
    "collapsed": false,
    "extensions": {
     "jupyter_dashboards": {
      "version": 1,
      "views": {
       "grid_default": {
        "hidden": true
       },
       "report_default": {}
      }
     }
    }
   },
   "outputs": [],
   "source": [
    "pivot_ui(M05_a)"
   ]
  },
  {
   "cell_type": "code",
   "execution_count": null,
   "metadata": {
    "collapsed": false
   },
   "outputs": [],
   "source": [
    "lab_meta_prot_and_mch = create_cohort(labNames = ['METABOLIC: TOTAL PROTEIN','CBC: MCH'])\n",
    "lab_meta_prot_and_mch.head()"
   ]
  },
  {
   "cell_type": "code",
   "execution_count": null,
   "metadata": {
    "collapsed": false
   },
   "outputs": [],
   "source": [
    "pivot_ui(lab_meta_prot_and_mch)"
   ]
  },
  {
   "cell_type": "code",
   "execution_count": null,
   "metadata": {
    "collapsed": true
   },
   "outputs": [],
   "source": []
  }
 ],
 "metadata": {
  "extensions": {
   "jupyter_dashboards": {
    "activeView": "grid_default",
    "version": 1,
    "views": {
     "grid_default": {
      "cellMargin": 10,
      "defaultCellHeight": 20,
      "maxColumns": 12,
      "name": "grid",
      "type": "grid"
     },
     "report_default": {
      "name": "report",
      "type": "report"
     }
    }
   }
  },
  "kernelspec": {
   "display_name": "Python 3",
   "language": "python",
   "name": "python3"
  },
  "language_info": {
   "codemirror_mode": {
    "name": "ipython",
    "version": 3
   },
   "file_extension": ".py",
   "mimetype": "text/x-python",
   "name": "python",
   "nbconvert_exporter": "python",
   "pygments_lexer": "ipython3",
   "version": "3.6.0"
  }
 },
 "nbformat": 4,
 "nbformat_minor": 2
}
